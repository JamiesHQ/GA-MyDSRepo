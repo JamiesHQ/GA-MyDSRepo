{
 "cells": [
  {
   "cell_type": "markdown",
   "metadata": {},
   "source": [
    "### Classfication\n",
    "\n",
    "+ Today we'll be working with the Iris dataset\n",
    "+ First we'll explore\n",
    "+ Then we'll build a terrible classifer\n",
    "+ Then we'll build a KNN classifer!"
   ]
  },
  {
   "cell_type": "code",
   "execution_count": 65,
   "metadata": {
    "collapsed": false
   },
   "outputs": [
    {
     "data": {
      "text/html": [
       "<div>\n",
       "<table border=\"1\" class=\"dataframe\">\n",
       "  <thead>\n",
       "    <tr style=\"text-align: right;\">\n",
       "      <th></th>\n",
       "      <th>sepal length (cm)</th>\n",
       "      <th>sepal width (cm)</th>\n",
       "      <th>petal length (cm)</th>\n",
       "      <th>petal width (cm)</th>\n",
       "      <th>target</th>\n",
       "    </tr>\n",
       "  </thead>\n",
       "  <tbody>\n",
       "    <tr>\n",
       "      <th>0</th>\n",
       "      <td>5.1</td>\n",
       "      <td>3.5</td>\n",
       "      <td>1.4</td>\n",
       "      <td>0.2</td>\n",
       "      <td>0</td>\n",
       "    </tr>\n",
       "    <tr>\n",
       "      <th>1</th>\n",
       "      <td>4.9</td>\n",
       "      <td>3.0</td>\n",
       "      <td>1.4</td>\n",
       "      <td>0.2</td>\n",
       "      <td>0</td>\n",
       "    </tr>\n",
       "    <tr>\n",
       "      <th>2</th>\n",
       "      <td>4.7</td>\n",
       "      <td>3.2</td>\n",
       "      <td>1.3</td>\n",
       "      <td>0.2</td>\n",
       "      <td>0</td>\n",
       "    </tr>\n",
       "    <tr>\n",
       "      <th>3</th>\n",
       "      <td>4.6</td>\n",
       "      <td>3.1</td>\n",
       "      <td>1.5</td>\n",
       "      <td>0.2</td>\n",
       "      <td>0</td>\n",
       "    </tr>\n",
       "    <tr>\n",
       "      <th>4</th>\n",
       "      <td>5.0</td>\n",
       "      <td>3.6</td>\n",
       "      <td>1.4</td>\n",
       "      <td>0.2</td>\n",
       "      <td>0</td>\n",
       "    </tr>\n",
       "  </tbody>\n",
       "</table>\n",
       "</div>"
      ],
      "text/plain": [
       "   sepal length (cm)  sepal width (cm)  petal length (cm)  petal width (cm)  \\\n",
       "0                5.1               3.5                1.4               0.2   \n",
       "1                4.9               3.0                1.4               0.2   \n",
       "2                4.7               3.2                1.3               0.2   \n",
       "3                4.6               3.1                1.5               0.2   \n",
       "4                5.0               3.6                1.4               0.2   \n",
       "\n",
       "   target  \n",
       "0       0  \n",
       "1       0  \n",
       "2       0  \n",
       "3       0  \n",
       "4       0  "
      ]
     },
     "execution_count": 65,
     "metadata": {},
     "output_type": "execute_result"
    }
   ],
   "source": [
    "from sklearn import datasets, neighbors, metrics\n",
    "import pandas as pd\n",
    "import seaborn as sns\n",
    "\n",
    "%matplotlib inline\n",
    "\n",
    "iris = datasets.load_iris()\n",
    "irisdf = pd.DataFrame(iris.data, columns=iris.feature_names)\n",
    "irisdf['target'] = iris.target\n",
    "\n",
    "irisdf.head()"
   ]
  },
  {
   "cell_type": "code",
   "execution_count": 49,
   "metadata": {
    "collapsed": false
   },
   "outputs": [
    {
     "data": {
      "text/plain": [
       "2    50\n",
       "1    50\n",
       "0    50\n",
       "Name: target, dtype: int64"
      ]
     },
     "execution_count": 49,
     "metadata": {},
     "output_type": "execute_result"
    }
   ],
   "source": [
    "#added in class:\n",
    "irisdf.target.value_counts()"
   ]
  },
  {
   "cell_type": "code",
   "execution_count": 50,
   "metadata": {
    "collapsed": false
   },
   "outputs": [
    {
     "name": "stdout",
     "output_type": "stream",
     "text": [
      "       sepal length (cm)  sepal width (cm)  petal length (cm)  \\\n",
      "count         150.000000        150.000000         150.000000   \n",
      "mean            5.843333          3.054000           3.758667   \n",
      "std             0.828066          0.433594           1.764420   \n",
      "min             4.300000          2.000000           1.000000   \n",
      "25%             5.100000          2.800000           1.600000   \n",
      "50%             5.800000          3.000000           4.350000   \n",
      "75%             6.400000          3.300000           5.100000   \n",
      "max             7.900000          4.400000           6.900000   \n",
      "\n",
      "       petal width (cm)      target  \n",
      "count        150.000000  150.000000  \n",
      "mean           1.198667    1.000000  \n",
      "std            0.763161    0.819232  \n",
      "min            0.100000    0.000000  \n",
      "25%            0.300000    0.000000  \n",
      "50%            1.300000    1.000000  \n",
      "75%            1.800000    2.000000  \n",
      "max            2.500000    2.000000  \n"
     ]
    },
    {
     "data": {
      "text/plain": [
       "<matplotlib.axes._subplots.AxesSubplot at 0x11d113950>"
      ]
     },
     "execution_count": 50,
     "metadata": {},
     "output_type": "execute_result"
    },
    {
     "data": {
      "image/png": "[encoded data removed]",
      "text/plain": [
       "<matplotlib.figure.Figure at 0x11cf721d0>"
      ]
     },
     "metadata": {},
     "output_type": "display_data"
    }
   ],
   "source": [
    "#print irisdf.plot('petal length (cm)', 'petal width (cm)', kind='scatter', c=irisdf.ctarget)\n",
    "#good practice for bringing up data set for first time\n",
    "print irisdf.describe()\n",
    "\n",
    "\n",
    "cmap = {'0': 'r', '1': 'g', '2': 'b' }\n",
    "#what is this^^?\n",
    "\n",
    "irisdf['ctarget'] = irisdf.target.apply(lambda x: cmap[str(x)])\n",
    "\n",
    "irisdf.plot('petal length (cm)', 'petal width (cm)', kind='scatter', c=irisdf.ctarget)\n",
    "\n"
   ]
  },
  {
   "cell_type": "markdown",
   "metadata": {},
   "source": [
    "### Let's make a dumb classifier\n",
    "\n",
    "+ This is not a good classifier\n",
    "+ It's to illustrate the idea of classifiers\n",
    "+ When will we make a good one? Later, I promise\n",
    "\n",
    "+ For now, let's investigate using the quantile function"
   ]
  },
  {
   "cell_type": "code",
   "execution_count": 51,
   "metadata": {
    "collapsed": false
   },
   "outputs": [
    {
     "name": "stdout",
     "output_type": "stream",
     "text": [
      "6.9\n",
      "6.9\n",
      "4.834\n",
      "2.087\n"
     ]
    }
   ],
   "source": [
    "print irisdf['petal length (cm)'].quantile(1.00)\n",
    "##handy fn that lets u chop up data into quantiles\n",
    "print irisdf['petal length (cm)'].max()\n",
    "print irisdf['petal length (cm)'].quantile(0.66)\n",
    "print irisdf['petal length (cm)'].quantile(0.33)\n",
    "#^^for tertiles .66 & .33\n",
    "#output indicates 2.07 which corresponds to x = 2 which may may a nice cut point, so we'll build a classifier that says if \n",
    "# the row of petal legth < 2, then iris 0 (zero)\n",
    "# take the data, make a cut"
   ]
  },
  {
   "cell_type": "code",
   "execution_count": 52,
   "metadata": {
    "collapsed": true
   },
   "outputs": [],
   "source": [
    "def my_classifier(row):\n",
    "    if row['petal length (cm)'] < 2:\n",
    "        return 0\n",
    "    else:\n",
    "        return 1\n",
    "    \n",
    "predictions = irisdf.apply(my_classifier, axis=1)"
   ]
  },
  {
   "cell_type": "markdown",
   "metadata": {},
   "source": [
    "I need him to go through this and what's happening below  \n",
    "it's terrible b/c its just a guess, not machine learning. "
   ]
  },
  {
   "cell_type": "markdown",
   "metadata": {},
   "source": [
    "## So, how did we do?"
   ]
  },
  {
   "cell_type": "code",
   "execution_count": 53,
   "metadata": {
    "collapsed": false
   },
   "outputs": [
    {
     "name": "stdout",
     "output_type": "stream",
     "text": [
      "0.666666666667\n"
     ]
    }
   ],
   "source": [
    "irisdf['predictions'] = predictions\n",
    "\n",
    "print float(len(irisdf[irisdf.target == irisdf.predictions])) / len(irisdf)"
   ]
  },
  {
   "cell_type": "code",
   "execution_count": 54,
   "metadata": {
    "collapsed": true
   },
   "outputs": [],
   "source": [
    "#66% correct is not so bad!"
   ]
  },
  {
   "cell_type": "markdown",
   "metadata": {},
   "source": [
    "### Chopping up a linear variable"
   ]
  },
  {
   "cell_type": "code",
   "execution_count": 55,
   "metadata": {
    "collapsed": false
   },
   "outputs": [],
   "source": [
    "Q3 = irisdf['petal length (cm)'].quantile(0.75)\n",
    "Q2 = irisdf['petal length (cm)'].quantile(0.50)\n",
    "Q1 = irisdf['petal length (cm)'].quantile(0.25)\n",
    "\n",
    "irisdf.loc[\"Quartile\"] = 0\n",
    "\n",
    "irisdf.loc[irisdf['petal length (cm)']>Q3, 'Quartile'] = \"Q4\"\n",
    "irisdf.loc[(irisdf['petal length (cm)']>Q2)&(irisdf['petal length (cm)']<=Q3), 'Quartile'] = \"Q3\"\n",
    "irisdf.loc[(irisdf['petal length (cm)']>Q1)&(irisdf['petal length (cm)']<=Q2), 'Quartile'] = \"Q2\"\n",
    "irisdf.loc[irisdf['petal length (cm)']<=Q1, 'Quartile'] = \"Q1\""
   ]
  },
  {
   "cell_type": "code",
   "execution_count": 56,
   "metadata": {
    "collapsed": false
   },
   "outputs": [
    {
     "data": {
      "text/html": [
       "<div>\n",
       "<table border=\"1\" class=\"dataframe\">\n",
       "  <thead>\n",
       "    <tr style=\"text-align: right;\">\n",
       "      <th></th>\n",
       "      <th>sepal length (cm)</th>\n",
       "      <th>sepal width (cm)</th>\n",
       "      <th>petal length (cm)</th>\n",
       "      <th>petal width (cm)</th>\n",
       "      <th>target</th>\n",
       "      <th>ctarget</th>\n",
       "      <th>predictions</th>\n",
       "      <th>Quartile</th>\n",
       "    </tr>\n",
       "  </thead>\n",
       "  <tbody>\n",
       "    <tr>\n",
       "      <th>0</th>\n",
       "      <td>5.1</td>\n",
       "      <td>3.5</td>\n",
       "      <td>1.4</td>\n",
       "      <td>0.2</td>\n",
       "      <td>0</td>\n",
       "      <td>r</td>\n",
       "      <td>0</td>\n",
       "      <td>Q1</td>\n",
       "    </tr>\n",
       "    <tr>\n",
       "      <th>1</th>\n",
       "      <td>4.9</td>\n",
       "      <td>3.0</td>\n",
       "      <td>1.4</td>\n",
       "      <td>0.2</td>\n",
       "      <td>0</td>\n",
       "      <td>r</td>\n",
       "      <td>0</td>\n",
       "      <td>Q1</td>\n",
       "    </tr>\n",
       "    <tr>\n",
       "      <th>2</th>\n",
       "      <td>4.7</td>\n",
       "      <td>3.2</td>\n",
       "      <td>1.3</td>\n",
       "      <td>0.2</td>\n",
       "      <td>0</td>\n",
       "      <td>r</td>\n",
       "      <td>0</td>\n",
       "      <td>Q1</td>\n",
       "    </tr>\n",
       "    <tr>\n",
       "      <th>3</th>\n",
       "      <td>4.6</td>\n",
       "      <td>3.1</td>\n",
       "      <td>1.5</td>\n",
       "      <td>0.2</td>\n",
       "      <td>0</td>\n",
       "      <td>r</td>\n",
       "      <td>0</td>\n",
       "      <td>Q1</td>\n",
       "    </tr>\n",
       "    <tr>\n",
       "      <th>4</th>\n",
       "      <td>5.0</td>\n",
       "      <td>3.6</td>\n",
       "      <td>1.4</td>\n",
       "      <td>0.2</td>\n",
       "      <td>0</td>\n",
       "      <td>r</td>\n",
       "      <td>0</td>\n",
       "      <td>Q1</td>\n",
       "    </tr>\n",
       "    <tr>\n",
       "      <th>6</th>\n",
       "      <td>4.6</td>\n",
       "      <td>3.4</td>\n",
       "      <td>1.4</td>\n",
       "      <td>0.3</td>\n",
       "      <td>0</td>\n",
       "      <td>r</td>\n",
       "      <td>0</td>\n",
       "      <td>Q1</td>\n",
       "    </tr>\n",
       "    <tr>\n",
       "      <th>7</th>\n",
       "      <td>5.0</td>\n",
       "      <td>3.4</td>\n",
       "      <td>1.5</td>\n",
       "      <td>0.2</td>\n",
       "      <td>0</td>\n",
       "      <td>r</td>\n",
       "      <td>0</td>\n",
       "      <td>Q1</td>\n",
       "    </tr>\n",
       "    <tr>\n",
       "      <th>8</th>\n",
       "      <td>4.4</td>\n",
       "      <td>2.9</td>\n",
       "      <td>1.4</td>\n",
       "      <td>0.2</td>\n",
       "      <td>0</td>\n",
       "      <td>r</td>\n",
       "      <td>0</td>\n",
       "      <td>Q1</td>\n",
       "    </tr>\n",
       "    <tr>\n",
       "      <th>9</th>\n",
       "      <td>4.9</td>\n",
       "      <td>3.1</td>\n",
       "      <td>1.5</td>\n",
       "      <td>0.1</td>\n",
       "      <td>0</td>\n",
       "      <td>r</td>\n",
       "      <td>0</td>\n",
       "      <td>Q1</td>\n",
       "    </tr>\n",
       "    <tr>\n",
       "      <th>10</th>\n",
       "      <td>5.4</td>\n",
       "      <td>3.7</td>\n",
       "      <td>1.5</td>\n",
       "      <td>0.2</td>\n",
       "      <td>0</td>\n",
       "      <td>r</td>\n",
       "      <td>0</td>\n",
       "      <td>Q1</td>\n",
       "    </tr>\n",
       "    <tr>\n",
       "      <th>11</th>\n",
       "      <td>4.8</td>\n",
       "      <td>3.4</td>\n",
       "      <td>1.6</td>\n",
       "      <td>0.2</td>\n",
       "      <td>0</td>\n",
       "      <td>r</td>\n",
       "      <td>0</td>\n",
       "      <td>Q1</td>\n",
       "    </tr>\n",
       "    <tr>\n",
       "      <th>12</th>\n",
       "      <td>4.8</td>\n",
       "      <td>3.0</td>\n",
       "      <td>1.4</td>\n",
       "      <td>0.1</td>\n",
       "      <td>0</td>\n",
       "      <td>r</td>\n",
       "      <td>0</td>\n",
       "      <td>Q1</td>\n",
       "    </tr>\n",
       "    <tr>\n",
       "      <th>13</th>\n",
       "      <td>4.3</td>\n",
       "      <td>3.0</td>\n",
       "      <td>1.1</td>\n",
       "      <td>0.1</td>\n",
       "      <td>0</td>\n",
       "      <td>r</td>\n",
       "      <td>0</td>\n",
       "      <td>Q1</td>\n",
       "    </tr>\n",
       "    <tr>\n",
       "      <th>14</th>\n",
       "      <td>5.8</td>\n",
       "      <td>4.0</td>\n",
       "      <td>1.2</td>\n",
       "      <td>0.2</td>\n",
       "      <td>0</td>\n",
       "      <td>r</td>\n",
       "      <td>0</td>\n",
       "      <td>Q1</td>\n",
       "    </tr>\n",
       "    <tr>\n",
       "      <th>15</th>\n",
       "      <td>5.7</td>\n",
       "      <td>4.4</td>\n",
       "      <td>1.5</td>\n",
       "      <td>0.4</td>\n",
       "      <td>0</td>\n",
       "      <td>r</td>\n",
       "      <td>0</td>\n",
       "      <td>Q1</td>\n",
       "    </tr>\n",
       "    <tr>\n",
       "      <th>16</th>\n",
       "      <td>5.4</td>\n",
       "      <td>3.9</td>\n",
       "      <td>1.3</td>\n",
       "      <td>0.4</td>\n",
       "      <td>0</td>\n",
       "      <td>r</td>\n",
       "      <td>0</td>\n",
       "      <td>Q1</td>\n",
       "    </tr>\n",
       "    <tr>\n",
       "      <th>17</th>\n",
       "      <td>5.1</td>\n",
       "      <td>3.5</td>\n",
       "      <td>1.4</td>\n",
       "      <td>0.3</td>\n",
       "      <td>0</td>\n",
       "      <td>r</td>\n",
       "      <td>0</td>\n",
       "      <td>Q1</td>\n",
       "    </tr>\n",
       "    <tr>\n",
       "      <th>19</th>\n",
       "      <td>5.1</td>\n",
       "      <td>3.8</td>\n",
       "      <td>1.5</td>\n",
       "      <td>0.3</td>\n",
       "      <td>0</td>\n",
       "      <td>r</td>\n",
       "      <td>0</td>\n",
       "      <td>Q1</td>\n",
       "    </tr>\n",
       "    <tr>\n",
       "      <th>21</th>\n",
       "      <td>5.1</td>\n",
       "      <td>3.7</td>\n",
       "      <td>1.5</td>\n",
       "      <td>0.4</td>\n",
       "      <td>0</td>\n",
       "      <td>r</td>\n",
       "      <td>0</td>\n",
       "      <td>Q1</td>\n",
       "    </tr>\n",
       "    <tr>\n",
       "      <th>22</th>\n",
       "      <td>4.6</td>\n",
       "      <td>3.6</td>\n",
       "      <td>1.0</td>\n",
       "      <td>0.2</td>\n",
       "      <td>0</td>\n",
       "      <td>r</td>\n",
       "      <td>0</td>\n",
       "      <td>Q1</td>\n",
       "    </tr>\n",
       "    <tr>\n",
       "      <th>25</th>\n",
       "      <td>5.0</td>\n",
       "      <td>3.0</td>\n",
       "      <td>1.6</td>\n",
       "      <td>0.2</td>\n",
       "      <td>0</td>\n",
       "      <td>r</td>\n",
       "      <td>0</td>\n",
       "      <td>Q1</td>\n",
       "    </tr>\n",
       "    <tr>\n",
       "      <th>26</th>\n",
       "      <td>5.0</td>\n",
       "      <td>3.4</td>\n",
       "      <td>1.6</td>\n",
       "      <td>0.4</td>\n",
       "      <td>0</td>\n",
       "      <td>r</td>\n",
       "      <td>0</td>\n",
       "      <td>Q1</td>\n",
       "    </tr>\n",
       "    <tr>\n",
       "      <th>27</th>\n",
       "      <td>5.2</td>\n",
       "      <td>3.5</td>\n",
       "      <td>1.5</td>\n",
       "      <td>0.2</td>\n",
       "      <td>0</td>\n",
       "      <td>r</td>\n",
       "      <td>0</td>\n",
       "      <td>Q1</td>\n",
       "    </tr>\n",
       "    <tr>\n",
       "      <th>28</th>\n",
       "      <td>5.2</td>\n",
       "      <td>3.4</td>\n",
       "      <td>1.4</td>\n",
       "      <td>0.2</td>\n",
       "      <td>0</td>\n",
       "      <td>r</td>\n",
       "      <td>0</td>\n",
       "      <td>Q1</td>\n",
       "    </tr>\n",
       "    <tr>\n",
       "      <th>29</th>\n",
       "      <td>4.7</td>\n",
       "      <td>3.2</td>\n",
       "      <td>1.6</td>\n",
       "      <td>0.2</td>\n",
       "      <td>0</td>\n",
       "      <td>r</td>\n",
       "      <td>0</td>\n",
       "      <td>Q1</td>\n",
       "    </tr>\n",
       "    <tr>\n",
       "      <th>30</th>\n",
       "      <td>4.8</td>\n",
       "      <td>3.1</td>\n",
       "      <td>1.6</td>\n",
       "      <td>0.2</td>\n",
       "      <td>0</td>\n",
       "      <td>r</td>\n",
       "      <td>0</td>\n",
       "      <td>Q1</td>\n",
       "    </tr>\n",
       "    <tr>\n",
       "      <th>31</th>\n",
       "      <td>5.4</td>\n",
       "      <td>3.4</td>\n",
       "      <td>1.5</td>\n",
       "      <td>0.4</td>\n",
       "      <td>0</td>\n",
       "      <td>r</td>\n",
       "      <td>0</td>\n",
       "      <td>Q1</td>\n",
       "    </tr>\n",
       "    <tr>\n",
       "      <th>32</th>\n",
       "      <td>5.2</td>\n",
       "      <td>4.1</td>\n",
       "      <td>1.5</td>\n",
       "      <td>0.1</td>\n",
       "      <td>0</td>\n",
       "      <td>r</td>\n",
       "      <td>0</td>\n",
       "      <td>Q1</td>\n",
       "    </tr>\n",
       "    <tr>\n",
       "      <th>33</th>\n",
       "      <td>5.5</td>\n",
       "      <td>4.2</td>\n",
       "      <td>1.4</td>\n",
       "      <td>0.2</td>\n",
       "      <td>0</td>\n",
       "      <td>r</td>\n",
       "      <td>0</td>\n",
       "      <td>Q1</td>\n",
       "    </tr>\n",
       "    <tr>\n",
       "      <th>34</th>\n",
       "      <td>4.9</td>\n",
       "      <td>3.1</td>\n",
       "      <td>1.5</td>\n",
       "      <td>0.1</td>\n",
       "      <td>0</td>\n",
       "      <td>r</td>\n",
       "      <td>0</td>\n",
       "      <td>Q1</td>\n",
       "    </tr>\n",
       "    <tr>\n",
       "      <th>35</th>\n",
       "      <td>5.0</td>\n",
       "      <td>3.2</td>\n",
       "      <td>1.2</td>\n",
       "      <td>0.2</td>\n",
       "      <td>0</td>\n",
       "      <td>r</td>\n",
       "      <td>0</td>\n",
       "      <td>Q1</td>\n",
       "    </tr>\n",
       "    <tr>\n",
       "      <th>36</th>\n",
       "      <td>5.5</td>\n",
       "      <td>3.5</td>\n",
       "      <td>1.3</td>\n",
       "      <td>0.2</td>\n",
       "      <td>0</td>\n",
       "      <td>r</td>\n",
       "      <td>0</td>\n",
       "      <td>Q1</td>\n",
       "    </tr>\n",
       "    <tr>\n",
       "      <th>37</th>\n",
       "      <td>4.9</td>\n",
       "      <td>3.1</td>\n",
       "      <td>1.5</td>\n",
       "      <td>0.1</td>\n",
       "      <td>0</td>\n",
       "      <td>r</td>\n",
       "      <td>0</td>\n",
       "      <td>Q1</td>\n",
       "    </tr>\n",
       "    <tr>\n",
       "      <th>38</th>\n",
       "      <td>4.4</td>\n",
       "      <td>3.0</td>\n",
       "      <td>1.3</td>\n",
       "      <td>0.2</td>\n",
       "      <td>0</td>\n",
       "      <td>r</td>\n",
       "      <td>0</td>\n",
       "      <td>Q1</td>\n",
       "    </tr>\n",
       "    <tr>\n",
       "      <th>39</th>\n",
       "      <td>5.1</td>\n",
       "      <td>3.4</td>\n",
       "      <td>1.5</td>\n",
       "      <td>0.2</td>\n",
       "      <td>0</td>\n",
       "      <td>r</td>\n",
       "      <td>0</td>\n",
       "      <td>Q1</td>\n",
       "    </tr>\n",
       "    <tr>\n",
       "      <th>40</th>\n",
       "      <td>5.0</td>\n",
       "      <td>3.5</td>\n",
       "      <td>1.3</td>\n",
       "      <td>0.3</td>\n",
       "      <td>0</td>\n",
       "      <td>r</td>\n",
       "      <td>0</td>\n",
       "      <td>Q1</td>\n",
       "    </tr>\n",
       "    <tr>\n",
       "      <th>41</th>\n",
       "      <td>4.5</td>\n",
       "      <td>2.3</td>\n",
       "      <td>1.3</td>\n",
       "      <td>0.3</td>\n",
       "      <td>0</td>\n",
       "      <td>r</td>\n",
       "      <td>0</td>\n",
       "      <td>Q1</td>\n",
       "    </tr>\n",
       "    <tr>\n",
       "      <th>42</th>\n",
       "      <td>4.4</td>\n",
       "      <td>3.2</td>\n",
       "      <td>1.3</td>\n",
       "      <td>0.2</td>\n",
       "      <td>0</td>\n",
       "      <td>r</td>\n",
       "      <td>0</td>\n",
       "      <td>Q1</td>\n",
       "    </tr>\n",
       "    <tr>\n",
       "      <th>43</th>\n",
       "      <td>5.0</td>\n",
       "      <td>3.5</td>\n",
       "      <td>1.6</td>\n",
       "      <td>0.6</td>\n",
       "      <td>0</td>\n",
       "      <td>r</td>\n",
       "      <td>0</td>\n",
       "      <td>Q1</td>\n",
       "    </tr>\n",
       "    <tr>\n",
       "      <th>45</th>\n",
       "      <td>4.8</td>\n",
       "      <td>3.0</td>\n",
       "      <td>1.4</td>\n",
       "      <td>0.3</td>\n",
       "      <td>0</td>\n",
       "      <td>r</td>\n",
       "      <td>0</td>\n",
       "      <td>Q1</td>\n",
       "    </tr>\n",
       "    <tr>\n",
       "      <th>46</th>\n",
       "      <td>5.1</td>\n",
       "      <td>3.8</td>\n",
       "      <td>1.6</td>\n",
       "      <td>0.2</td>\n",
       "      <td>0</td>\n",
       "      <td>r</td>\n",
       "      <td>0</td>\n",
       "      <td>Q1</td>\n",
       "    </tr>\n",
       "    <tr>\n",
       "      <th>47</th>\n",
       "      <td>4.6</td>\n",
       "      <td>3.2</td>\n",
       "      <td>1.4</td>\n",
       "      <td>0.2</td>\n",
       "      <td>0</td>\n",
       "      <td>r</td>\n",
       "      <td>0</td>\n",
       "      <td>Q1</td>\n",
       "    </tr>\n",
       "    <tr>\n",
       "      <th>48</th>\n",
       "      <td>5.3</td>\n",
       "      <td>3.7</td>\n",
       "      <td>1.5</td>\n",
       "      <td>0.2</td>\n",
       "      <td>0</td>\n",
       "      <td>r</td>\n",
       "      <td>0</td>\n",
       "      <td>Q1</td>\n",
       "    </tr>\n",
       "    <tr>\n",
       "      <th>49</th>\n",
       "      <td>5.0</td>\n",
       "      <td>3.3</td>\n",
       "      <td>1.4</td>\n",
       "      <td>0.2</td>\n",
       "      <td>0</td>\n",
       "      <td>r</td>\n",
       "      <td>0</td>\n",
       "      <td>Q1</td>\n",
       "    </tr>\n",
       "    <tr>\n",
       "      <th>Quartile</th>\n",
       "      <td>0.0</td>\n",
       "      <td>0.0</td>\n",
       "      <td>0.0</td>\n",
       "      <td>0.0</td>\n",
       "      <td>0</td>\n",
       "      <td>0</td>\n",
       "      <td>0</td>\n",
       "      <td>Q1</td>\n",
       "    </tr>\n",
       "  </tbody>\n",
       "</table>\n",
       "</div>"
      ],
      "text/plain": [
       "          sepal length (cm)  sepal width (cm)  petal length (cm)  \\\n",
       "0                       5.1               3.5                1.4   \n",
       "1                       4.9               3.0                1.4   \n",
       "2                       4.7               3.2                1.3   \n",
       "3                       4.6               3.1                1.5   \n",
       "4                       5.0               3.6                1.4   \n",
       "6                       4.6               3.4                1.4   \n",
       "7                       5.0               3.4                1.5   \n",
       "8                       4.4               2.9                1.4   \n",
       "9                       4.9               3.1                1.5   \n",
       "10                      5.4               3.7                1.5   \n",
       "11                      4.8               3.4                1.6   \n",
       "12                      4.8               3.0                1.4   \n",
       "13                      4.3               3.0                1.1   \n",
       "14                      5.8               4.0                1.2   \n",
       "15                      5.7               4.4                1.5   \n",
       "16                      5.4               3.9                1.3   \n",
       "17                      5.1               3.5                1.4   \n",
       "19                      5.1               3.8                1.5   \n",
       "21                      5.1               3.7                1.5   \n",
       "22                      4.6               3.6                1.0   \n",
       "25                      5.0               3.0                1.6   \n",
       "26                      5.0               3.4                1.6   \n",
       "27                      5.2               3.5                1.5   \n",
       "28                      5.2               3.4                1.4   \n",
       "29                      4.7               3.2                1.6   \n",
       "30                      4.8               3.1                1.6   \n",
       "31                      5.4               3.4                1.5   \n",
       "32                      5.2               4.1                1.5   \n",
       "33                      5.5               4.2                1.4   \n",
       "34                      4.9               3.1                1.5   \n",
       "35                      5.0               3.2                1.2   \n",
       "36                      5.5               3.5                1.3   \n",
       "37                      4.9               3.1                1.5   \n",
       "38                      4.4               3.0                1.3   \n",
       "39                      5.1               3.4                1.5   \n",
       "40                      5.0               3.5                1.3   \n",
       "41                      4.5               2.3                1.3   \n",
       "42                      4.4               3.2                1.3   \n",
       "43                      5.0               3.5                1.6   \n",
       "45                      4.8               3.0                1.4   \n",
       "46                      5.1               3.8                1.6   \n",
       "47                      4.6               3.2                1.4   \n",
       "48                      5.3               3.7                1.5   \n",
       "49                      5.0               3.3                1.4   \n",
       "Quartile                0.0               0.0                0.0   \n",
       "\n",
       "          petal width (cm)  target ctarget  predictions Quartile  \n",
       "0                      0.2       0       r            0       Q1  \n",
       "1                      0.2       0       r            0       Q1  \n",
       "2                      0.2       0       r            0       Q1  \n",
       "3                      0.2       0       r            0       Q1  \n",
       "4                      0.2       0       r            0       Q1  \n",
       "6                      0.3       0       r            0       Q1  \n",
       "7                      0.2       0       r            0       Q1  \n",
       "8                      0.2       0       r            0       Q1  \n",
       "9                      0.1       0       r            0       Q1  \n",
       "10                     0.2       0       r            0       Q1  \n",
       "11                     0.2       0       r            0       Q1  \n",
       "12                     0.1       0       r            0       Q1  \n",
       "13                     0.1       0       r            0       Q1  \n",
       "14                     0.2       0       r            0       Q1  \n",
       "15                     0.4       0       r            0       Q1  \n",
       "16                     0.4       0       r            0       Q1  \n",
       "17                     0.3       0       r            0       Q1  \n",
       "19                     0.3       0       r            0       Q1  \n",
       "21                     0.4       0       r            0       Q1  \n",
       "22                     0.2       0       r            0       Q1  \n",
       "25                     0.2       0       r            0       Q1  \n",
       "26                     0.4       0       r            0       Q1  \n",
       "27                     0.2       0       r            0       Q1  \n",
       "28                     0.2       0       r            0       Q1  \n",
       "29                     0.2       0       r            0       Q1  \n",
       "30                     0.2       0       r            0       Q1  \n",
       "31                     0.4       0       r            0       Q1  \n",
       "32                     0.1       0       r            0       Q1  \n",
       "33                     0.2       0       r            0       Q1  \n",
       "34                     0.1       0       r            0       Q1  \n",
       "35                     0.2       0       r            0       Q1  \n",
       "36                     0.2       0       r            0       Q1  \n",
       "37                     0.1       0       r            0       Q1  \n",
       "38                     0.2       0       r            0       Q1  \n",
       "39                     0.2       0       r            0       Q1  \n",
       "40                     0.3       0       r            0       Q1  \n",
       "41                     0.3       0       r            0       Q1  \n",
       "42                     0.2       0       r            0       Q1  \n",
       "43                     0.6       0       r            0       Q1  \n",
       "45                     0.3       0       r            0       Q1  \n",
       "46                     0.2       0       r            0       Q1  \n",
       "47                     0.2       0       r            0       Q1  \n",
       "48                     0.2       0       r            0       Q1  \n",
       "49                     0.2       0       r            0       Q1  \n",
       "Quartile               0.0       0       0            0       Q1  "
      ]
     },
     "execution_count": 56,
     "metadata": {},
     "output_type": "execute_result"
    }
   ],
   "source": [
    "irisdf.loc[irisdf['petal length (cm)']<=Q1]"
   ]
  },
  {
   "cell_type": "markdown",
   "metadata": {},
   "source": [
    "### In Class Exercise \n",
    "\n",
    "+ Work on improving the classifier below.\n",
    "\n",
    "+ Could we add another cutoff to fix our mediocre classifier? \n",
    "\n",
    "+ What is missing below? "
   ]
  },
  {
   "cell_type": "code",
   "execution_count": 57,
   "metadata": {
    "collapsed": false
   },
   "outputs": [
    {
     "name": "stdout",
     "output_type": "stream",
     "text": [
      "0.668874172185\n"
     ]
    }
   ],
   "source": [
    "def my_classifier(row):\n",
    "    if row['petal length (cm)'] < 2:\n",
    "        return 0\n",
    "    else:\n",
    "        return 2\n",
    "\n",
    "predictions = irisdf.apply(my_classifier, axis=1)\n",
    "\n",
    "irisdf['predictions'] = predictions\n",
    "\n",
    "print float(len(irisdf[irisdf.target == irisdf.predictions])) / len(irisdf)"
   ]
  },
  {
   "cell_type": "markdown",
   "metadata": {},
   "source": [
    "### Using distance: KNN implementation"
   ]
  },
  {
   "cell_type": "code",
   "execution_count": 58,
   "metadata": {
    "collapsed": false
   },
   "outputs": [
    {
     "name": "stdout",
     "output_type": "stream",
     "text": [
      "0.96\n"
     ]
    }
   ],
   "source": [
    "from sklearn import datasets, neighbors, metrics\n",
    "import pandas as pd\n",
    "\n",
    "iris = datasets.load_iris()\n",
    "\n",
    "# n_neighbors is our option in KNN. We'll tune this value to attempt to improve our prediction.\n",
    "knn = neighbors.KNeighborsClassifier(n_neighbors=5, weights='uniform')\n",
    "knn.fit(iris.data[:,2:], iris.target)\n",
    "\n",
    "print knn.score(iris.data[:,2:], iris.target)"
   ]
  },
  {
   "cell_type": "markdown",
   "metadata": {},
   "source": [
    "### But what does this score look like? \n",
    "\n",
    "+ Lets print out the raw outcome var vs predicted outcome"
   ]
  },
  {
   "cell_type": "code",
   "execution_count": 59,
   "metadata": {
    "collapsed": false
   },
   "outputs": [
    {
     "name": "stdout",
     "output_type": "stream",
     "text": [
      "predicted outcome [0 0 0 0 0 0 0 0 0 0 0 0 0 0 0 0 0 0 0 0 0 0 0 0 0 0 0 0 0 0 0 0 0 0 0 0 0\n",
      " 0 0 0 0 0 0 0 0 0 0 0 0 0 1 1 1 1 1 1 1 1 1 1 1 1 1 1 1 1 1 1 1 1 2 1 1 1\n",
      " 1 1 1 2 1 1 1 1 1 2 1 1 1 1 1 1 1 1 1 1 1 1 1 1 1 1 2 2 2 2 2 2 1 2 2 2 2\n",
      " 2 2 2 2 2 2 2 2 1 2 2 2 2 2 2 2 2 2 2 2 2 2 1 2 2 2 2 2 2 2 2 2 2 2 2 2 2\n",
      " 2 2]\n",
      "observed outcome [0 0 0 0 0 0 0 0 0 0 0 0 0 0 0 0 0 0 0 0 0 0 0 0 0 0 0 0 0 0 0 0 0 0 0 0 0\n",
      " 0 0 0 0 0 0 0 0 0 0 0 0 0 1 1 1 1 1 1 1 1 1 1 1 1 1 1 1 1 1 1 1 1 1 1 1 1\n",
      " 1 1 1 1 1 1 1 1 1 1 1 1 1 1 1 1 1 1 1 1 1 1 1 1 1 1 2 2 2 2 2 2 2 2 2 2 2\n",
      " 2 2 2 2 2 2 2 2 2 2 2 2 2 2 2 2 2 2 2 2 2 2 2 2 2 2 2 2 2 2 2 2 2 2 2 2 2\n",
      " 2 2]\n"
     ]
    }
   ],
   "source": [
    "print \"predicted outcome\", knn.predict(iris.data[:,2:])\n",
    "print \"observed outcome\", iris.target\n"
   ]
  },
  {
   "cell_type": "markdown",
   "metadata": {},
   "source": [
    "## Do we see a change in performance when using the distance weight?"
   ]
  },
  {
   "cell_type": "code",
   "execution_count": 60,
   "metadata": {
    "collapsed": false
   },
   "outputs": [
    {
     "name": "stdout",
     "output_type": "stream",
     "text": [
      "0.993333333333\n"
     ]
    }
   ],
   "source": [
    "knn = neighbors.KNeighborsClassifier(n_neighbors=5, weights='distance') # add in the weights parameter here\n",
    "knn.fit(iris.data[:,2:], iris.target)\n",
    "#print knn.predict(iris.data[:,2:])\n",
    "#print iris.target\n",
    "\n",
    "print knn.score(iris.data[:,2:], iris.target)"
   ]
  },
  {
   "cell_type": "markdown",
   "metadata": {},
   "source": [
    "### Solution to solving K\n",
    "\n",
    "This is only one approach to the problem, but adding in the 'distance' parameter (instead of uniform) would only be additive. Note the code would need some editing to handle it properly if done in the grid search; alternatively, make the change directly in the estimator."
   ]
  },
  {
   "cell_type": "code",
   "execution_count": 61,
   "metadata": {
    "collapsed": false
   },
   "outputs": [
    {
     "data": {
      "text/plain": [
       "151"
      ]
     },
     "execution_count": 61,
     "metadata": {},
     "output_type": "execute_result"
    }
   ],
   "source": [
    "len(irisdf)"
   ]
  },
  {
   "cell_type": "code",
   "execution_count": 66,
   "metadata": {
    "collapsed": false
   },
   "outputs": [
    {
     "data": {
      "text/plain": [
       "[mean: 0.92667, std: 0.06799, params: {'n_neighbors': 1},\n",
       " mean: 0.90667, std: 0.09752, params: {'n_neighbors': 2},\n",
       " mean: 0.90667, std: 0.09286, params: {'n_neighbors': 3},\n",
       " mean: 0.90667, std: 0.09286, params: {'n_neighbors': 4},\n",
       " mean: 0.91333, std: 0.08327, params: {'n_neighbors': 5},\n",
       " mean: 0.90667, std: 0.09286, params: {'n_neighbors': 6},\n",
       " mean: 0.92000, std: 0.08589, params: {'n_neighbors': 7},\n",
       " mean: 0.91333, std: 0.08844, params: {'n_neighbors': 8},\n",
       " mean: 0.92000, std: 0.09092, params: {'n_neighbors': 9},\n",
       " mean: 0.92000, std: 0.09092, params: {'n_neighbors': 10},\n",
       " mean: 0.91333, std: 0.08589, params: {'n_neighbors': 11},\n",
       " mean: 0.89333, std: 0.10625, params: {'n_neighbors': 12},\n",
       " mean: 0.90667, std: 0.08273, params: {'n_neighbors': 13},\n",
       " mean: 0.90000, std: 0.09428, params: {'n_neighbors': 14},\n",
       " mean: 0.90000, std: 0.09428, params: {'n_neighbors': 15},\n",
       " mean: 0.88667, std: 0.11851, params: {'n_neighbors': 16},\n",
       " mean: 0.88000, std: 0.12754, params: {'n_neighbors': 17},\n",
       " mean: 0.86667, std: 0.12111, params: {'n_neighbors': 18},\n",
       " mean: 0.88667, std: 0.11662, params: {'n_neighbors': 19},\n",
       " mean: 0.86667, std: 0.13499, params: {'n_neighbors': 20},\n",
       " mean: 0.86667, std: 0.13499, params: {'n_neighbors': 21},\n",
       " mean: 0.86667, std: 0.13499, params: {'n_neighbors': 22},\n",
       " mean: 0.86667, std: 0.13499, params: {'n_neighbors': 23},\n",
       " mean: 0.84667, std: 0.17075, params: {'n_neighbors': 24},\n",
       " mean: 0.86000, std: 0.14667, params: {'n_neighbors': 25},\n",
       " mean: 0.84667, std: 0.17075, params: {'n_neighbors': 26},\n",
       " mean: 0.84667, std: 0.15434, params: {'n_neighbors': 27},\n",
       " mean: 0.82000, std: 0.18809, params: {'n_neighbors': 28},\n",
       " mean: 0.80000, std: 0.19437, params: {'n_neighbors': 29},\n",
       " mean: 0.78667, std: 0.21250, params: {'n_neighbors': 30},\n",
       " mean: 0.77333, std: 0.21848, params: {'n_neighbors': 31},\n",
       " mean: 0.74000, std: 0.27520, params: {'n_neighbors': 32},\n",
       " mean: 0.75333, std: 0.26043, params: {'n_neighbors': 33},\n",
       " mean: 0.72000, std: 0.30155, params: {'n_neighbors': 34},\n",
       " mean: 0.69333, std: 0.31510, params: {'n_neighbors': 35},\n",
       " mean: 0.68000, std: 0.33506, params: {'n_neighbors': 36},\n",
       " mean: 0.68667, std: 0.30955, params: {'n_neighbors': 37},\n",
       " mean: 0.64000, std: 0.38320, params: {'n_neighbors': 38},\n",
       " mean: 0.64000, std: 0.38320, params: {'n_neighbors': 39},\n",
       " mean: 0.64000, std: 0.38320, params: {'n_neighbors': 40},\n",
       " mean: 0.38667, std: 0.42248, params: {'n_neighbors': 41},\n",
       " mean: 0.37333, std: 0.43123, params: {'n_neighbors': 42},\n",
       " mean: 0.37333, std: 0.43123, params: {'n_neighbors': 43},\n",
       " mean: 0.37333, std: 0.43123, params: {'n_neighbors': 44},\n",
       " mean: 0.37333, std: 0.43123, params: {'n_neighbors': 45},\n",
       " mean: 0.37333, std: 0.43123, params: {'n_neighbors': 46},\n",
       " mean: 0.37333, std: 0.43123, params: {'n_neighbors': 47},\n",
       " mean: 0.36000, std: 0.41655, params: {'n_neighbors': 48},\n",
       " mean: 0.36000, std: 0.41655, params: {'n_neighbors': 49},\n",
       " mean: 0.36000, std: 0.41655, params: {'n_neighbors': 50},\n",
       " mean: 0.36000, std: 0.42864, params: {'n_neighbors': 51},\n",
       " mean: 0.34667, std: 0.42667, params: {'n_neighbors': 52},\n",
       " mean: 0.34667, std: 0.42667, params: {'n_neighbors': 53},\n",
       " mean: 0.33333, std: 0.41312, params: {'n_neighbors': 54},\n",
       " mean: 0.34667, std: 0.42667, params: {'n_neighbors': 55},\n",
       " mean: 0.32000, std: 0.40089, params: {'n_neighbors': 56},\n",
       " mean: 0.32667, std: 0.40683, params: {'n_neighbors': 57},\n",
       " mean: 0.32000, std: 0.40089, params: {'n_neighbors': 58},\n",
       " mean: 0.32667, std: 0.40683, params: {'n_neighbors': 59},\n",
       " mean: 0.24667, std: 0.36246, params: {'n_neighbors': 60},\n",
       " mean: 0.20667, std: 0.28783, params: {'n_neighbors': 61},\n",
       " mean: 0.10667, std: 0.13233, params: {'n_neighbors': 62},\n",
       " mean: 0.10667, std: 0.13233, params: {'n_neighbors': 63},\n",
       " mean: 0.10667, std: 0.13233, params: {'n_neighbors': 64},\n",
       " mean: 0.10667, std: 0.13233, params: {'n_neighbors': 65},\n",
       " mean: 0.10667, std: 0.13233, params: {'n_neighbors': 66},\n",
       " mean: 0.10667, std: 0.13233, params: {'n_neighbors': 67},\n",
       " mean: 0.10667, std: 0.13233, params: {'n_neighbors': 68},\n",
       " mean: 0.10667, std: 0.13233, params: {'n_neighbors': 69},\n",
       " mean: 0.10667, std: 0.13233, params: {'n_neighbors': 70},\n",
       " mean: 0.10667, std: 0.13233, params: {'n_neighbors': 71},\n",
       " mean: 0.10667, std: 0.13233, params: {'n_neighbors': 72},\n",
       " mean: 0.10667, std: 0.13233, params: {'n_neighbors': 73},\n",
       " mean: 0.10667, std: 0.13233, params: {'n_neighbors': 74},\n",
       " mean: 0.08667, std: 0.11851, params: {'n_neighbors': 75},\n",
       " mean: 0.08667, std: 0.11851, params: {'n_neighbors': 76},\n",
       " mean: 0.08667, std: 0.11851, params: {'n_neighbors': 77},\n",
       " mean: 0.08667, std: 0.11851, params: {'n_neighbors': 78},\n",
       " mean: 0.08667, std: 0.11851, params: {'n_neighbors': 79},\n",
       " mean: 0.08667, std: 0.11851, params: {'n_neighbors': 80},\n",
       " mean: 0.07333, std: 0.10414, params: {'n_neighbors': 81},\n",
       " mean: 0.07333, std: 0.10414, params: {'n_neighbors': 82},\n",
       " mean: 0.07333, std: 0.10414, params: {'n_neighbors': 83},\n",
       " mean: 0.07333, std: 0.10414, params: {'n_neighbors': 84},\n",
       " mean: 0.06667, std: 0.10328, params: {'n_neighbors': 85},\n",
       " mean: 0.06667, std: 0.10328, params: {'n_neighbors': 86},\n",
       " mean: 0.06667, std: 0.10328, params: {'n_neighbors': 87},\n",
       " mean: 0.06667, std: 0.10328, params: {'n_neighbors': 88},\n",
       " mean: 0.06667, std: 0.10328, params: {'n_neighbors': 89},\n",
       " mean: 0.06667, std: 0.10328, params: {'n_neighbors': 90},\n",
       " mean: 0.06667, std: 0.10328, params: {'n_neighbors': 91},\n",
       " mean: 0.06667, std: 0.10328, params: {'n_neighbors': 92},\n",
       " mean: 0.06667, std: 0.10328, params: {'n_neighbors': 93},\n",
       " mean: 0.06667, std: 0.10328, params: {'n_neighbors': 94},\n",
       " mean: 0.06667, std: 0.10328, params: {'n_neighbors': 95},\n",
       " mean: 0.06667, std: 0.10328, params: {'n_neighbors': 96},\n",
       " mean: 0.06667, std: 0.10328, params: {'n_neighbors': 97},\n",
       " mean: 0.06667, std: 0.10328, params: {'n_neighbors': 98},\n",
       " mean: 0.06667, std: 0.10328, params: {'n_neighbors': 99}]"
      ]
     },
     "execution_count": 66,
     "metadata": {},
     "output_type": "execute_result"
    }
   ],
   "source": [
    "from sklearn import grid_search, cross_validation\n",
    "import matplotlib.pyplot as plt\n",
    "\n",
    "k = range(1, 100)# some *list of numbers*! Make this go to 100!\n",
    "params = { 'n_neighbors': k }# Specify the parameter you're changing as a dictionary key\n",
    "            # Specify the *list of numbers* as the dictionary value!\n",
    "\n",
    "kf = cross_validation.KFold(len(irisdf), n_folds = 5)\n",
    "gs = grid_search.GridSearchCV(\n",
    "    estimator=neighbors.KNeighborsClassifier(),\n",
    "    param_grid=params,#dictionary of the parameter you want to change\n",
    "    cv=kf,\n",
    ")\n",
    "gs.fit(iris.data, iris.target)\n",
    "gs.grid_scores_\n",
    "#rereading in irisdf and not running the other cells will make this work (len(irisdf))"
   ]
  },
  {
   "cell_type": "code",
   "execution_count": 67,
   "metadata": {
    "collapsed": false
   },
   "outputs": [
    {
     "data": {
      "text/plain": [
       "[mean: 0.92667, std: 0.06799, params: {'n_neighbors': 1, 'weights': 'uniform'},\n",
       " mean: 0.92667, std: 0.06799, params: {'n_neighbors': 1, 'weights': 'distance'},\n",
       " mean: 0.90667, std: 0.09752, params: {'n_neighbors': 2, 'weights': 'uniform'},\n",
       " mean: 0.92667, std: 0.06799, params: {'n_neighbors': 2, 'weights': 'distance'},\n",
       " mean: 0.90667, std: 0.09286, params: {'n_neighbors': 3, 'weights': 'uniform'},\n",
       " mean: 0.90667, std: 0.09286, params: {'n_neighbors': 3, 'weights': 'distance'},\n",
       " mean: 0.90667, std: 0.09286, params: {'n_neighbors': 4, 'weights': 'uniform'},\n",
       " mean: 0.90667, std: 0.09286, params: {'n_neighbors': 4, 'weights': 'distance'},\n",
       " mean: 0.91333, std: 0.08327, params: {'n_neighbors': 5, 'weights': 'uniform'},\n",
       " mean: 0.91333, std: 0.08327, params: {'n_neighbors': 5, 'weights': 'distance'},\n",
       " mean: 0.90667, std: 0.09286, params: {'n_neighbors': 6, 'weights': 'uniform'},\n",
       " mean: 0.91333, std: 0.08327, params: {'n_neighbors': 6, 'weights': 'distance'},\n",
       " mean: 0.92000, std: 0.08589, params: {'n_neighbors': 7, 'weights': 'uniform'},\n",
       " mean: 0.92667, std: 0.07717, params: {'n_neighbors': 7, 'weights': 'distance'},\n",
       " mean: 0.91333, std: 0.08844, params: {'n_neighbors': 8, 'weights': 'uniform'},\n",
       " mean: 0.92000, std: 0.07483, params: {'n_neighbors': 8, 'weights': 'distance'},\n",
       " mean: 0.92000, std: 0.09092, params: {'n_neighbors': 9, 'weights': 'uniform'},\n",
       " mean: 0.92000, std: 0.09092, params: {'n_neighbors': 9, 'weights': 'distance'},\n",
       " mean: 0.92000, std: 0.09092, params: {'n_neighbors': 10, 'weights': 'uniform'},\n",
       " mean: 0.92667, std: 0.08000, params: {'n_neighbors': 10, 'weights': 'distance'},\n",
       " mean: 0.91333, std: 0.08589, params: {'n_neighbors': 11, 'weights': 'uniform'},\n",
       " mean: 0.92000, std: 0.09092, params: {'n_neighbors': 11, 'weights': 'distance'},\n",
       " mean: 0.89333, std: 0.10625, params: {'n_neighbors': 12, 'weights': 'uniform'},\n",
       " mean: 0.91333, std: 0.08844, params: {'n_neighbors': 12, 'weights': 'distance'},\n",
       " mean: 0.90667, std: 0.08273, params: {'n_neighbors': 13, 'weights': 'uniform'},\n",
       " mean: 0.92000, std: 0.07775, params: {'n_neighbors': 13, 'weights': 'distance'},\n",
       " mean: 0.90000, std: 0.09428, params: {'n_neighbors': 14, 'weights': 'uniform'},\n",
       " mean: 0.92000, std: 0.07775, params: {'n_neighbors': 14, 'weights': 'distance'},\n",
       " mean: 0.90000, std: 0.09428, params: {'n_neighbors': 15, 'weights': 'uniform'},\n",
       " mean: 0.91333, std: 0.08844, params: {'n_neighbors': 15, 'weights': 'distance'},\n",
       " mean: 0.88667, std: 0.11851, params: {'n_neighbors': 16, 'weights': 'uniform'},\n",
       " mean: 0.91333, std: 0.08844, params: {'n_neighbors': 16, 'weights': 'distance'},\n",
       " mean: 0.88000, std: 0.12754, params: {'n_neighbors': 17, 'weights': 'uniform'},\n",
       " mean: 0.90667, std: 0.09978, params: {'n_neighbors': 17, 'weights': 'distance'},\n",
       " mean: 0.86667, std: 0.12111, params: {'n_neighbors': 18, 'weights': 'uniform'},\n",
       " mean: 0.90667, std: 0.09978, params: {'n_neighbors': 18, 'weights': 'distance'},\n",
       " mean: 0.88667, std: 0.11662, params: {'n_neighbors': 19, 'weights': 'uniform'},\n",
       " mean: 0.90667, std: 0.09978, params: {'n_neighbors': 19, 'weights': 'distance'},\n",
       " mean: 0.86667, std: 0.13499, params: {'n_neighbors': 20, 'weights': 'uniform'},\n",
       " mean: 0.90667, std: 0.09978, params: {'n_neighbors': 20, 'weights': 'distance'},\n",
       " mean: 0.86667, std: 0.13499, params: {'n_neighbors': 21, 'weights': 'uniform'},\n",
       " mean: 0.90667, std: 0.09978, params: {'n_neighbors': 21, 'weights': 'distance'},\n",
       " mean: 0.86667, std: 0.13499, params: {'n_neighbors': 22, 'weights': 'uniform'},\n",
       " mean: 0.90000, std: 0.10328, params: {'n_neighbors': 22, 'weights': 'distance'},\n",
       " mean: 0.86667, std: 0.13499, params: {'n_neighbors': 23, 'weights': 'uniform'},\n",
       " mean: 0.90000, std: 0.10328, params: {'n_neighbors': 23, 'weights': 'distance'},\n",
       " mean: 0.84667, std: 0.17075, params: {'n_neighbors': 24, 'weights': 'uniform'},\n",
       " mean: 0.90000, std: 0.10328, params: {'n_neighbors': 24, 'weights': 'distance'},\n",
       " mean: 0.86000, std: 0.14667, params: {'n_neighbors': 25, 'weights': 'uniform'},\n",
       " mean: 0.89333, std: 0.10832, params: {'n_neighbors': 25, 'weights': 'distance'},\n",
       " mean: 0.84667, std: 0.17075, params: {'n_neighbors': 26, 'weights': 'uniform'},\n",
       " mean: 0.88000, std: 0.10873, params: {'n_neighbors': 26, 'weights': 'distance'},\n",
       " mean: 0.84667, std: 0.15434, params: {'n_neighbors': 27, 'weights': 'uniform'},\n",
       " mean: 0.88667, std: 0.11851, params: {'n_neighbors': 27, 'weights': 'distance'},\n",
       " mean: 0.82000, std: 0.18809, params: {'n_neighbors': 28, 'weights': 'uniform'},\n",
       " mean: 0.87333, std: 0.11813, params: {'n_neighbors': 28, 'weights': 'distance'},\n",
       " mean: 0.80000, std: 0.19437, params: {'n_neighbors': 29, 'weights': 'uniform'},\n",
       " mean: 0.88667, std: 0.11851, params: {'n_neighbors': 29, 'weights': 'distance'},\n",
       " mean: 0.78667, std: 0.21250, params: {'n_neighbors': 30, 'weights': 'uniform'},\n",
       " mean: 0.88000, std: 0.12401, params: {'n_neighbors': 30, 'weights': 'distance'},\n",
       " mean: 0.77333, std: 0.21848, params: {'n_neighbors': 31, 'weights': 'uniform'},\n",
       " mean: 0.88000, std: 0.12927, params: {'n_neighbors': 31, 'weights': 'distance'},\n",
       " mean: 0.74000, std: 0.27520, params: {'n_neighbors': 32, 'weights': 'uniform'},\n",
       " mean: 0.88667, std: 0.11851, params: {'n_neighbors': 32, 'weights': 'distance'},\n",
       " mean: 0.75333, std: 0.26043, params: {'n_neighbors': 33, 'weights': 'uniform'},\n",
       " mean: 0.88667, std: 0.11851, params: {'n_neighbors': 33, 'weights': 'distance'},\n",
       " mean: 0.72000, std: 0.30155, params: {'n_neighbors': 34, 'weights': 'uniform'},\n",
       " mean: 0.88667, std: 0.11851, params: {'n_neighbors': 34, 'weights': 'distance'},\n",
       " mean: 0.69333, std: 0.31510, params: {'n_neighbors': 35, 'weights': 'uniform'},\n",
       " mean: 0.87333, std: 0.13400, params: {'n_neighbors': 35, 'weights': 'distance'},\n",
       " mean: 0.68000, std: 0.33506, params: {'n_neighbors': 36, 'weights': 'uniform'},\n",
       " mean: 0.86667, std: 0.12824, params: {'n_neighbors': 36, 'weights': 'distance'},\n",
       " mean: 0.68667, std: 0.30955, params: {'n_neighbors': 37, 'weights': 'uniform'},\n",
       " mean: 0.85333, std: 0.14391, params: {'n_neighbors': 37, 'weights': 'distance'},\n",
       " mean: 0.64000, std: 0.38320, params: {'n_neighbors': 38, 'weights': 'uniform'},\n",
       " mean: 0.85333, std: 0.14391, params: {'n_neighbors': 38, 'weights': 'distance'},\n",
       " mean: 0.64000, std: 0.38320, params: {'n_neighbors': 39, 'weights': 'uniform'},\n",
       " mean: 0.85333, std: 0.14391, params: {'n_neighbors': 39, 'weights': 'distance'},\n",
       " mean: 0.64000, std: 0.38320, params: {'n_neighbors': 40, 'weights': 'uniform'},\n",
       " mean: 0.84667, std: 0.14996, params: {'n_neighbors': 40, 'weights': 'distance'},\n",
       " mean: 0.38667, std: 0.42248, params: {'n_neighbors': 41, 'weights': 'uniform'},\n",
       " mean: 0.84667, std: 0.14996, params: {'n_neighbors': 41, 'weights': 'distance'},\n",
       " mean: 0.37333, std: 0.43123, params: {'n_neighbors': 42, 'weights': 'uniform'},\n",
       " mean: 0.82667, std: 0.17308, params: {'n_neighbors': 42, 'weights': 'distance'},\n",
       " mean: 0.37333, std: 0.43123, params: {'n_neighbors': 43, 'weights': 'uniform'},\n",
       " mean: 0.82000, std: 0.16944, params: {'n_neighbors': 43, 'weights': 'distance'},\n",
       " mean: 0.37333, std: 0.43123, params: {'n_neighbors': 44, 'weights': 'uniform'},\n",
       " mean: 0.81333, std: 0.17839, params: {'n_neighbors': 44, 'weights': 'distance'},\n",
       " mean: 0.37333, std: 0.43123, params: {'n_neighbors': 45, 'weights': 'uniform'},\n",
       " mean: 0.80667, std: 0.18547, params: {'n_neighbors': 45, 'weights': 'distance'},\n",
       " mean: 0.37333, std: 0.43123, params: {'n_neighbors': 46, 'weights': 'uniform'},\n",
       " mean: 0.80000, std: 0.19322, params: {'n_neighbors': 46, 'weights': 'distance'},\n",
       " mean: 0.37333, std: 0.43123, params: {'n_neighbors': 47, 'weights': 'uniform'},\n",
       " mean: 0.79333, std: 0.18785, params: {'n_neighbors': 47, 'weights': 'distance'},\n",
       " mean: 0.36000, std: 0.41655, params: {'n_neighbors': 48, 'weights': 'uniform'},\n",
       " mean: 0.79333, std: 0.18785, params: {'n_neighbors': 48, 'weights': 'distance'},\n",
       " mean: 0.36000, std: 0.41655, params: {'n_neighbors': 49, 'weights': 'uniform'},\n",
       " mean: 0.78667, std: 0.19619, params: {'n_neighbors': 49, 'weights': 'distance'},\n",
       " mean: 0.36000, std: 0.41655, params: {'n_neighbors': 50, 'weights': 'uniform'},\n",
       " mean: 0.78000, std: 0.21766, params: {'n_neighbors': 50, 'weights': 'distance'},\n",
       " mean: 0.36000, std: 0.42864, params: {'n_neighbors': 51, 'weights': 'uniform'},\n",
       " mean: 0.78000, std: 0.21766, params: {'n_neighbors': 51, 'weights': 'distance'},\n",
       " mean: 0.34667, std: 0.42667, params: {'n_neighbors': 52, 'weights': 'uniform'},\n",
       " mean: 0.76667, std: 0.23381, params: {'n_neighbors': 52, 'weights': 'distance'},\n",
       " mean: 0.34667, std: 0.42667, params: {'n_neighbors': 53, 'weights': 'uniform'},\n",
       " mean: 0.76000, std: 0.22842, params: {'n_neighbors': 53, 'weights': 'distance'},\n",
       " mean: 0.33333, std: 0.41312, params: {'n_neighbors': 54, 'weights': 'uniform'},\n",
       " mean: 0.76000, std: 0.22842, params: {'n_neighbors': 54, 'weights': 'distance'},\n",
       " mean: 0.34667, std: 0.42667, params: {'n_neighbors': 55, 'weights': 'uniform'},\n",
       " mean: 0.76000, std: 0.22842, params: {'n_neighbors': 55, 'weights': 'distance'},\n",
       " mean: 0.32000, std: 0.40089, params: {'n_neighbors': 56, 'weights': 'uniform'},\n",
       " mean: 0.74667, std: 0.24459, params: {'n_neighbors': 56, 'weights': 'distance'},\n",
       " mean: 0.32667, std: 0.40683, params: {'n_neighbors': 57, 'weights': 'uniform'},\n",
       " mean: 0.74000, std: 0.25333, params: {'n_neighbors': 57, 'weights': 'distance'},\n",
       " mean: 0.32000, std: 0.40089, params: {'n_neighbors': 58, 'weights': 'uniform'},\n",
       " mean: 0.73333, std: 0.26077, params: {'n_neighbors': 58, 'weights': 'distance'},\n",
       " mean: 0.32667, std: 0.40683, params: {'n_neighbors': 59, 'weights': 'uniform'},\n",
       " mean: 0.72000, std: 0.27857, params: {'n_neighbors': 59, 'weights': 'distance'},\n",
       " mean: 0.24667, std: 0.36246, params: {'n_neighbors': 60, 'weights': 'uniform'},\n",
       " mean: 0.72000, std: 0.27857, params: {'n_neighbors': 60, 'weights': 'distance'},\n",
       " mean: 0.20667, std: 0.28783, params: {'n_neighbors': 61, 'weights': 'uniform'},\n",
       " mean: 0.71333, std: 0.28798, params: {'n_neighbors': 61, 'weights': 'distance'},\n",
       " mean: 0.10667, std: 0.13233, params: {'n_neighbors': 62, 'weights': 'uniform'},\n",
       " mean: 0.69333, std: 0.31369, params: {'n_neighbors': 62, 'weights': 'distance'},\n",
       " mean: 0.10667, std: 0.13233, params: {'n_neighbors': 63, 'weights': 'uniform'},\n",
       " mean: 0.68667, std: 0.32359, params: {'n_neighbors': 63, 'weights': 'distance'},\n",
       " mean: 0.10667, std: 0.13233, params: {'n_neighbors': 64, 'weights': 'uniform'},\n",
       " mean: 0.68000, std: 0.34935, params: {'n_neighbors': 64, 'weights': 'distance'},\n",
       " mean: 0.10667, std: 0.13233, params: {'n_neighbors': 65, 'weights': 'uniform'},\n",
       " mean: 0.67333, std: 0.34409, params: {'n_neighbors': 65, 'weights': 'distance'},\n",
       " mean: 0.10667, std: 0.13233, params: {'n_neighbors': 66, 'weights': 'uniform'},\n",
       " mean: 0.67333, std: 0.34409, params: {'n_neighbors': 66, 'weights': 'distance'},\n",
       " mean: 0.10667, std: 0.13233, params: {'n_neighbors': 67, 'weights': 'uniform'},\n",
       " mean: 0.66667, std: 0.35465, params: {'n_neighbors': 67, 'weights': 'distance'},\n",
       " mean: 0.10667, std: 0.13233, params: {'n_neighbors': 68, 'weights': 'uniform'},\n",
       " mean: 0.66667, std: 0.35465, params: {'n_neighbors': 68, 'weights': 'distance'},\n",
       " mean: 0.10667, std: 0.13233, params: {'n_neighbors': 69, 'weights': 'uniform'},\n",
       " mean: 0.66000, std: 0.36539, params: {'n_neighbors': 69, 'weights': 'distance'},\n",
       " mean: 0.10667, std: 0.13233, params: {'n_neighbors': 70, 'weights': 'uniform'},\n",
       " mean: 0.66667, std: 0.37059, params: {'n_neighbors': 70, 'weights': 'distance'},\n",
       " mean: 0.10667, std: 0.13233, params: {'n_neighbors': 71, 'weights': 'uniform'},\n",
       " mean: 0.66000, std: 0.36539, params: {'n_neighbors': 71, 'weights': 'distance'},\n",
       " mean: 0.10667, std: 0.13233, params: {'n_neighbors': 72, 'weights': 'uniform'},\n",
       " mean: 0.66000, std: 0.36539, params: {'n_neighbors': 72, 'weights': 'distance'},\n",
       " mean: 0.10667, std: 0.13233, params: {'n_neighbors': 73, 'weights': 'uniform'},\n",
       " mean: 0.66000, std: 0.36539, params: {'n_neighbors': 73, 'weights': 'distance'},\n",
       " mean: 0.10667, std: 0.13233, params: {'n_neighbors': 74, 'weights': 'uniform'},\n",
       " mean: 0.66667, std: 0.37059, params: {'n_neighbors': 74, 'weights': 'distance'},\n",
       " mean: 0.08667, std: 0.11851, params: {'n_neighbors': 75, 'weights': 'uniform'},\n",
       " mean: 0.66667, std: 0.37059, params: {'n_neighbors': 75, 'weights': 'distance'},\n",
       " mean: 0.08667, std: 0.11851, params: {'n_neighbors': 76, 'weights': 'uniform'},\n",
       " mean: 0.66667, std: 0.37059, params: {'n_neighbors': 76, 'weights': 'distance'},\n",
       " mean: 0.08667, std: 0.11851, params: {'n_neighbors': 77, 'weights': 'uniform'},\n",
       " mean: 0.66000, std: 0.36539, params: {'n_neighbors': 77, 'weights': 'distance'},\n",
       " mean: 0.08667, std: 0.11851, params: {'n_neighbors': 78, 'weights': 'uniform'},\n",
       " mean: 0.66000, std: 0.36539, params: {'n_neighbors': 78, 'weights': 'distance'},\n",
       " mean: 0.08667, std: 0.11851, params: {'n_neighbors': 79, 'weights': 'uniform'},\n",
       " mean: 0.66000, std: 0.36539, params: {'n_neighbors': 79, 'weights': 'distance'},\n",
       " mean: 0.08667, std: 0.11851, params: {'n_neighbors': 80, 'weights': 'uniform'},\n",
       " mean: 0.66667, std: 0.37059, params: {'n_neighbors': 80, 'weights': 'distance'},\n",
       " mean: 0.07333, std: 0.10414, params: {'n_neighbors': 81, 'weights': 'uniform'},\n",
       " mean: 0.66000, std: 0.37559, params: {'n_neighbors': 81, 'weights': 'distance'},\n",
       " mean: 0.07333, std: 0.10414, params: {'n_neighbors': 82, 'weights': 'uniform'},\n",
       " mean: 0.66000, std: 0.37559, params: {'n_neighbors': 82, 'weights': 'distance'},\n",
       " mean: 0.07333, std: 0.10414, params: {'n_neighbors': 83, 'weights': 'uniform'},\n",
       " mean: 0.65333, std: 0.37035, params: {'n_neighbors': 83, 'weights': 'distance'},\n",
       " mean: 0.07333, std: 0.10414, params: {'n_neighbors': 84, 'weights': 'uniform'},\n",
       " mean: 0.65333, std: 0.37035, params: {'n_neighbors': 84, 'weights': 'distance'},\n",
       " mean: 0.06667, std: 0.10328, params: {'n_neighbors': 85, 'weights': 'uniform'},\n",
       " mean: 0.65333, std: 0.37035, params: {'n_neighbors': 85, 'weights': 'distance'},\n",
       " mean: 0.06667, std: 0.10328, params: {'n_neighbors': 86, 'weights': 'uniform'},\n",
       " mean: 0.65333, std: 0.37035, params: {'n_neighbors': 86, 'weights': 'distance'},\n",
       " mean: 0.06667, std: 0.10328, params: {'n_neighbors': 87, 'weights': 'uniform'},\n",
       " mean: 0.65333, std: 0.37035, params: {'n_neighbors': 87, 'weights': 'distance'},\n",
       " mean: 0.06667, std: 0.10328, params: {'n_neighbors': 88, 'weights': 'uniform'},\n",
       " mean: 0.65333, std: 0.37035, params: {'n_neighbors': 88, 'weights': 'distance'},\n",
       " mean: 0.06667, std: 0.10328, params: {'n_neighbors': 89, 'weights': 'uniform'},\n",
       " mean: 0.65333, std: 0.37035, params: {'n_neighbors': 89, 'weights': 'distance'},\n",
       " mean: 0.06667, std: 0.10328, params: {'n_neighbors': 90, 'weights': 'uniform'},\n",
       " mean: 0.65333, std: 0.37035, params: {'n_neighbors': 90, 'weights': 'distance'},\n",
       " mean: 0.06667, std: 0.10328, params: {'n_neighbors': 91, 'weights': 'uniform'},\n",
       " mean: 0.65333, std: 0.37035, params: {'n_neighbors': 91, 'weights': 'distance'},\n",
       " mean: 0.06667, std: 0.10328, params: {'n_neighbors': 92, 'weights': 'uniform'},\n",
       " mean: 0.65333, std: 0.37035, params: {'n_neighbors': 92, 'weights': 'distance'},\n",
       " mean: 0.06667, std: 0.10328, params: {'n_neighbors': 93, 'weights': 'uniform'},\n",
       " mean: 0.65333, std: 0.37035, params: {'n_neighbors': 93, 'weights': 'distance'},\n",
       " mean: 0.06667, std: 0.10328, params: {'n_neighbors': 94, 'weights': 'uniform'},\n",
       " mean: 0.64667, std: 0.37571, params: {'n_neighbors': 94, 'weights': 'distance'},\n",
       " mean: 0.06667, std: 0.10328, params: {'n_neighbors': 95, 'weights': 'uniform'},\n",
       " mean: 0.64667, std: 0.37571, params: {'n_neighbors': 95, 'weights': 'distance'},\n",
       " mean: 0.06667, std: 0.10328, params: {'n_neighbors': 96, 'weights': 'uniform'},\n",
       " mean: 0.64667, std: 0.37571, params: {'n_neighbors': 96, 'weights': 'distance'},\n",
       " mean: 0.06667, std: 0.10328, params: {'n_neighbors': 97, 'weights': 'uniform'},\n",
       " mean: 0.64667, std: 0.37571, params: {'n_neighbors': 97, 'weights': 'distance'},\n",
       " mean: 0.06667, std: 0.10328, params: {'n_neighbors': 98, 'weights': 'uniform'},\n",
       " mean: 0.64667, std: 0.37571, params: {'n_neighbors': 98, 'weights': 'distance'},\n",
       " mean: 0.06667, std: 0.10328, params: {'n_neighbors': 99, 'weights': 'uniform'},\n",
       " mean: 0.64667, std: 0.37571, params: {'n_neighbors': 99, 'weights': 'distance'}]"
      ]
     },
     "execution_count": 67,
     "metadata": {},
     "output_type": "execute_result"
    }
   ],
   "source": [
    "#now try with 'uniform' and 'distance' for the different types of weights\n",
    "from sklearn import grid_search, cross_validation\n",
    "import matplotlib.pyplot as plt\n",
    "\n",
    "k = range(1, 100)# some *list of numbers*! Make this go to 100!\n",
    "params = { 'n_neighbors': k, 'weights': ['uniform', 'distance'] }# Specify the parameter you're changing as a dictionary key\n",
    "            # Specify the *list of numbers* as the dictionary value!\n",
    "\n",
    "kf = cross_validation.KFold(len(irisdf), n_folds = 5)\n",
    "gs = grid_search.GridSearchCV(\n",
    "    estimator=neighbors.KNeighborsClassifier(),\n",
    "    param_grid=params,#dictionary of the parameter you want to change\n",
    "    cv=kf,\n",
    ")\n",
    "gs.fit(iris.data, iris.target)\n",
    "gs.grid_scores_\n",
    "#rereading in irisdf and not running the other cells will make this work (len(irisdf))"
   ]
  },
  {
   "cell_type": "markdown",
   "metadata": {},
   "source": [
    "## Not lets plot that, because it's not easy to just look at grid scores"
   ]
  },
  {
   "cell_type": "code",
   "execution_count": 68,
   "metadata": {
    "collapsed": false
   },
   "outputs": [
    {
     "data": {
      "text/plain": [
       "<matplotlib.legend.Legend at 0x11d86dfd0>"
      ]
     },
     "execution_count": 68,
     "metadata": {},
     "output_type": "execute_result"
    },
    {
     "data": {
      "image/png": "[encoded data removed]",
      "text/plain": [
       "<matplotlib.figure.Figure at 0x11d17fb10>"
      ]
     },
     "metadata": {},
     "output_type": "display_data"
    }
   ],
   "source": [
    "line_up, = plt.plot(k,[s[1] for s in  gs.grid_scores_[1::2]], color='red', label='distance')\n",
    "line_down, = plt.plot(k,[s[1] for s in  gs.grid_scores_[::2]], color='blue', label = 'uniform')\n",
    "plt.legend(handles=[line_up, line_down])"
   ]
  },
  {
   "cell_type": "markdown",
   "metadata": {},
   "source": [
    "k-folds validation score on x axis. Gathering more noise as you're expanding your sphere of influence. \n",
    "after 40, who cares! 50/outcome. The spacing and size of the points are causing the drop. "
   ]
  },
  {
   "cell_type": "code",
   "execution_count": 69,
   "metadata": {
    "collapsed": false
   },
   "outputs": [
    {
     "data": {
      "text/plain": [
       "<matplotlib.legend.Legend at 0x11d923b90>"
      ]
     },
     "execution_count": 69,
     "metadata": {},
     "output_type": "execute_result"
    },
    {
     "data": {
      "image/png": "[encoded data removed]",
      "text/plain": [
       "<matplotlib.figure.Figure at 0x11d84f4d0>"
      ]
     },
     "metadata": {},
     "output_type": "display_data"
    }
   ],
   "source": [
    "line_up, = plt.plot(k[:25],[s[1] for s in  gs.grid_scores_[1:50:2]], color='red', label='distance')\n",
    "line_down, = plt.plot(k[:25],[s[1] for s in  gs.grid_scores_[:50:2]], color='blue', label = 'uniform')\n",
    "plt.legend(handles=[line_up, line_down])"
   ]
  },
  {
   "cell_type": "markdown",
   "metadata": {},
   "source": [
    "1 is clearly overfitting. Too close to chance. <-- this is conjecture. Don't actually know. This is a special case. Don't run a 1 neighbor model. Start at 2. Anywhere between 6-12 is good vicinity"
   ]
  },
  {
   "cell_type": "markdown",
   "metadata": {},
   "source": [
    "### Remember these functions!\n",
    "+ How do they match up with the graphs above?\n"
   ]
  },
  {
   "cell_type": "code",
   "execution_count": 70,
   "metadata": {
    "collapsed": false
   },
   "outputs": [
    {
     "name": "stdout",
     "output_type": "stream",
     "text": [
      "0.926666666667\n"
     ]
    }
   ],
   "source": [
    "print gs.best_score_\n"
   ]
  },
  {
   "cell_type": "code",
   "execution_count": 71,
   "metadata": {
    "collapsed": false
   },
   "outputs": [
    {
     "name": "stdout",
     "output_type": "stream",
     "text": [
      "{'n_neighbors': 1, 'weights': 'uniform'}\n"
     ]
    }
   ],
   "source": [
    "print gs.best_params_\n"
   ]
  },
  {
   "cell_type": "code",
   "execution_count": 72,
   "metadata": {
    "collapsed": false
   },
   "outputs": [
    {
     "name": "stdout",
     "output_type": "stream",
     "text": [
      "KNeighborsClassifier(algorithm='auto', leaf_size=30, metric='minkowski',\n",
      "           metric_params=None, n_jobs=1, n_neighbors=1, p=2,\n",
      "           weights='uniform')\n"
     ]
    }
   ],
   "source": [
    "print gs.best_estimator_"
   ]
  },
  {
   "cell_type": "markdown",
   "metadata": {},
   "source": [
    "these are handy b/c u want to see how your grid search turned out. pull out the best version here. "
   ]
  },
  {
   "cell_type": "code",
   "execution_count": null,
   "metadata": {
    "collapsed": true
   },
   "outputs": [],
   "source": []
  }
 ],
 "metadata": {
  "kernelspec": {
   "display_name": "Python 2",
   "language": "python",
   "name": "python2"
  },
  "language_info": {
   "codemirror_mode": {
    "name": "ipython",
    "version": 2
   },
   "file_extension": ".py",
   "mimetype": "text/x-python",
   "name": "python",
   "nbconvert_exporter": "python",
   "pygments_lexer": "ipython2",
   "version": "2.7.11"
  }
 },
 "nbformat": 4,
 "nbformat_minor": 0
}
