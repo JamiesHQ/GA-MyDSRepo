{
 "cells": [
  {
   "cell_type": "markdown",
   "metadata": {},
   "source": [
    "# Lesson 4 Review and Lesson 5 Prework"
   ]
  },
  {
   "cell_type": "markdown",
   "metadata": {},
   "source": [
    "## Lesson 4 Review Topics and Coding Tips\n",
    "1. Coding: melt, pivot, masking, break vs continue vs pass, correlation/heatmap\n",
    "2. Statistics: t-test, Power Analysis, Confidence Interval, Confidence Level, Significance Level, P-value, Statistically Significant, R^2\n",
    "3. Git/Terminal: Most used commands\n",
    "\n",
    "## Lesson 5 Topics\n",
    "Linear Regression\n",
    "\n",
    "## Cheat Sheet\n",
    "I have a cheat sheet on my github page: https://github.com/azedlee/dsi2-cheatsheet\n",
    "The definitions part is not completed and I stopped updating the \"entire.py\" page. Most of everything else is finished. For now, datamunging.py and edagraphing will be most helpful for you."
   ]
  },
  {
   "cell_type": "code",
   "execution_count": 140,
   "metadata": {
    "collapsed": true
   },
   "outputs": [],
   "source": [
    "import pandas as pd\n",
    "import numpy as np\n",
    "import matplotlib.pyplot as plt\n",
    "import seaborn as sns\n",
    "import scipy.stats as stats\n",
    "import math\n",
    "\n",
    "%matplotlib inline"
   ]
  },
  {
   "cell_type": "markdown",
   "metadata": {},
   "source": [
    "# Lesson 4 Review Topics and Coding Tips\n",
    "\n",
    "From your exit tickets, I noticed a lot of people prefer to have examples that they can walk through and understand how the code works. For this review and prework session, I will provide some useful functions and a basic programming explanation on how they work. Please let me know if this works."
   ]
  },
  {
   "cell_type": "markdown",
   "metadata": {},
   "source": [
    "# Coding"
   ]
  },
  {
   "cell_type": "markdown",
   "metadata": {},
   "source": [
    "## Pivot Table\n",
    "\n",
    "Pivot Tables changes dataframes from long to wide format. They are useful for data summarization. Pandas' pivot_table isn't as intuitive as Excel's drag and drop, but still does the job. It is a bit more confusing to understand. Below is an explanation on how to use pivot_table and its parameters.\n",
    "\n",
    "df_wide = pd.pivot_table(\n",
    "    1. df_long, # The Data frame you want to convert\n",
    "    2. columns=['col'], # The values in the long df you want to assign for the wide dataframe\n",
    "    3. values='value', # The values in the long df you want to pivot to the wide dataframe\n",
    "    4. index=['subject_id'], # The columns in the long df you want to become the index for the wide dataframe\n",
    "    5. aggfunc=np.mean, # Aggregate function that defaults to the mean, can put own function in, works like .apply \n",
    "    6. fill_value=np.nan # Fills in all empty values as assigned value\n",
    "        )\n",
    "\n",
    "Here is an example of how to use pivot_table"
   ]
  },
  {
   "cell_type": "code",
   "execution_count": 4,
   "metadata": {
    "collapsed": true
   },
   "outputs": [],
   "source": [
    "df_long = pd.DataFrame(data={'A': ['Reid', 'Reid', 'Reid', 'Reid', 'Reid', 'Ed', 'Ed', 'Ed', 'Ed'],\n",
    "                             'B': ['student_1', 'student_1', 'student_1', 'student_2', 'student_2', 'student_1', 'student_1', 'student_2', 'student_2'],\n",
    "                             'C': ['homework', 'quizzes', 'quizzes', 'homework', 'homework', 'quizzes', 'homework', 'homework', 'quizzes'],\n",
    "                             'D': [100, 80, 83, 95, 98, 60, 75, 80, 83]})"
   ]
  },
  {
   "cell_type": "code",
   "execution_count": 5,
   "metadata": {
    "collapsed": false
   },
   "outputs": [
    {
     "data": {
      "text/html": [
       "<div>\n",
       "<table border=\"1\" class=\"dataframe\">\n",
       "  <thead>\n",
       "    <tr style=\"text-align: right;\">\n",
       "      <th></th>\n",
       "      <th>A</th>\n",
       "      <th>B</th>\n",
       "      <th>C</th>\n",
       "      <th>D</th>\n",
       "    </tr>\n",
       "  </thead>\n",
       "  <tbody>\n",
       "    <tr>\n",
       "      <th>0</th>\n",
       "      <td>Reid</td>\n",
       "      <td>student_1</td>\n",
       "      <td>homework</td>\n",
       "      <td>100</td>\n",
       "    </tr>\n",
       "    <tr>\n",
       "      <th>1</th>\n",
       "      <td>Reid</td>\n",
       "      <td>student_1</td>\n",
       "      <td>quizzes</td>\n",
       "      <td>80</td>\n",
       "    </tr>\n",
       "    <tr>\n",
       "      <th>2</th>\n",
       "      <td>Reid</td>\n",
       "      <td>student_1</td>\n",
       "      <td>quizzes</td>\n",
       "      <td>83</td>\n",
       "    </tr>\n",
       "    <tr>\n",
       "      <th>3</th>\n",
       "      <td>Reid</td>\n",
       "      <td>student_2</td>\n",
       "      <td>homework</td>\n",
       "      <td>95</td>\n",
       "    </tr>\n",
       "    <tr>\n",
       "      <th>4</th>\n",
       "      <td>Reid</td>\n",
       "      <td>student_2</td>\n",
       "      <td>homework</td>\n",
       "      <td>98</td>\n",
       "    </tr>\n",
       "    <tr>\n",
       "      <th>5</th>\n",
       "      <td>Ed</td>\n",
       "      <td>student_1</td>\n",
       "      <td>quizzes</td>\n",
       "      <td>60</td>\n",
       "    </tr>\n",
       "    <tr>\n",
       "      <th>6</th>\n",
       "      <td>Ed</td>\n",
       "      <td>student_1</td>\n",
       "      <td>homework</td>\n",
       "      <td>75</td>\n",
       "    </tr>\n",
       "    <tr>\n",
       "      <th>7</th>\n",
       "      <td>Ed</td>\n",
       "      <td>student_2</td>\n",
       "      <td>homework</td>\n",
       "      <td>80</td>\n",
       "    </tr>\n",
       "    <tr>\n",
       "      <th>8</th>\n",
       "      <td>Ed</td>\n",
       "      <td>student_2</td>\n",
       "      <td>quizzes</td>\n",
       "      <td>83</td>\n",
       "    </tr>\n",
       "  </tbody>\n",
       "</table>\n",
       "</div>"
      ],
      "text/plain": [
       "      A          B         C    D\n",
       "0  Reid  student_1  homework  100\n",
       "1  Reid  student_1   quizzes   80\n",
       "2  Reid  student_1   quizzes   83\n",
       "3  Reid  student_2  homework   95\n",
       "4  Reid  student_2  homework   98\n",
       "5    Ed  student_1   quizzes   60\n",
       "6    Ed  student_1  homework   75\n",
       "7    Ed  student_2  homework   80\n",
       "8    Ed  student_2   quizzes   83"
      ]
     },
     "execution_count": 5,
     "metadata": {},
     "output_type": "execute_result"
    }
   ],
   "source": [
    "df_long"
   ]
  },
  {
   "cell_type": "code",
   "execution_count": 10,
   "metadata": {
    "collapsed": false
   },
   "outputs": [
    {
     "data": {
      "text/html": [
       "<div>\n",
       "<table border=\"1\" class=\"dataframe\">\n",
       "  <thead>\n",
       "    <tr style=\"text-align: right;\">\n",
       "      <th></th>\n",
       "      <th>C</th>\n",
       "      <th>homework</th>\n",
       "      <th>quizzes</th>\n",
       "    </tr>\n",
       "    <tr>\n",
       "      <th>A</th>\n",
       "      <th>B</th>\n",
       "      <th></th>\n",
       "      <th></th>\n",
       "    </tr>\n",
       "  </thead>\n",
       "  <tbody>\n",
       "    <tr>\n",
       "      <th rowspan=\"2\" valign=\"top\">Ed</th>\n",
       "      <th>student_1</th>\n",
       "      <td>75.0</td>\n",
       "      <td>60</td>\n",
       "    </tr>\n",
       "    <tr>\n",
       "      <th>student_2</th>\n",
       "      <td>80.0</td>\n",
       "      <td>83</td>\n",
       "    </tr>\n",
       "    <tr>\n",
       "      <th rowspan=\"2\" valign=\"top\">Reid</th>\n",
       "      <th>student_1</th>\n",
       "      <td>100.0</td>\n",
       "      <td>81.5</td>\n",
       "    </tr>\n",
       "    <tr>\n",
       "      <th>student_2</th>\n",
       "      <td>96.5</td>\n",
       "      <td>None</td>\n",
       "    </tr>\n",
       "  </tbody>\n",
       "</table>\n",
       "</div>"
      ],
      "text/plain": [
       "C               homework quizzes\n",
       "A    B                          \n",
       "Ed   student_1      75.0      60\n",
       "     student_2      80.0      83\n",
       "Reid student_1     100.0    81.5\n",
       "     student_2      96.5    None"
      ]
     },
     "execution_count": 10,
     "metadata": {},
     "output_type": "execute_result"
    }
   ],
   "source": [
    "df_wide = pd.pivot_table(df_long, values='D', index=['A', 'B'], columns=['C'], aggfunc=np.mean, fill_value='None')\n",
    "df_wide"
   ]
  },
  {
   "cell_type": "markdown",
   "metadata": {},
   "source": [
    "## Melt\n",
    "\n",
    "Melt is the opposite of pivot_table, where it changes the dataframe from wide to long. Same as pivot_table, it is confusing to use, but useful if the data and model you are using are not compatible in wide format. Below is an explanation on how to use melt and its parameters.\n",
    "\n",
    "df_long = pd.melt(\n",
    "    1. df_wide, # The Data frame you want to convert\n",
    "    2. id_vars=['col1','col2'], # The identifiers for the other columns\n",
    "    3. value_vars=, # The value that identifies to each id_vars\n",
    "    4. var_name=, # The column name for value_vars\n",
    "    5. value_name=) # The column name for the values for each value_vars\n",
    "    \n",
    "Here is an example on how to use melt."
   ]
  },
  {
   "cell_type": "code",
   "execution_count": 11,
   "metadata": {
    "collapsed": true
   },
   "outputs": [],
   "source": [
    "df_wide = pd.DataFrame({'A': {0: 'a', 1: 'b', 2: 'c'},\n",
    "                   'B': {0: 1, 1: 3, 2: 5},\n",
    "                   'C': {0: 2, 1: 4, 2: 6}})"
   ]
  },
  {
   "cell_type": "code",
   "execution_count": 12,
   "metadata": {
    "collapsed": false
   },
   "outputs": [
    {
     "data": {
      "text/html": [
       "<div>\n",
       "<table border=\"1\" class=\"dataframe\">\n",
       "  <thead>\n",
       "    <tr style=\"text-align: right;\">\n",
       "      <th></th>\n",
       "      <th>A</th>\n",
       "      <th>B</th>\n",
       "      <th>C</th>\n",
       "    </tr>\n",
       "  </thead>\n",
       "  <tbody>\n",
       "    <tr>\n",
       "      <th>0</th>\n",
       "      <td>a</td>\n",
       "      <td>1</td>\n",
       "      <td>2</td>\n",
       "    </tr>\n",
       "    <tr>\n",
       "      <th>1</th>\n",
       "      <td>b</td>\n",
       "      <td>3</td>\n",
       "      <td>4</td>\n",
       "    </tr>\n",
       "    <tr>\n",
       "      <th>2</th>\n",
       "      <td>c</td>\n",
       "      <td>5</td>\n",
       "      <td>6</td>\n",
       "    </tr>\n",
       "  </tbody>\n",
       "</table>\n",
       "</div>"
      ],
      "text/plain": [
       "   A  B  C\n",
       "0  a  1  2\n",
       "1  b  3  4\n",
       "2  c  5  6"
      ]
     },
     "execution_count": 12,
     "metadata": {},
     "output_type": "execute_result"
    }
   ],
   "source": [
    "df_wide"
   ]
  },
  {
   "cell_type": "code",
   "execution_count": 14,
   "metadata": {
    "collapsed": false
   },
   "outputs": [
    {
     "data": {
      "text/html": [
       "<div>\n",
       "<table border=\"1\" class=\"dataframe\">\n",
       "  <thead>\n",
       "    <tr style=\"text-align: right;\">\n",
       "      <th></th>\n",
       "      <th>A</th>\n",
       "      <th>myVarname</th>\n",
       "      <th>myValname</th>\n",
       "    </tr>\n",
       "  </thead>\n",
       "  <tbody>\n",
       "    <tr>\n",
       "      <th>0</th>\n",
       "      <td>a</td>\n",
       "      <td>B</td>\n",
       "      <td>1</td>\n",
       "    </tr>\n",
       "    <tr>\n",
       "      <th>1</th>\n",
       "      <td>b</td>\n",
       "      <td>B</td>\n",
       "      <td>3</td>\n",
       "    </tr>\n",
       "    <tr>\n",
       "      <th>2</th>\n",
       "      <td>c</td>\n",
       "      <td>B</td>\n",
       "      <td>5</td>\n",
       "    </tr>\n",
       "    <tr>\n",
       "      <th>3</th>\n",
       "      <td>a</td>\n",
       "      <td>C</td>\n",
       "      <td>2</td>\n",
       "    </tr>\n",
       "    <tr>\n",
       "      <th>4</th>\n",
       "      <td>b</td>\n",
       "      <td>C</td>\n",
       "      <td>4</td>\n",
       "    </tr>\n",
       "    <tr>\n",
       "      <th>5</th>\n",
       "      <td>c</td>\n",
       "      <td>C</td>\n",
       "      <td>6</td>\n",
       "    </tr>\n",
       "  </tbody>\n",
       "</table>\n",
       "</div>"
      ],
      "text/plain": [
       "   A myVarname  myValname\n",
       "0  a         B          1\n",
       "1  b         B          3\n",
       "2  c         B          5\n",
       "3  a         C          2\n",
       "4  b         C          4\n",
       "5  c         C          6"
      ]
     },
     "execution_count": 14,
     "metadata": {},
     "output_type": "execute_result"
    }
   ],
   "source": [
    "df_long = pd.melt(df_wide, id_vars=['A'], value_vars=['B', 'C'], var_name='myVarname', value_name='myValname')\n",
    "df_long"
   ]
  },
  {
   "cell_type": "markdown",
   "metadata": {
    "collapsed": true
   },
   "source": [
    "## Break vs Continue vs Pass\n",
    "\n",
    "These 3 commands are usually used in loops and switch statements, but can also be used in functions. Each term has specific uses.\n",
    "\n",
    "1. break - breaks out of a loop, regardless of where the loop is currently at\n",
    "2. continue - continues to the next loop iteration\n",
    "3. pass - does nothing, but allows the program to keep running, usually used for syntactical testing"
   ]
  },
  {
   "cell_type": "code",
   "execution_count": 37,
   "metadata": {
    "collapsed": false
   },
   "outputs": [
    {
     "name": "stdout",
     "output_type": "stream",
     "text": [
      "0\n",
      "1\n",
      "2\n"
     ]
    }
   ],
   "source": [
    "# Breaks when i == 3\n",
    "for i in range(0, 5):\n",
    "    if i == 3:\n",
    "        break\n",
    "    print i"
   ]
  },
  {
   "cell_type": "code",
   "execution_count": 35,
   "metadata": {
    "collapsed": false
   },
   "outputs": [
    {
     "name": "stdout",
     "output_type": "stream",
     "text": [
      "0\n",
      "1\n",
      "2\n",
      "3\n",
      "4\n"
     ]
    }
   ],
   "source": [
    "# Prints 3 because it is just a placeholder\n",
    "for i in range(0, 5):\n",
    "    if i == 3:\n",
    "        pass\n",
    "    print i"
   ]
  },
  {
   "cell_type": "code",
   "execution_count": 36,
   "metadata": {
    "collapsed": false
   },
   "outputs": [
    {
     "name": "stdout",
     "output_type": "stream",
     "text": [
      "0\n",
      "1\n",
      "2\n",
      "4\n"
     ]
    }
   ],
   "source": [
    "# Does not print 3 because it continues to the next iteration\n",
    "for i in range(0,5):\n",
    "    if i == 3:\n",
    "        continue\n",
    "    print i"
   ]
  },
  {
   "cell_type": "markdown",
   "metadata": {
    "collapsed": true
   },
   "source": [
    "## Correlation and Heatmaps\n",
    "\n",
    "Correlation measures the strength between 2 features. There are 3 different types of correlation tests (Pearson, Spearman and Kendall), but we will mostly be using 2 (Pearson and Spearman).\n",
    "\n",
    "Pearson Correlation - evaluates the linear relationship between two continuous variables. A relationship is linear when a change in one variable is associated with a proportional change in the other variable.\n",
    "\n",
    "Spearman Correlation - evaluates the monotonic relationship between two continuous or ordinal variables. In a monotonic relationship, the variables tend to change together, but not necessarily at a constant rate. The Spearman correlation coefficient is based on the ranked values for each variable rather than the raw data.\n",
    "\n",
    "Below I'll show you an example between the correlations and the strength of using heatmaps (also the code for creating a heatmap)"
   ]
  },
  {
   "cell_type": "code",
   "execution_count": 105,
   "metadata": {
    "collapsed": true
   },
   "outputs": [],
   "source": [
    "sleep = pd.read_csv('/Users/edwardlee/Desktop/df-sf-32/DS-SF-32/dataset/msleep.csv')"
   ]
  },
  {
   "cell_type": "code",
   "execution_count": 106,
   "metadata": {
    "collapsed": false
   },
   "outputs": [
    {
     "data": {
      "text/html": [
       "<div>\n",
       "<table border=\"1\" class=\"dataframe\">\n",
       "  <thead>\n",
       "    <tr style=\"text-align: right;\">\n",
       "      <th></th>\n",
       "      <th>name</th>\n",
       "      <th>genus</th>\n",
       "      <th>vore</th>\n",
       "      <th>order</th>\n",
       "      <th>conservation</th>\n",
       "      <th>sleep_total</th>\n",
       "      <th>sleep_rem</th>\n",
       "      <th>sleep_cycle</th>\n",
       "      <th>awake</th>\n",
       "      <th>brainwt</th>\n",
       "      <th>bodywt</th>\n",
       "    </tr>\n",
       "  </thead>\n",
       "  <tbody>\n",
       "    <tr>\n",
       "      <th>0</th>\n",
       "      <td>Cheetah</td>\n",
       "      <td>Acinonyx</td>\n",
       "      <td>carni</td>\n",
       "      <td>Carnivora</td>\n",
       "      <td>lc</td>\n",
       "      <td>12.1</td>\n",
       "      <td>NaN</td>\n",
       "      <td>NaN</td>\n",
       "      <td>11.9</td>\n",
       "      <td>NaN</td>\n",
       "      <td>50.000</td>\n",
       "    </tr>\n",
       "    <tr>\n",
       "      <th>1</th>\n",
       "      <td>Owl monkey</td>\n",
       "      <td>Aotus</td>\n",
       "      <td>omni</td>\n",
       "      <td>Primates</td>\n",
       "      <td>NaN</td>\n",
       "      <td>17.0</td>\n",
       "      <td>1.8</td>\n",
       "      <td>NaN</td>\n",
       "      <td>7.0</td>\n",
       "      <td>0.01550</td>\n",
       "      <td>0.480</td>\n",
       "    </tr>\n",
       "    <tr>\n",
       "      <th>2</th>\n",
       "      <td>Mountain beaver</td>\n",
       "      <td>Aplodontia</td>\n",
       "      <td>herbi</td>\n",
       "      <td>Rodentia</td>\n",
       "      <td>nt</td>\n",
       "      <td>14.4</td>\n",
       "      <td>2.4</td>\n",
       "      <td>NaN</td>\n",
       "      <td>9.6</td>\n",
       "      <td>NaN</td>\n",
       "      <td>1.350</td>\n",
       "    </tr>\n",
       "    <tr>\n",
       "      <th>3</th>\n",
       "      <td>Greater short-tailed shrew</td>\n",
       "      <td>Blarina</td>\n",
       "      <td>omni</td>\n",
       "      <td>Soricomorpha</td>\n",
       "      <td>lc</td>\n",
       "      <td>14.9</td>\n",
       "      <td>2.3</td>\n",
       "      <td>0.133333</td>\n",
       "      <td>9.1</td>\n",
       "      <td>0.00029</td>\n",
       "      <td>0.019</td>\n",
       "    </tr>\n",
       "    <tr>\n",
       "      <th>4</th>\n",
       "      <td>Cow</td>\n",
       "      <td>Bos</td>\n",
       "      <td>herbi</td>\n",
       "      <td>Artiodactyla</td>\n",
       "      <td>domesticated</td>\n",
       "      <td>4.0</td>\n",
       "      <td>0.7</td>\n",
       "      <td>0.666667</td>\n",
       "      <td>20.0</td>\n",
       "      <td>0.42300</td>\n",
       "      <td>600.000</td>\n",
       "    </tr>\n",
       "  </tbody>\n",
       "</table>\n",
       "</div>"
      ],
      "text/plain": [
       "                         name       genus   vore         order  conservation  \\\n",
       "0                     Cheetah    Acinonyx  carni     Carnivora            lc   \n",
       "1                  Owl monkey       Aotus   omni      Primates           NaN   \n",
       "2             Mountain beaver  Aplodontia  herbi      Rodentia            nt   \n",
       "3  Greater short-tailed shrew     Blarina   omni  Soricomorpha            lc   \n",
       "4                         Cow         Bos  herbi  Artiodactyla  domesticated   \n",
       "\n",
       "   sleep_total  sleep_rem  sleep_cycle  awake  brainwt   bodywt  \n",
       "0         12.1        NaN          NaN   11.9      NaN   50.000  \n",
       "1         17.0        1.8          NaN    7.0  0.01550    0.480  \n",
       "2         14.4        2.4          NaN    9.6      NaN    1.350  \n",
       "3         14.9        2.3     0.133333    9.1  0.00029    0.019  \n",
       "4          4.0        0.7     0.666667   20.0  0.42300  600.000  "
      ]
     },
     "execution_count": 106,
     "metadata": {},
     "output_type": "execute_result"
    }
   ],
   "source": [
    "sleep.head()"
   ]
  },
  {
   "cell_type": "code",
   "execution_count": 109,
   "metadata": {
    "collapsed": false
   },
   "outputs": [
    {
     "data": {
      "text/plain": [
       "name             0\n",
       "genus            0\n",
       "vore             7\n",
       "order            0\n",
       "conservation    29\n",
       "sleep_total      0\n",
       "sleep_rem       22\n",
       "sleep_cycle     51\n",
       "awake            0\n",
       "brainwt         27\n",
       "bodywt           0\n",
       "dtype: int64"
      ]
     },
     "execution_count": 109,
     "metadata": {},
     "output_type": "execute_result"
    }
   ],
   "source": [
    "# Check NaN values\n",
    "sleep.isnull().sum()"
   ]
  },
  {
   "cell_type": "code",
   "execution_count": 110,
   "metadata": {
    "collapsed": false
   },
   "outputs": [
    {
     "name": "stderr",
     "output_type": "stream",
     "text": [
      "/Users/edwardlee/anaconda/envs/dsi/lib/python2.7/site-packages/pandas/core/frame.py:2762: SettingWithCopyWarning: \n",
      "A value is trying to be set on a copy of a slice from a DataFrame\n",
      "\n",
      "See the caveats in the documentation: http://pandas.pydata.org/pandas-docs/stable/indexing.html#indexing-view-versus-copy\n",
      "  downcast=downcast, **kwargs)\n"
     ]
    }
   ],
   "source": [
    "# Since these are the 3 columns I want to use, I will set the NaN values 0 for now\n",
    "sleep[['sleep_rem', 'sleep_cycle', 'brainwt']].fillna(0, inplace=True)"
   ]
  },
  {
   "cell_type": "code",
   "execution_count": 114,
   "metadata": {
    "collapsed": false
   },
   "outputs": [
    {
     "data": {
      "text/plain": [
       "Index([u'name', u'genus', u'vore', u'order', u'conservation', u'sleep_total',\n",
       "       u'sleep_rem', u'sleep_cycle', u'awake', u'brainwt', u'bodywt'],\n",
       "      dtype='object')"
      ]
     },
     "execution_count": 114,
     "metadata": {},
     "output_type": "execute_result"
    }
   ],
   "source": [
    "sleep.columns"
   ]
  },
  {
   "cell_type": "code",
   "execution_count": 115,
   "metadata": {
    "collapsed": false
   },
   "outputs": [
    {
     "data": {
      "text/html": [
       "<div>\n",
       "<table border=\"1\" class=\"dataframe\">\n",
       "  <thead>\n",
       "    <tr style=\"text-align: right;\">\n",
       "      <th></th>\n",
       "      <th>sleep_total</th>\n",
       "      <th>sleep_rem</th>\n",
       "      <th>sleep_cycle</th>\n",
       "      <th>awake</th>\n",
       "      <th>brainwt</th>\n",
       "      <th>bodywt</th>\n",
       "    </tr>\n",
       "  </thead>\n",
       "  <tbody>\n",
       "    <tr>\n",
       "      <th>sleep_total</th>\n",
       "      <td>1.000000</td>\n",
       "      <td>0.751755</td>\n",
       "      <td>-0.473713</td>\n",
       "      <td>-0.999999</td>\n",
       "      <td>-0.360487</td>\n",
       "      <td>-0.312011</td>\n",
       "    </tr>\n",
       "    <tr>\n",
       "      <th>sleep_rem</th>\n",
       "      <td>0.751755</td>\n",
       "      <td>1.000000</td>\n",
       "      <td>-0.338123</td>\n",
       "      <td>-0.751771</td>\n",
       "      <td>-0.221335</td>\n",
       "      <td>-0.327651</td>\n",
       "    </tr>\n",
       "    <tr>\n",
       "      <th>sleep_cycle</th>\n",
       "      <td>-0.473713</td>\n",
       "      <td>-0.338123</td>\n",
       "      <td>1.000000</td>\n",
       "      <td>0.473713</td>\n",
       "      <td>0.851620</td>\n",
       "      <td>0.417803</td>\n",
       "    </tr>\n",
       "    <tr>\n",
       "      <th>awake</th>\n",
       "      <td>-0.999999</td>\n",
       "      <td>-0.751771</td>\n",
       "      <td>0.473713</td>\n",
       "      <td>1.000000</td>\n",
       "      <td>0.360487</td>\n",
       "      <td>0.311980</td>\n",
       "    </tr>\n",
       "    <tr>\n",
       "      <th>brainwt</th>\n",
       "      <td>-0.360487</td>\n",
       "      <td>-0.221335</td>\n",
       "      <td>0.851620</td>\n",
       "      <td>0.360487</td>\n",
       "      <td>1.000000</td>\n",
       "      <td>0.933782</td>\n",
       "    </tr>\n",
       "    <tr>\n",
       "      <th>bodywt</th>\n",
       "      <td>-0.312011</td>\n",
       "      <td>-0.327651</td>\n",
       "      <td>0.417803</td>\n",
       "      <td>0.311980</td>\n",
       "      <td>0.933782</td>\n",
       "      <td>1.000000</td>\n",
       "    </tr>\n",
       "  </tbody>\n",
       "</table>\n",
       "</div>"
      ],
      "text/plain": [
       "             sleep_total  sleep_rem  sleep_cycle     awake   brainwt    bodywt\n",
       "sleep_total     1.000000   0.751755    -0.473713 -0.999999 -0.360487 -0.312011\n",
       "sleep_rem       0.751755   1.000000    -0.338123 -0.751771 -0.221335 -0.327651\n",
       "sleep_cycle    -0.473713  -0.338123     1.000000  0.473713  0.851620  0.417803\n",
       "awake          -0.999999  -0.751771     0.473713  1.000000  0.360487  0.311980\n",
       "brainwt        -0.360487  -0.221335     0.851620  0.360487  1.000000  0.933782\n",
       "bodywt         -0.312011  -0.327651     0.417803  0.311980  0.933782  1.000000"
      ]
     },
     "execution_count": 115,
     "metadata": {},
     "output_type": "execute_result"
    }
   ],
   "source": [
    "sleep[[u'sleep_total', u'sleep_rem', u'sleep_cycle', u'awake', u'brainwt', u'bodywt']].corr(method='pearson')"
   ]
  },
  {
   "cell_type": "markdown",
   "metadata": {},
   "source": [
    "Above is the correlation of sleep pattens for all animals, but it is kind of messy since it is all numbers. Let's make a heatmap!"
   ]
  },
  {
   "cell_type": "code",
   "execution_count": 126,
   "metadata": {
    "collapsed": true
   },
   "outputs": [],
   "source": [
    "# Save the correlation I want to see into another variable so it is easier to use later on\n",
    "sleep_corr_p = sleep[[u'sleep_total', u'sleep_rem', u'sleep_cycle', u'awake', u'brainwt', u'bodywt']].corr(method='pearson')\n",
    "sleep_corr_s = sleep[[u'sleep_total', u'sleep_rem', u'sleep_cycle', u'awake', u'brainwt', u'bodywt']].corr(method='spearman')"
   ]
  },
  {
   "cell_type": "code",
   "execution_count": 137,
   "metadata": {
    "collapsed": false,
    "scrolled": false
   },
   "outputs": [
    {
     "data": {
      "image/png": "[encoded data removed]",
      "text/plain": [
       "<matplotlib.figure.Figure at 0x11484a750>"
      ]
     },
     "metadata": {},
     "output_type": "display_data"
    }
   ],
   "source": [
    "fig = plt.figure(figsize=(15,10))\n",
    "ax = fig.gca()\n",
    "\n",
    "ax = sns.heatmap(sleep_corr_p)"
   ]
  },
  {
   "cell_type": "code",
   "execution_count": 139,
   "metadata": {
    "collapsed": false
   },
   "outputs": [
    {
     "data": {
      "image/png": "[encoded data removed]",
      "text/plain": [
       "<matplotlib.figure.Figure at 0x11bd32c10>"
      ]
     },
     "metadata": {},
     "output_type": "display_data"
    }
   ],
   "source": [
    "fig = plt.figure(figsize=(15,10))\n",
    "ax = fig.gca()\n",
    "\n",
    "# This mask cuts the heatmap in half, you can use it if you want, but not necessary\n",
    "mask = np.zeros_like(sleep_corr, dtype=np.bool)\n",
    "mask[np.triu_indices_from(mask)] = True\n",
    "\n",
    "ax = sns.heatmap(sleep_corr_s, mask=mask)"
   ]
  },
  {
   "cell_type": "markdown",
   "metadata": {},
   "source": [
    "Correlation heatmaps are much easier to look at than just a correlation of numbers. Remember to look at the differences between spearman and pearson!"
   ]
  },
  {
   "cell_type": "markdown",
   "metadata": {
    "collapsed": true
   },
   "source": [
    "# Statistics"
   ]
  },
  {
   "cell_type": "markdown",
   "metadata": {
    "collapsed": true
   },
   "source": [
    "1. P-value - Assuming the Null Hypothesis is true, the obtained samples observed would have a difference of x% due to random sampling error.\n",
    "2. Significance Level (alpha) - Also known as the \"Critical Region,\" If you have a significance level (alpha) of 0.05 and your p-value is 0.02, you can conclude that your test results are statistically significant and reject the null.\n",
    "3. Confidence Level (1 - alpha) * 100 - Confidence Level is the opposite of significance level, where you are confident (ie. 95%) that the sample will reside within the confidence interval of 95% (ie. 2.5 to 97.5) of the distribution\n",
    "4. Confidence Interval - We would expect the true population to fall within the interval estimates\n",
    "5. Statistically Significant - If your CI is 95% with a p-value of 0.05 (0.025 if 2-tail), if the alpha falls within the critical region, which is how far our sample statistic must be from the null hypothesis, then we can say the data is unusual enough to reject the null.\n",
    "6. Type I vs Type II error - http://support.minitab.com/en-us/minitab/17/topic-library/basic-statistics-and-graphs/hypothesis-tests/basics/type-i-and-type-ii-error/\n",
    "\n",
    "I tried writing up a basic t-test example, but I found that the post below does a MUCH better job. I will still do one if people want to see more examples (please leave a note in the Exit Tickets!), but I must recommend reading this post. It has explanations and Python code.\n",
    "\n",
    "http://hamelg.blogspot.com/2015/11/python-for-data-analysis-part-24.html"
   ]
  },
  {
   "cell_type": "markdown",
   "metadata": {
    "collapsed": true
   },
   "source": [
    "# Git/Terminal"
   ]
  },
  {
   "cell_type": "markdown",
   "metadata": {
    "collapsed": true
   },
   "source": [
    "## Common Git/Terminal Commands\n",
    "\n",
    "### Terminal Commands\n",
    "\n",
    "1. cd .. - Goes up 1 directory\n",
    "2. cd ../../ - Goes up 2 directories (you can hit tab twice to see where you are at)\n",
    "3. ls - lists all files in the directory\n",
    "4. mkdir - creates a new folder\n",
    "5. touch hi.txt - creates an empty text file called hi.txt\n",
    "6. echo \"Hello World\" >hi.txt - creates a new text file called hi.txt with Hello World as the first line\n",
    "\n",
    "### Git Commands\n",
    "\n",
    "1. git status - Always perform a git status before doing any other git commands to see all modified changes\n",
    "2. git add ./filename - Adds the file (or all with the .) ready to be committed as a new version, git status to make sure you have the correct files\n",
    "3. git commit -m \"new updates\" - Commits the files that were git added as a new version. -m is to leave a message to see what you have changed in this version\n",
    "4. git pull - pulls all newly updated pushed data\n",
    "5. git push - pushes all newly updated data from commit\n",
    "6. git fetch --all - fetches the newest version from the repository\n",
    "7. git reset --hard origin/master - MAKE SURE TO BACK UP YOUR FILES BEFORE THIS COMMAND. After using the git fetch command, this will reset all files in repository to the newest version. You will LOSE all edits to any files you made."
   ]
  },
  {
   "cell_type": "markdown",
   "metadata": {},
   "source": [
    "# Lesson 5 Pre-work"
   ]
  },
  {
   "cell_type": "markdown",
   "metadata": {},
   "source": [
    "## Linear Regression"
   ]
  },
  {
   "cell_type": "markdown",
   "metadata": {},
   "source": [
    "Since Reid has already posted his Linear Regression ppt online, I will focus more on extra reading material. If you want more extra Python coding on Linear Regression, please mention it in the Exit Ticket or slack me directly and I will include one in the next review/prework.\n",
    "\n",
    "This is a great, free online course for Penn States' Statistic Course.\n",
    "https://onlinecourses.science.psu.edu/stat501/node/250\n",
    "\n",
    "### What are the differences between a Correlation and a Linear Regression? Aren't they doing the same thing?\n",
    "\n",
    "First things first, they are not the same. They are similar, but achieve different goals. I'll break them down into similarities and differences.\n",
    "\n",
    "#### Similarities\n",
    "- The standardised regression coefficient is the same as Pearson's correlation coefficient\n",
    "- The square of Pearson's correlation coefficient is the same as the R^2 in simple linear regression\n",
    "- Neither simple linear regression nor correlation answer questions of causality directly. This point is important, because I've met people that think that simple regression can magically allow an inference that X causes Y.\n",
    "\n",
    "#### Differences\n",
    "- Correlation quantifies the relationship between two variables. Correlation does not fit a line through the data.\n",
    "- Correlation typically refers to Pearson Correlation, but there are other correlations, such as Spearman's Correlation.\n",
    "- It does not matter whether you call which feature X or Y, you will get the same correlation if you swap them. With linear regression, you have to decide your independent/predictor variable (X) with your dependent/target variable (Y). You are looking for a best fit line that predicts Y from X, and it will definitely be different if you swap them around.\n",
    "- Linear Regression fits a best fit line to predict Y from X. If you were to bring in new data/samples, predictor X can help you predict the outcomes of Y, based off of previous data.\n",
    "- Although both correlation and linear regression does not answer causality directly, with linear regression you do have to think about causality to determine whether X is the best predictor for Y.\n",
    "\n",
    "In short, if you are interested in seeing the magnitude of the relationship between X and Y, use correlation. If you are interested in predicting and explaining your results in particular values, use linear regression.\n",
    "\n",
    "### What are the differences between Simple Linear Regression/Ordinary Least Squares Regression (OLS)/Linear Least Squares? What about Multiple Linear Regression?\n",
    "\n",
    "Ordinary Least Squares Regression (OLS) and Linear Least Squares are the same thing. The goal is to reduce the error rate or the squares. Looks something like this: https://training-course-material.com/images/a/ac/Images-mod2-linear12.gif How is it different from Simple Linear Regression? Not much, they are practically the same thing. In order to reduce the error rate/squares in OLS, you have to use Simple Linear Regression or Multiple Linear Regression in a dataset. The only difference is SLR has 1 target and 1 predictor, where as MLR has 1 target and 2 or more predictors.\n",
    "\n",
    "### What is statistic interaction?\n",
    "\n",
    "Remember in class we multiplied 2 features together to get a better R^2? The reason why we did that is to see if there is an interaction between the 2 features. We want to see if the effect of 1 independent variable will vary depending on the level of another independent variable.\n",
    "\n",
    "This website provides some further insight on statistic interaction (the bottom of the page has graphs): \n",
    "\n",
    "https://courses.washington.edu/smartpsy/interactions.htm\n",
    "\n",
    "This blog provides a simple and clear example on statistic interaction:\n",
    "\n",
    "http://www.theanalysisfactor.com/interpreting-interactions-in-regression/"
   ]
  },
  {
   "cell_type": "code",
   "execution_count": null,
   "metadata": {
    "collapsed": true
   },
   "outputs": [],
   "source": []
  }
 ],
 "metadata": {
  "anaconda-cloud": {},
  "kernelspec": {
   "display_name": "Python [dsi]",
   "language": "python",
   "name": "Python [dsi]"
  },
  "language_info": {
   "codemirror_mode": {
    "name": "ipython",
    "version": 2
   },
   "file_extension": ".py",
   "mimetype": "text/x-python",
   "name": "python",
   "nbconvert_exporter": "python",
   "pygments_lexer": "ipython2",
   "version": "2.7.12"
  }
 },
 "nbformat": 4,
 "nbformat_minor": 0
}
