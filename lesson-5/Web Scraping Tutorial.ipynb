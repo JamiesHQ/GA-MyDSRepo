{
 "cells": [
  {
   "cell_type": "markdown",
   "metadata": {},
   "source": [
    "# Web Scraping Tutorial"
   ]
  },
  {
   "cell_type": "markdown",
   "metadata": {},
   "source": [
    "I've received interest from some people about web scraping, so I decided to make a tutorial to help you guys and gals get started!\n",
    "\n",
    "Installation\n",
    "1. XPath - Add On that helps you find absolute/relative paths of text on a webpage faster. I don't use Firefox so I am not sure how it works, but should work very similar.\n",
    "    - Chrome https://chrome.google.com/webstore/detail/xpath-helper/hgimnogjllphhhkhlmebbmlgjoejdpjl\n",
    "    - Firefox https://addons.mozilla.org/en-US/firefox/addon/xpath-checker/\n",
    "2. conda install bs4 or pip install bs4\n",
    "3. conda install lxml or pip install lxml\n",
    "4. pip install scrapy\n",
    "\n",
    "bs4 is BeautifulSoup4, which is a package that helps deal with HTML tags\n",
    "\n",
    "lxml processes XML and HTML in Python\n",
    "\n",
    "Scrapy allows us to use XPATH Selector\n",
    "\n",
    "If you find yourself having problems scraping websites that have a ton of injected JavaScript or JQuery, you'll need to download a web driver:\n",
    "    - Chrome: https://sites.google.com/a/chromium.org/chromedriver/downloads\n",
    "    - Firefox: https://github.com/mozilla/geckodriver/releases\n",
    "    - Safari: https://webkit.org/blog/6900/webdriver-support-in-safari-10/\n",
    "    - IE: https://developer.microsoft.com/en-us/microsoft-edge/tools/webdriver/\n",
    "\n",
    "You'll also need to install Selenium\n",
    "pip install selenium\n",
    "\n",
    "Web drivers and Selenium allows you to access all the injected JavaScript and JQuery.\n",
    "\n",
    "### *** FAIR WARNING ***\n",
    "### Web scraping is not entirely legal. If you are accessing/scraping hundreds of pages within seconds, they will find out and you will get yourself banned! Please use with caution!"
   ]
  },
  {
   "cell_type": "markdown",
   "metadata": {},
   "source": [
    "# Let's start scraping!"
   ]
  },
  {
   "cell_type": "code",
   "execution_count": 71,
   "metadata": {
    "collapsed": true
   },
   "outputs": [],
   "source": [
    "# First let's import everything we just installed!\n",
    "\n",
    "import pandas as pd\n",
    "import numpy as np\n",
    "from scrapy.selector import Selector\n",
    "from scrapy.http import HtmlResponse\n",
    "import requests\n",
    "import time\n",
    "from bs4 import BeautifulSoup\n",
    "\n",
    "# If you need it, after downloading the webdriver, you'll need to access it\n",
    "from selenium import webdriver\n",
    "chromedriver = \"/Users/edwardlee/Desktop/chromedriver\""
   ]
  },
  {
   "cell_type": "code",
   "execution_count": 72,
   "metadata": {
    "collapsed": false
   },
   "outputs": [
    {
     "data": {
      "text/plain": [
       "u'\\ufeff<!DOCTYPE html>\\n\\n<html class=\"no-js\"><head>\\n    <title>SF bay area cars &amp; trucks  - craigslist</title>\\n\\n    <meta name=\"description\" content=\"SF bay area cars &amp; trucks  - craigslist\">\\n    <meta http-equiv=\"X-UA-Compatible\" content=\"IE=Edge\"/>\\n    <link rel=\"canonical\" href=\"https://sfbay.craigslist.org/search/sfc/cta\">\\n    <link rel=\"alternate\" type=\"application/rss+xml\" href=\"https://sfbay.craigslist.org/search/sfc/cta?format=rss\" title=\"RSS feed for craigslist | SF bay area cars &amp;'"
      ]
     },
     "execution_count": 72,
     "metadata": {},
     "output_type": "execute_result"
    }
   ],
   "source": [
    "# Let's scrape some Craigslist\n",
    "# BE SURE THAT WHEN YOU DO .GET REQUEST, YOU AREN'T DOING IT CONSTANTLY, EVERY .GET RESPONSE TALKS TO THE WEBSITE.\n",
    "# IF YOU DO IT MULTIPLE TIMES, THEY'LL CATCH ON!\n",
    "# USE THE TIME COMMAND TO HAVE A BIT MORE RANDOMNESS TO IT, BUT ITS NOT 100% PROOF\n",
    "\n",
    "response = requests.get('https://sfbay.craigslist.org/search/sfc/cta')\n",
    "time.sleep(5*np.random.rand())\n",
    "HTML = response.text\n",
    "HTML[0:500]"
   ]
  },
  {
   "cell_type": "markdown",
   "metadata": {},
   "source": [
    "Above is the HTML for the cars and trucks in the sfbay. We want to find the titles and pricing! We will need to find the relative xpath for each tag. Using your xpath addon, highlight over the item you want and it should show you the absolute path. By using // you can narrow down the xpath to the item you want. An example below:\n",
    "\n",
    "**Absolute Path**: ```/html[@class='js canvas draggable fileAPI geolocation hashChange matchMedia picture pushState placeholder no-touchCapable transitions localStorage']/body[@class='search has-map en desktop w1024 grid']/section[@id='page-top']/form[@id='searchform']/div[@id='sortable-results']/ul[@class='rows']/li[@class='result-row'][1]/p[@class='result-info']/span[@class='result-meta']/span[@class='result-price']```\n",
    "\n",
    "**Relative Path**: ```//li[@class='result-row']//span[@class='result-price']```\n",
    "\n",
    "The relative path gives me ALL the prices on the first page. We can save that into a variable."
   ]
  },
  {
   "cell_type": "code",
   "execution_count": 73,
   "metadata": {
    "collapsed": false,
    "scrolled": true
   },
   "outputs": [
    {
     "data": {
      "text/plain": [
       "[u'$3000', u'$2800', u'$9500', u'$4800', u'$11990']"
      ]
     },
     "execution_count": 73,
     "metadata": {},
     "output_type": "execute_result"
    }
   ],
   "source": [
    "prices = Selector(text=HTML).xpath(\"//li[@class='result-row']/p[@class='result-info']/span[@class='result-meta']/span[@class='result-price']/text()\").extract()\n",
    "prices[0:5]"
   ]
  },
  {
   "cell_type": "code",
   "execution_count": 76,
   "metadata": {
    "collapsed": false,
    "scrolled": true
   },
   "outputs": [
    {
     "data": {
      "text/plain": [
       "[u'2008 Chevy Tahoe LTZ 120k miles',\n",
       " u'2005 Kia Optima',\n",
       " u'2008 Mercedes c300 amg package 6 speed manual',\n",
       " u'2001 Volvo S80 LOW MILAGE 94K!!! VERY CLEAN!!!',\n",
       " u'2005 Ford F-250 Super Duty Diesel Lifted New Off Road Tires Tool Box!!']"
      ]
     },
     "execution_count": 76,
     "metadata": {},
     "output_type": "execute_result"
    }
   ],
   "source": [
    "# Now let's do the same thing with titles\n",
    "titles = Selector(text=HTML).xpath(\"//li[@class='result-row']/p[@class='result-info']/a[@class='result-title hdrlnk']/text()\").extract()\n",
    "titles[0:5]"
   ]
  },
  {
   "cell_type": "code",
   "execution_count": 77,
   "metadata": {
    "collapsed": false
   },
   "outputs": [
    {
     "name": "stdout",
     "output_type": "stream",
     "text": [
      "92\n",
      "100\n"
     ]
    }
   ],
   "source": [
    "print len(prices)\n",
    "print len(titles)"
   ]
  },
  {
   "cell_type": "markdown",
   "metadata": {},
   "source": [
    "However, we noticed that not every post has a price listed, but every title is listed! We will need to loop it 1 by 1 to make sure that we get everything"
   ]
  },
  {
   "cell_type": "code",
   "execution_count": 78,
   "metadata": {
    "collapsed": false
   },
   "outputs": [],
   "source": [
    "title_xpath = \"//li[@class='result-row'][%s]/p[@class='result-info']/a[@class='result-title hdrlnk']/text()\"\n",
    "price_xpath = \"//li[@class='result-row'][%s]/p[@class='result-info']/span[@class='result-meta']/span[@class='result-price']/text()\"\n",
    "\n",
    "# The [%s] sign is important! It'll allow us to fill in the value we need.\n",
    "\n",
    "titles_all = []\n",
    "price_all = []\n",
    "for i in range(1,101):\n",
    "    title_placeholder = title_xpath % i\n",
    "    price_placeholder = price_xpath % i\n",
    "    \n",
    "    titles_all.append(Selector(text=HTML).xpath(title_placeholder).extract())\n",
    "    price_all.append(Selector(text=HTML).xpath(price_placeholder).extract())\n",
    "        \n",
    "df = pd.DataFrame({'titles': titles_all, 'price': price_all})"
   ]
  },
  {
   "cell_type": "code",
   "execution_count": 79,
   "metadata": {
    "collapsed": false
   },
   "outputs": [
    {
     "data": {
      "text/html": [
       "<div>\n",
       "<table border=\"1\" class=\"dataframe\">\n",
       "  <thead>\n",
       "    <tr style=\"text-align: right;\">\n",
       "      <th></th>\n",
       "      <th>price</th>\n",
       "      <th>titles</th>\n",
       "    </tr>\n",
       "  </thead>\n",
       "  <tbody>\n",
       "    <tr>\n",
       "      <th>0</th>\n",
       "      <td>[$3000]</td>\n",
       "      <td>[2008 Chevy Tahoe LTZ 120k miles]</td>\n",
       "    </tr>\n",
       "    <tr>\n",
       "      <th>1</th>\n",
       "      <td>[$2800]</td>\n",
       "      <td>[2005 Kia Optima]</td>\n",
       "    </tr>\n",
       "    <tr>\n",
       "      <th>2</th>\n",
       "      <td>[$9500]</td>\n",
       "      <td>[2008 Mercedes c300 amg package 6 speed manual]</td>\n",
       "    </tr>\n",
       "    <tr>\n",
       "      <th>3</th>\n",
       "      <td>[$4800]</td>\n",
       "      <td>[2001 Volvo S80 LOW MILAGE 94K!!! VERY CLEAN!!!]</td>\n",
       "    </tr>\n",
       "    <tr>\n",
       "      <th>4</th>\n",
       "      <td>[$11990]</td>\n",
       "      <td>[2005 Ford F-250 Super Duty Diesel Lifted New ...</td>\n",
       "    </tr>\n",
       "    <tr>\n",
       "      <th>5</th>\n",
       "      <td>[$995]</td>\n",
       "      <td>[2006 Mitsubishi Eclipse 150k miles front dama...</td>\n",
       "    </tr>\n",
       "    <tr>\n",
       "      <th>6</th>\n",
       "      <td>[$14990]</td>\n",
       "      <td>[2010 Acura TL Navigation Back Up Camera Leath...</td>\n",
       "    </tr>\n",
       "    <tr>\n",
       "      <th>7</th>\n",
       "      <td>[$4000]</td>\n",
       "      <td>[2013 Kia Optima LX]</td>\n",
       "    </tr>\n",
       "    <tr>\n",
       "      <th>8</th>\n",
       "      <td>[$7495]</td>\n",
       "      <td>[2006 *Volkswagen* *Jetta* Value Edition PZEV ...</td>\n",
       "    </tr>\n",
       "    <tr>\n",
       "      <th>9</th>\n",
       "      <td>[$23500]</td>\n",
       "      <td>[For sale mercedes sl500]</td>\n",
       "    </tr>\n",
       "  </tbody>\n",
       "</table>\n",
       "</div>"
      ],
      "text/plain": [
       "      price                                             titles\n",
       "0   [$3000]                  [2008 Chevy Tahoe LTZ 120k miles]\n",
       "1   [$2800]                                  [2005 Kia Optima]\n",
       "2   [$9500]    [2008 Mercedes c300 amg package 6 speed manual]\n",
       "3   [$4800]   [2001 Volvo S80 LOW MILAGE 94K!!! VERY CLEAN!!!]\n",
       "4  [$11990]  [2005 Ford F-250 Super Duty Diesel Lifted New ...\n",
       "5    [$995]  [2006 Mitsubishi Eclipse 150k miles front dama...\n",
       "6  [$14990]  [2010 Acura TL Navigation Back Up Camera Leath...\n",
       "7   [$4000]                               [2013 Kia Optima LX]\n",
       "8   [$7495]  [2006 *Volkswagen* *Jetta* Value Edition PZEV ...\n",
       "9  [$23500]                          [For sale mercedes sl500]"
      ]
     },
     "execution_count": 79,
     "metadata": {},
     "output_type": "execute_result"
    }
   ],
   "source": [
    "# Completed!\n",
    "df.head(10)"
   ]
  },
  {
   "cell_type": "markdown",
   "metadata": {},
   "source": [
    "BeautifulSoup is a great package to help you find information! Below is an example, I'll use the same HTML link."
   ]
  },
  {
   "cell_type": "code",
   "execution_count": 80,
   "metadata": {
    "collapsed": false
   },
   "outputs": [],
   "source": [
    "soup = BeautifulSoup(HTML, \"lxml\")"
   ]
  },
  {
   "cell_type": "code",
   "execution_count": 81,
   "metadata": {
    "collapsed": false
   },
   "outputs": [
    {
     "data": {
      "text/plain": [
       "<title>SF bay area cars &amp; trucks  - craigslist</title>"
      ]
     },
     "execution_count": 81,
     "metadata": {},
     "output_type": "execute_result"
    }
   ],
   "source": [
    "soup.html.title"
   ]
  },
  {
   "cell_type": "code",
   "execution_count": 82,
   "metadata": {
    "collapsed": false
   },
   "outputs": [
    {
     "data": {
      "text/plain": [
       "u'SF bay area cars & trucks  - craigslist'"
      ]
     },
     "execution_count": 82,
     "metadata": {},
     "output_type": "execute_result"
    }
   ],
   "source": [
    "soup.html.title.text"
   ]
  },
  {
   "cell_type": "code",
   "execution_count": 83,
   "metadata": {
    "collapsed": false
   },
   "outputs": [],
   "source": [
    "element = soup.find_all('span', {'class': 'result-price'})"
   ]
  },
  {
   "cell_type": "code",
   "execution_count": 84,
   "metadata": {
    "collapsed": false
   },
   "outputs": [
    {
     "data": {
      "text/plain": [
       "u'$3000'"
      ]
     },
     "execution_count": 84,
     "metadata": {},
     "output_type": "execute_result"
    }
   ],
   "source": [
    "# You can now loop through this and put it into a list to put into a dataframe!\n",
    "element[0].text"
   ]
  },
  {
   "cell_type": "markdown",
   "metadata": {},
   "source": [
    "BeautifulSoup4 is very powerful to help you clean up HTML and find specific things you need. I won't go over everything, but their documentation is really good: https://www.crummy.com/software/BeautifulSoup/bs4/doc/"
   ]
  },
  {
   "cell_type": "markdown",
   "metadata": {},
   "source": [
    "Here's a quick tutorial on how to use webdriver. The code below is my code for scraping a dropdown box injected with JQuery. I could not scrape it regularly, so I used selenium's webdriver to get it."
   ]
  },
  {
   "cell_type": "code",
   "execution_count": 85,
   "metadata": {
    "collapsed": true
   },
   "outputs": [],
   "source": [
    "browser = webdriver.Chrome(executable_path = chromedriver)\n",
    "\n",
    "# Get all years for 1996-2016\n",
    "browser.get('http://stats.nba.com/league/player/')\n",
    "HTML = browser.page_source\n",
    "year_data = Selector(text=HTML).xpath(\"//select[@name='Season']/option/text()\").extract()\n",
    "\n",
    "# Make sure to quit the webdriver browser or you'll end up having a bunch of opened browsers\n",
    "browser.quit()"
   ]
  },
  {
   "cell_type": "code",
   "execution_count": 86,
   "metadata": {
    "collapsed": false
   },
   "outputs": [
    {
     "data": {
      "text/plain": [
       "[u'2016-17',\n",
       " u'2015-16',\n",
       " u'2014-15',\n",
       " u'2013-14',\n",
       " u'2012-13',\n",
       " u'2011-12',\n",
       " u'2010-11',\n",
       " u'2009-10',\n",
       " u'2008-09',\n",
       " u'2007-08',\n",
       " u'2006-07',\n",
       " u'2005-06',\n",
       " u'2004-05',\n",
       " u'2003-04',\n",
       " u'2002-03',\n",
       " u'2001-02',\n",
       " u'2000-01',\n",
       " u'1999-00',\n",
       " u'1998-99',\n",
       " u'1997-98',\n",
       " u'1996-97']"
      ]
     },
     "execution_count": 86,
     "metadata": {},
     "output_type": "execute_result"
    }
   ],
   "source": [
    "year_data"
   ]
  }
 ],
 "metadata": {
  "anaconda-cloud": {},
  "kernelspec": {
   "display_name": "Python [dsi]",
   "language": "python",
   "name": "Python [dsi]"
  },
  "language_info": {
   "codemirror_mode": {
    "name": "ipython",
    "version": 2
   },
   "file_extension": ".py",
   "mimetype": "text/x-python",
   "name": "python",
   "nbconvert_exporter": "python",
   "pygments_lexer": "ipython2",
   "version": "2.7.12"
  }
 },
 "nbformat": 4,
 "nbformat_minor": 0
}
