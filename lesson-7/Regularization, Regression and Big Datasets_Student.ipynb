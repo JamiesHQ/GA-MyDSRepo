{
 "cells": [
  {
   "cell_type": "markdown",
   "metadata": {},
   "source": [
    "## Step 1: download the data from 2008"
   ]
  },
  {
   "cell_type": "markdown",
   "metadata": {},
   "source": [
    "http://stat-computing.org/dataexpo/2009/the-data.html"
   ]
  },
  {
   "cell_type": "code",
   "execution_count": 11,
   "metadata": {
    "collapsed": true
   },
   "outputs": [],
   "source": [
    "import pandas as pd\n",
    "\n",
    "df = pd.read_csv(\"/Users/jamiew/GA-DataScience/GA-MyDSRepo/lesson-7/2008.csv\").fillna(0)"
   ]
  },
  {
   "cell_type": "code",
   "execution_count": 31,
   "metadata": {
    "collapsed": true
   },
   "outputs": [],
   "source": [
    "df2 = df.head(10000)"
   ]
  },
  {
   "cell_type": "code",
   "execution_count": 32,
   "metadata": {
    "collapsed": false
   },
   "outputs": [
    {
     "data": {
      "text/html": [
       "<div>\n",
       "<table border=\"1\" class=\"dataframe\">\n",
       "  <thead>\n",
       "    <tr style=\"text-align: right;\">\n",
       "      <th></th>\n",
       "      <th>Year</th>\n",
       "      <th>Month</th>\n",
       "      <th>DayofMonth</th>\n",
       "      <th>DayOfWeek</th>\n",
       "      <th>DepTime</th>\n",
       "      <th>CRSDepTime</th>\n",
       "      <th>ArrTime</th>\n",
       "      <th>CRSArrTime</th>\n",
       "      <th>UniqueCarrier</th>\n",
       "      <th>FlightNum</th>\n",
       "      <th>TailNum</th>\n",
       "      <th>ActualElapsedTime</th>\n",
       "      <th>CRSElapsedTime</th>\n",
       "      <th>AirTime</th>\n",
       "      <th>ArrDelay</th>\n",
       "      <th>DepDelay</th>\n",
       "      <th>Origin</th>\n",
       "      <th>Dest</th>\n",
       "      <th>Distance</th>\n",
       "      <th>TaxiIn</th>\n",
       "      <th>TaxiOut</th>\n",
       "      <th>Cancelled</th>\n",
       "      <th>CancellationCode</th>\n",
       "      <th>Diverted</th>\n",
       "      <th>CarrierDelay</th>\n",
       "      <th>WeatherDelay</th>\n",
       "      <th>NASDelay</th>\n",
       "      <th>SecurityDelay</th>\n",
       "      <th>LateAircraftDelay</th>\n",
       "    </tr>\n",
       "  </thead>\n",
       "  <tbody>\n",
       "    <tr>\n",
       "      <th>0</th>\n",
       "      <td>2008</td>\n",
       "      <td>1</td>\n",
       "      <td>3</td>\n",
       "      <td>4</td>\n",
       "      <td>2003.0</td>\n",
       "      <td>1955</td>\n",
       "      <td>2211.0</td>\n",
       "      <td>2225</td>\n",
       "      <td>WN</td>\n",
       "      <td>335</td>\n",
       "      <td>N712SW</td>\n",
       "      <td>128.0</td>\n",
       "      <td>150.0</td>\n",
       "      <td>116.0</td>\n",
       "      <td>-14.0</td>\n",
       "      <td>8.0</td>\n",
       "      <td>IAD</td>\n",
       "      <td>TPA</td>\n",
       "      <td>810</td>\n",
       "      <td>4.0</td>\n",
       "      <td>8.0</td>\n",
       "      <td>0</td>\n",
       "      <td>0</td>\n",
       "      <td>0</td>\n",
       "      <td>0.0</td>\n",
       "      <td>0.0</td>\n",
       "      <td>0.0</td>\n",
       "      <td>0.0</td>\n",
       "      <td>0.0</td>\n",
       "    </tr>\n",
       "    <tr>\n",
       "      <th>1</th>\n",
       "      <td>2008</td>\n",
       "      <td>1</td>\n",
       "      <td>3</td>\n",
       "      <td>4</td>\n",
       "      <td>754.0</td>\n",
       "      <td>735</td>\n",
       "      <td>1002.0</td>\n",
       "      <td>1000</td>\n",
       "      <td>WN</td>\n",
       "      <td>3231</td>\n",
       "      <td>N772SW</td>\n",
       "      <td>128.0</td>\n",
       "      <td>145.0</td>\n",
       "      <td>113.0</td>\n",
       "      <td>2.0</td>\n",
       "      <td>19.0</td>\n",
       "      <td>IAD</td>\n",
       "      <td>TPA</td>\n",
       "      <td>810</td>\n",
       "      <td>5.0</td>\n",
       "      <td>10.0</td>\n",
       "      <td>0</td>\n",
       "      <td>0</td>\n",
       "      <td>0</td>\n",
       "      <td>0.0</td>\n",
       "      <td>0.0</td>\n",
       "      <td>0.0</td>\n",
       "      <td>0.0</td>\n",
       "      <td>0.0</td>\n",
       "    </tr>\n",
       "    <tr>\n",
       "      <th>2</th>\n",
       "      <td>2008</td>\n",
       "      <td>1</td>\n",
       "      <td>3</td>\n",
       "      <td>4</td>\n",
       "      <td>628.0</td>\n",
       "      <td>620</td>\n",
       "      <td>804.0</td>\n",
       "      <td>750</td>\n",
       "      <td>WN</td>\n",
       "      <td>448</td>\n",
       "      <td>N428WN</td>\n",
       "      <td>96.0</td>\n",
       "      <td>90.0</td>\n",
       "      <td>76.0</td>\n",
       "      <td>14.0</td>\n",
       "      <td>8.0</td>\n",
       "      <td>IND</td>\n",
       "      <td>BWI</td>\n",
       "      <td>515</td>\n",
       "      <td>3.0</td>\n",
       "      <td>17.0</td>\n",
       "      <td>0</td>\n",
       "      <td>0</td>\n",
       "      <td>0</td>\n",
       "      <td>0.0</td>\n",
       "      <td>0.0</td>\n",
       "      <td>0.0</td>\n",
       "      <td>0.0</td>\n",
       "      <td>0.0</td>\n",
       "    </tr>\n",
       "    <tr>\n",
       "      <th>3</th>\n",
       "      <td>2008</td>\n",
       "      <td>1</td>\n",
       "      <td>3</td>\n",
       "      <td>4</td>\n",
       "      <td>926.0</td>\n",
       "      <td>930</td>\n",
       "      <td>1054.0</td>\n",
       "      <td>1100</td>\n",
       "      <td>WN</td>\n",
       "      <td>1746</td>\n",
       "      <td>N612SW</td>\n",
       "      <td>88.0</td>\n",
       "      <td>90.0</td>\n",
       "      <td>78.0</td>\n",
       "      <td>-6.0</td>\n",
       "      <td>-4.0</td>\n",
       "      <td>IND</td>\n",
       "      <td>BWI</td>\n",
       "      <td>515</td>\n",
       "      <td>3.0</td>\n",
       "      <td>7.0</td>\n",
       "      <td>0</td>\n",
       "      <td>0</td>\n",
       "      <td>0</td>\n",
       "      <td>0.0</td>\n",
       "      <td>0.0</td>\n",
       "      <td>0.0</td>\n",
       "      <td>0.0</td>\n",
       "      <td>0.0</td>\n",
       "    </tr>\n",
       "    <tr>\n",
       "      <th>4</th>\n",
       "      <td>2008</td>\n",
       "      <td>1</td>\n",
       "      <td>3</td>\n",
       "      <td>4</td>\n",
       "      <td>1829.0</td>\n",
       "      <td>1755</td>\n",
       "      <td>1959.0</td>\n",
       "      <td>1925</td>\n",
       "      <td>WN</td>\n",
       "      <td>3920</td>\n",
       "      <td>N464WN</td>\n",
       "      <td>90.0</td>\n",
       "      <td>90.0</td>\n",
       "      <td>77.0</td>\n",
       "      <td>34.0</td>\n",
       "      <td>34.0</td>\n",
       "      <td>IND</td>\n",
       "      <td>BWI</td>\n",
       "      <td>515</td>\n",
       "      <td>3.0</td>\n",
       "      <td>10.0</td>\n",
       "      <td>0</td>\n",
       "      <td>0</td>\n",
       "      <td>0</td>\n",
       "      <td>2.0</td>\n",
       "      <td>0.0</td>\n",
       "      <td>0.0</td>\n",
       "      <td>0.0</td>\n",
       "      <td>32.0</td>\n",
       "    </tr>\n",
       "  </tbody>\n",
       "</table>\n",
       "</div>"
      ],
      "text/plain": [
       "   Year  Month  DayofMonth  DayOfWeek  DepTime  CRSDepTime  ArrTime  \\\n",
       "0  2008      1           3          4   2003.0        1955   2211.0   \n",
       "1  2008      1           3          4    754.0         735   1002.0   \n",
       "2  2008      1           3          4    628.0         620    804.0   \n",
       "3  2008      1           3          4    926.0         930   1054.0   \n",
       "4  2008      1           3          4   1829.0        1755   1959.0   \n",
       "\n",
       "   CRSArrTime UniqueCarrier  FlightNum TailNum  ActualElapsedTime  \\\n",
       "0        2225            WN        335  N712SW              128.0   \n",
       "1        1000            WN       3231  N772SW              128.0   \n",
       "2         750            WN        448  N428WN               96.0   \n",
       "3        1100            WN       1746  N612SW               88.0   \n",
       "4        1925            WN       3920  N464WN               90.0   \n",
       "\n",
       "   CRSElapsedTime  AirTime  ArrDelay  DepDelay Origin Dest  Distance  TaxiIn  \\\n",
       "0           150.0    116.0     -14.0       8.0    IAD  TPA       810     4.0   \n",
       "1           145.0    113.0       2.0      19.0    IAD  TPA       810     5.0   \n",
       "2            90.0     76.0      14.0       8.0    IND  BWI       515     3.0   \n",
       "3            90.0     78.0      -6.0      -4.0    IND  BWI       515     3.0   \n",
       "4            90.0     77.0      34.0      34.0    IND  BWI       515     3.0   \n",
       "\n",
       "   TaxiOut  Cancelled CancellationCode  Diverted  CarrierDelay  WeatherDelay  \\\n",
       "0      8.0          0                0         0           0.0           0.0   \n",
       "1     10.0          0                0         0           0.0           0.0   \n",
       "2     17.0          0                0         0           0.0           0.0   \n",
       "3      7.0          0                0         0           0.0           0.0   \n",
       "4     10.0          0                0         0           2.0           0.0   \n",
       "\n",
       "   NASDelay  SecurityDelay  LateAircraftDelay  \n",
       "0       0.0            0.0                0.0  \n",
       "1       0.0            0.0                0.0  \n",
       "2       0.0            0.0                0.0  \n",
       "3       0.0            0.0                0.0  \n",
       "4       0.0            0.0               32.0  "
      ]
     },
     "execution_count": 32,
     "metadata": {},
     "output_type": "execute_result"
    }
   ],
   "source": [
    "pd.options.display.max_columns = 999\n",
    "\n",
    "df.head()"
   ]
  },
  {
   "cell_type": "markdown",
   "metadata": {},
   "source": [
    "### This dataset is WAY TOO BIG for the get_dummies function\n",
    "\n",
    "+ Feel free to test it out and eventually use the \"interrupt\" function when you get bored\n",
    "+ Hey maybe it still works? Who knows. It took a while for me. "
   ]
  },
  {
   "cell_type": "code",
   "execution_count": null,
   "metadata": {
    "collapsed": true
   },
   "outputs": [],
   "source": [
    "pd.get_dummies(df[['TailNum', 'Origin', 'Dest']])"
   ]
  },
  {
   "cell_type": "markdown",
   "metadata": {},
   "source": [
    "### Let's first investigate the String Vars here"
   ]
  },
  {
   "cell_type": "code",
   "execution_count": 33,
   "metadata": {
    "collapsed": false
   },
   "outputs": [
    {
     "data": {
      "text/html": [
       "<div>\n",
       "<table border=\"1\" class=\"dataframe\">\n",
       "  <thead>\n",
       "    <tr style=\"text-align: right;\">\n",
       "      <th></th>\n",
       "      <th>UniqueCarrier</th>\n",
       "      <th>TailNum</th>\n",
       "      <th>Origin</th>\n",
       "      <th>Dest</th>\n",
       "      <th>CancellationCode</th>\n",
       "    </tr>\n",
       "  </thead>\n",
       "  <tbody>\n",
       "    <tr>\n",
       "      <th>0</th>\n",
       "      <td>WN</td>\n",
       "      <td>N712SW</td>\n",
       "      <td>IAD</td>\n",
       "      <td>TPA</td>\n",
       "      <td>0</td>\n",
       "    </tr>\n",
       "    <tr>\n",
       "      <th>1</th>\n",
       "      <td>WN</td>\n",
       "      <td>N772SW</td>\n",
       "      <td>IAD</td>\n",
       "      <td>TPA</td>\n",
       "      <td>0</td>\n",
       "    </tr>\n",
       "    <tr>\n",
       "      <th>2</th>\n",
       "      <td>WN</td>\n",
       "      <td>N428WN</td>\n",
       "      <td>IND</td>\n",
       "      <td>BWI</td>\n",
       "      <td>0</td>\n",
       "    </tr>\n",
       "    <tr>\n",
       "      <th>3</th>\n",
       "      <td>WN</td>\n",
       "      <td>N612SW</td>\n",
       "      <td>IND</td>\n",
       "      <td>BWI</td>\n",
       "      <td>0</td>\n",
       "    </tr>\n",
       "    <tr>\n",
       "      <th>4</th>\n",
       "      <td>WN</td>\n",
       "      <td>N464WN</td>\n",
       "      <td>IND</td>\n",
       "      <td>BWI</td>\n",
       "      <td>0</td>\n",
       "    </tr>\n",
       "    <tr>\n",
       "      <th>5</th>\n",
       "      <td>WN</td>\n",
       "      <td>N726SW</td>\n",
       "      <td>IND</td>\n",
       "      <td>JAX</td>\n",
       "      <td>0</td>\n",
       "    </tr>\n",
       "    <tr>\n",
       "      <th>6</th>\n",
       "      <td>WN</td>\n",
       "      <td>N763SW</td>\n",
       "      <td>IND</td>\n",
       "      <td>LAS</td>\n",
       "      <td>0</td>\n",
       "    </tr>\n",
       "    <tr>\n",
       "      <th>7</th>\n",
       "      <td>WN</td>\n",
       "      <td>N428WN</td>\n",
       "      <td>IND</td>\n",
       "      <td>LAS</td>\n",
       "      <td>0</td>\n",
       "    </tr>\n",
       "    <tr>\n",
       "      <th>8</th>\n",
       "      <td>WN</td>\n",
       "      <td>N689SW</td>\n",
       "      <td>IND</td>\n",
       "      <td>MCI</td>\n",
       "      <td>0</td>\n",
       "    </tr>\n",
       "    <tr>\n",
       "      <th>9</th>\n",
       "      <td>WN</td>\n",
       "      <td>N648SW</td>\n",
       "      <td>IND</td>\n",
       "      <td>MCI</td>\n",
       "      <td>0</td>\n",
       "    </tr>\n",
       "  </tbody>\n",
       "</table>\n",
       "</div>"
      ],
      "text/plain": [
       "  UniqueCarrier TailNum Origin Dest CancellationCode\n",
       "0            WN  N712SW    IAD  TPA                0\n",
       "1            WN  N772SW    IAD  TPA                0\n",
       "2            WN  N428WN    IND  BWI                0\n",
       "3            WN  N612SW    IND  BWI                0\n",
       "4            WN  N464WN    IND  BWI                0\n",
       "5            WN  N726SW    IND  JAX                0\n",
       "6            WN  N763SW    IND  LAS                0\n",
       "7            WN  N428WN    IND  LAS                0\n",
       "8            WN  N689SW    IND  MCI                0\n",
       "9            WN  N648SW    IND  MCI                0"
      ]
     },
     "execution_count": 33,
     "metadata": {},
     "output_type": "execute_result"
    }
   ],
   "source": [
    "df[['UniqueCarrier', 'TailNum', 'Origin', 'Dest', 'CancellationCode']].head(10)"
   ]
  },
  {
   "cell_type": "code",
   "execution_count": 34,
   "metadata": {
    "collapsed": false
   },
   "outputs": [
    {
     "data": {
      "text/plain": [
       "0    6872294\n",
       "B      54904\n",
       "A      54330\n",
       "C      28188\n",
       "D         12\n",
       "Name: CancellationCode, dtype: int64"
      ]
     },
     "execution_count": 34,
     "metadata": {},
     "output_type": "execute_result"
    }
   ],
   "source": [
    "df['CancellationCode'].value_counts()"
   ]
  },
  {
   "cell_type": "markdown",
   "metadata": {},
   "source": [
    "## We can use the Label Encoder to map the Strings to numbers!\n",
    "\n",
    "+ THESE ARE NOT DUMMY VARIABLES\n",
    "+ Note the fit vs fit_transform function"
   ]
  },
  {
   "cell_type": "code",
   "execution_count": 35,
   "metadata": {
    "collapsed": false
   },
   "outputs": [
    {
     "data": {
      "text/plain": [
       "array([6, 9, 0, 2, 1, 7, 8, 4, 3, 5])"
      ]
     },
     "execution_count": 35,
     "metadata": {},
     "output_type": "execute_result"
    }
   ],
   "source": [
    "from sklearn.preprocessing import LabelEncoder\n",
    "\n",
    "le = LabelEncoder()\n",
    "\n",
    "#le.fit(df['UniqueCarrier'].head(10)) #calling 'head' for the sake of expediency\n",
    "le.fit(df['TailNum'].unique().tolist()[0:10])\n",
    "\n",
    "#le.transform(df['UniqueCarrier'].head(10)) #transforms the number\n",
    "le.transform(df['TailNum'].unique().tolist()[0:10]) #transforms the number\n"
   ]
  },
  {
   "cell_type": "code",
   "execution_count": 36,
   "metadata": {
    "collapsed": false
   },
   "outputs": [
    {
     "data": {
      "text/plain": [
       "array([6, 9, 0, 2, 1, 7, 8, 4, 3, 5])"
      ]
     },
     "execution_count": 36,
     "metadata": {},
     "output_type": "execute_result"
    }
   ],
   "source": [
    "le = LabelEncoder()\n",
    "\n",
    "le.fit_transform(df['TailNum'].unique().tolist()[0:10])"
   ]
  },
  {
   "cell_type": "code",
   "execution_count": 37,
   "metadata": {
    "collapsed": false
   },
   "outputs": [
    {
     "data": {
      "text/plain": [
       "array([0, 0, 0, 0, 0, 0, 0, 0, 0, 0])"
      ]
     },
     "execution_count": 37,
     "metadata": {},
     "output_type": "execute_result"
    }
   ],
   "source": [
    "le = LabelEncoder()\n",
    "\n",
    "#le.fit_transform(df['UniqueCarrier'].head(10))\n",
    "le.fit_transform(df['UniqueCarrier'].head(10))"
   ]
  },
  {
   "cell_type": "markdown",
   "metadata": {},
   "source": [
    "### TASK: How can you transform all character variables into numbers? \n",
    "\n",
    "+ Take 10 minutes to work with your partner"
   ]
  },
  {
   "cell_type": "code",
   "execution_count": 39,
   "metadata": {
    "collapsed": false
   },
   "outputs": [
    {
     "data": {
      "text/plain": [
       "0       TailNum     N712SW\\nDepDelay         8\\nName: ...\n",
       "1       TailNum     N772SW\\nDepDelay        19\\nName: ...\n",
       "2       TailNum     N428WN\\nDepDelay         8\\nName: ...\n",
       "3       TailNum     N612SW\\nDepDelay        -4\\nName: ...\n",
       "4       TailNum     N464WN\\nDepDelay        34\\nName: ...\n",
       "5       TailNum     N726SW\\nDepDelay        25\\nName: ...\n",
       "6       TailNum     N763SW\\nDepDelay        67\\nName: ...\n",
       "7       TailNum     N428WN\\nDepDelay        -1\\nName: ...\n",
       "8       TailNum     N689SW\\nDepDelay         2\\nName: ...\n",
       "9       TailNum     N648SW\\nDepDelay         0\\nName: ...\n",
       "10      TailNum     N690SW\\nDepDelay         6\\nName: ...\n",
       "11      TailNum     N334SW\\nDepDelay        94\\nName: ...\n",
       "12      TailNum     N476WN\\nDepDelay        -4\\nName: ...\n",
       "13      TailNum     N765SW\\nDepDelay         0\\nName: ...\n",
       "14      TailNum     N420WN\\nDepDelay         2\\nName: ...\n",
       "15      TailNum     N263WN\\nDepDelay         9\\nName: ...\n",
       "16      TailNum     N286WN\\nDepDelay        27\\nName: ...\n",
       "17      TailNum     N778SW\\nDepDelay         9\\nName: ...\n",
       "18      TailNum     N674AA\\nDepDelay        28\\nName: ...\n",
       "19      TailNum     N643SW\\nDepDelay        51\\nName: ...\n",
       "20      TailNum     N497WN\\nDepDelay         1\\nName: ...\n",
       "21      TailNum     N724SW\\nDepDelay        32\\nName: ...\n",
       "22      TailNum     N786SW\\nDepDelay        20\\nName: ...\n",
       "23      TailNum     N714CB\\nDepDelay         9\\nName: ...\n",
       "24      TailNum     N222WN\\nDepDelay         1\\nName: ...\n",
       "25      TailNum     N394SW\\nDepDelay        25\\nName: ...\n",
       "26      TailNum     N215WN\\nDepDelay        87\\nName: ...\n",
       "27      TailNum     N243WN\\nDepDelay        29\\nName: ...\n",
       "28      TailNum     N454WN\\nDepDelay         1\\nName: ...\n",
       "29      TailNum     N712SW\\nDepDelay         4\\nName: ...\n",
       "                              ...                        \n",
       "9970    TailNum     N390SW\\nDepDelay        35\\nName: ...\n",
       "9971    TailNum     N628SW\\nDepDelay        -3\\nName: ...\n",
       "9972    TailNum     N470WN\\nDepDelay        77\\nName: ...\n",
       "9973    TailNum     N699SW\\nDepDelay        41\\nName: ...\n",
       "9974    TailNum     N647SW\\nDepDelay        21\\nName: ...\n",
       "9975    TailNum     N754SW\\nDepDelay         0\\nName: ...\n",
       "9976    TailNum     N225WN\\nDepDelay        19\\nName: ...\n",
       "9977    TailNum     N509SW\\nDepDelay         1\\nName: ...\n",
       "9978    TailNum     N304SW\\nDepDelay       135\\nName: ...\n",
       "9979    TailNum     N243WN\\nDepDelay        73\\nName: ...\n",
       "9980    TailNum     N352SW\\nDepDelay         1\\nName: ...\n",
       "9981    TailNum     N320SW\\nDepDelay        89\\nName: ...\n",
       "9982    TailNum     N208WN\\nDepDelay        28\\nName: ...\n",
       "9983    TailNum     N347SW\\nDepDelay        20\\nName: ...\n",
       "9984    TailNum     N615SW\\nDepDelay       165\\nName: ...\n",
       "9985    TailNum     N281WN\\nDepDelay        24\\nName: ...\n",
       "9986    TailNum     N398SW\\nDepDelay         0\\nName: ...\n",
       "9987    TailNum     N472WN\\nDepDelay        21\\nName: ...\n",
       "9988    TailNum     N726SW\\nDepDelay        -2\\nName: ...\n",
       "9989    TailNum     N449WN\\nDepDelay        43\\nName: ...\n",
       "9990    TailNum     N901WN\\nDepDelay         0\\nName: ...\n",
       "9991    TailNum     N315SW\\nDepDelay        85\\nName: ...\n",
       "9992    TailNum     N693SW\\nDepDelay       164\\nName: ...\n",
       "9993    TailNum     N379SW\\nDepDelay        30\\nName: ...\n",
       "9994    TailNum     N720WN\\nDepDelay        -5\\nName: ...\n",
       "9995    TailNum     N720WN\\nDepDelay         5\\nName: ...\n",
       "9996    TailNum     N720WN\\nDepDelay         4\\nName: ...\n",
       "9997    TailNum     N283WN\\nDepDelay       101\\nName: ...\n",
       "9998    TailNum     N283WN\\nDepDelay        79\\nName: ...\n",
       "9999    TailNum     N283WN\\nDepDelay         0\\nName: ...\n",
       "dtype: object"
      ]
     },
     "execution_count": 39,
     "metadata": {},
     "output_type": "execute_result"
    }
   ],
   "source": [
    "df2[['TailNum', 'DepDelay']].apply(lambda x: str(x), axis=1) #str is not the fn"
   ]
  },
  {
   "cell_type": "code",
   "execution_count": 45,
   "metadata": {
    "collapsed": false
   },
   "outputs": [
    {
     "data": {
      "text/html": [
       "<div>\n",
       "<table border=\"1\" class=\"dataframe\">\n",
       "  <thead>\n",
       "    <tr style=\"text-align: right;\">\n",
       "      <th></th>\n",
       "      <th>TailNum</th>\n",
       "      <th>UniqueCarrier</th>\n",
       "      <th>Origin</th>\n",
       "      <th>Dest</th>\n",
       "      <th>CancellationCode</th>\n",
       "    </tr>\n",
       "  </thead>\n",
       "  <tbody>\n",
       "    <tr>\n",
       "      <th>0</th>\n",
       "      <td>413</td>\n",
       "      <td>0</td>\n",
       "      <td>22</td>\n",
       "      <td>61</td>\n",
       "      <td>0</td>\n",
       "    </tr>\n",
       "    <tr>\n",
       "      <th>1</th>\n",
       "      <td>470</td>\n",
       "      <td>0</td>\n",
       "      <td>22</td>\n",
       "      <td>61</td>\n",
       "      <td>0</td>\n",
       "    </tr>\n",
       "    <tr>\n",
       "      <th>2</th>\n",
       "      <td>217</td>\n",
       "      <td>0</td>\n",
       "      <td>23</td>\n",
       "      <td>10</td>\n",
       "      <td>0</td>\n",
       "    </tr>\n",
       "    <tr>\n",
       "      <th>3</th>\n",
       "      <td>324</td>\n",
       "      <td>0</td>\n",
       "      <td>23</td>\n",
       "      <td>10</td>\n",
       "      <td>0</td>\n",
       "    </tr>\n",
       "    <tr>\n",
       "      <th>4</th>\n",
       "      <td>253</td>\n",
       "      <td>0</td>\n",
       "      <td>23</td>\n",
       "      <td>10</td>\n",
       "      <td>0</td>\n",
       "    </tr>\n",
       "  </tbody>\n",
       "</table>\n",
       "</div>"
      ],
      "text/plain": [
       "   TailNum  UniqueCarrier  Origin  Dest  CancellationCode\n",
       "0      413              0      22    61                 0\n",
       "1      470              0      22    61                 0\n",
       "2      217              0      23    10                 0\n",
       "3      324              0      23    10                 0\n",
       "4      253              0      23    10                 0"
      ]
     },
     "execution_count": 45,
     "metadata": {},
     "output_type": "execute_result"
    }
   ],
   "source": [
    "#in-class assignment\n",
    "from sklearn.preprocessing import LabelEncoder\n",
    "\n",
    "le = LabelEncoder()\n",
    "\n",
    "#le.fit(df2[['TailNum','UniqueCarrier','Origin', 'Dest','CancellationCode']].unique().tolist()[0:10])\n",
    "#le.transform(df2[['TailNum','UniqueCarrier','Origin','Dest','CancellationCode']].unique().tolist()[0:10])\n",
    "char_to_num = df2[['TailNum', 'UniqueCarrier','Origin', 'Dest','CancellationCode']].apply(lambda x: le.fit_transform(x), axis=0)\n",
    "char_to_num.head()"
   ]
  },
  {
   "cell_type": "code",
   "execution_count": 47,
   "metadata": {
    "collapsed": false
   },
   "outputs": [],
   "source": [
    "#this is to replace the headers with the labels\n",
    "df2[['TailNum', 'UniqueCarrier','Origin', 'Dest','CancellationCode']] = df2[['TailNum', 'UniqueCarrier','Origin', 'Dest','CancellationCode']].apply(lambda x: le.fit_transform(x), axis=0)\n"
   ]
  },
  {
   "cell_type": "code",
   "execution_count": null,
   "metadata": {
    "collapsed": true
   },
   "outputs": [],
   "source": []
  },
  {
   "cell_type": "code",
   "execution_count": null,
   "metadata": {
    "collapsed": true
   },
   "outputs": [],
   "source": [
    "df2[['TailNum', 'UniqueCarrier','Origin', 'Dest','CancellationCode']].apply(lambda x: le.fit_transform(x), axis=0)"
   ]
  },
  {
   "cell_type": "code",
   "execution_count": 76,
   "metadata": {
    "collapsed": false
   },
   "outputs": [],
   "source": [
    "y = df2['DepDelay']\n",
    "\n",
    "df.drop(['DepDelay'], axis = 1, inplace = True, errors = 'ignore')"
   ]
  },
  {
   "cell_type": "code",
   "execution_count": 77,
   "metadata": {
    "collapsed": false
   },
   "outputs": [
    {
     "ename": "TypeError",
     "evalue": "cannot convert the series to <type 'float'>",
     "output_type": "error",
     "traceback": [
      "\u001b[0;31m---------------------------------------------------------------------------\u001b[0m",
      "\u001b[0;31mTypeError\u001b[0m                                 Traceback (most recent call last)",
      "\u001b[0;32m<ipython-input-77-b118ed834e32>\u001b[0m in \u001b[0;36m<module>\u001b[0;34m()\u001b[0m\n\u001b[0;32m----> 1\u001b[0;31m \u001b[0mfloat\u001b[0m\u001b[0;34m(\u001b[0m\u001b[0mdf2\u001b[0m\u001b[0;34m[\u001b[0m\u001b[0;34m'CRSDepTime'\u001b[0m\u001b[0;34m]\u001b[0m\u001b[0;34m)\u001b[0m \u001b[0;31m#can't run float on a series - so you'll get an error\u001b[0m\u001b[0;34m\u001b[0m\u001b[0m\n\u001b[0m",
      "\u001b[0;32m/Users/jamiew/anaconda/lib/python2.7/site-packages/pandas/core/series.pyc\u001b[0m in \u001b[0;36mwrapper\u001b[0;34m(self)\u001b[0m\n\u001b[1;32m     78\u001b[0m             \u001b[0;32mreturn\u001b[0m \u001b[0mconverter\u001b[0m\u001b[0;34m(\u001b[0m\u001b[0mself\u001b[0m\u001b[0;34m.\u001b[0m\u001b[0miloc\u001b[0m\u001b[0;34m[\u001b[0m\u001b[0;36m0\u001b[0m\u001b[0;34m]\u001b[0m\u001b[0;34m)\u001b[0m\u001b[0;34m\u001b[0m\u001b[0m\n\u001b[1;32m     79\u001b[0m         raise TypeError(\"cannot convert the series to \"\n\u001b[0;32m---> 80\u001b[0;31m                         \"{0}\".format(str(converter)))\n\u001b[0m\u001b[1;32m     81\u001b[0m \u001b[0;34m\u001b[0m\u001b[0m\n\u001b[1;32m     82\u001b[0m     \u001b[0;32mreturn\u001b[0m \u001b[0mwrapper\u001b[0m\u001b[0;34m\u001b[0m\u001b[0m\n",
      "\u001b[0;31mTypeError\u001b[0m: cannot convert the series to <type 'float'>"
     ]
    }
   ],
   "source": [
    "float(df2['CRSDepTime']) #can't run float on a series - so you'll get an error"
   ]
  },
  {
   "cell_type": "code",
   "execution_count": 78,
   "metadata": {
    "collapsed": false
   },
   "outputs": [
    {
     "data": {
      "text/plain": [
       "0       1955.0\n",
       "1        735.0\n",
       "2        620.0\n",
       "3        930.0\n",
       "4       1755.0\n",
       "5       1915.0\n",
       "6       1830.0\n",
       "7       1040.0\n",
       "8        615.0\n",
       "9       1620.0\n",
       "10       700.0\n",
       "11      1510.0\n",
       "12      1430.0\n",
       "13       715.0\n",
       "14      1700.0\n",
       "15      1020.0\n",
       "16      1425.0\n",
       "17       745.0\n",
       "18      1255.0\n",
       "19      1325.0\n",
       "20       705.0\n",
       "21      1625.0\n",
       "22      1840.0\n",
       "23      1030.0\n",
       "24       800.0\n",
       "25      1455.0\n",
       "26      1255.0\n",
       "27      1925.0\n",
       "28       635.0\n",
       "29       730.0\n",
       "         ...  \n",
       "9970    1630.0\n",
       "9971    1100.0\n",
       "9972    1600.0\n",
       "9973    2000.0\n",
       "9974    1300.0\n",
       "9975     800.0\n",
       "9976    1200.0\n",
       "9977     700.0\n",
       "9978    1600.0\n",
       "9979    1725.0\n",
       "9980     600.0\n",
       "9981    1830.0\n",
       "9982    1905.0\n",
       "9983    1150.0\n",
       "9984    2040.0\n",
       "9985    1440.0\n",
       "9986     815.0\n",
       "9987    1005.0\n",
       "9988     920.0\n",
       "9989    1335.0\n",
       "9990     635.0\n",
       "9991    1720.0\n",
       "9992    1400.0\n",
       "9993    1150.0\n",
       "9994     905.0\n",
       "9995    1955.0\n",
       "9996    1620.0\n",
       "9997    1805.0\n",
       "9998    1430.0\n",
       "9999    1050.0\n",
       "Name: CRSDepTime, dtype: float64"
      ]
     },
     "execution_count": 78,
     "metadata": {},
     "output_type": "execute_result"
    }
   ],
   "source": [
    "df2['CRSDepTime'].apply(float) #using float as a proxy for a continuous variable"
   ]
  },
  {
   "cell_type": "code",
   "execution_count": 79,
   "metadata": {
    "collapsed": false,
    "scrolled": true
   },
   "outputs": [
    {
     "data": {
      "text/plain": [
       "0       1955.0\n",
       "1        735.0\n",
       "2        620.0\n",
       "3        930.0\n",
       "4       1755.0\n",
       "5       1915.0\n",
       "6       1830.0\n",
       "7       1040.0\n",
       "8        615.0\n",
       "9       1620.0\n",
       "10       700.0\n",
       "11      1510.0\n",
       "12      1430.0\n",
       "13       715.0\n",
       "14      1700.0\n",
       "15      1020.0\n",
       "16      1425.0\n",
       "17       745.0\n",
       "18      1255.0\n",
       "19      1325.0\n",
       "20       705.0\n",
       "21      1625.0\n",
       "22      1840.0\n",
       "23      1030.0\n",
       "24       800.0\n",
       "25      1455.0\n",
       "26      1255.0\n",
       "27      1925.0\n",
       "28       635.0\n",
       "29       730.0\n",
       "         ...  \n",
       "9970    1630.0\n",
       "9971    1100.0\n",
       "9972    1600.0\n",
       "9973    2000.0\n",
       "9974    1300.0\n",
       "9975     800.0\n",
       "9976    1200.0\n",
       "9977     700.0\n",
       "9978    1600.0\n",
       "9979    1725.0\n",
       "9980     600.0\n",
       "9981    1830.0\n",
       "9982    1905.0\n",
       "9983    1150.0\n",
       "9984    2040.0\n",
       "9985    1440.0\n",
       "9986     815.0\n",
       "9987    1005.0\n",
       "9988     920.0\n",
       "9989    1335.0\n",
       "9990     635.0\n",
       "9991    1720.0\n",
       "9992    1400.0\n",
       "9993    1150.0\n",
       "9994     905.0\n",
       "9995    1955.0\n",
       "9996    1620.0\n",
       "9997    1805.0\n",
       "9998    1430.0\n",
       "9999    1050.0\n",
       "Name: CRSDepTime, dtype: float64"
      ]
     },
     "execution_count": 79,
     "metadata": {},
     "output_type": "execute_result"
    }
   ],
   "source": [
    "df2['CRSDepTime'].apply(lambda x: float(x))"
   ]
  },
  {
   "cell_type": "code",
   "execution_count": 57,
   "metadata": {
    "collapsed": false
   },
   "outputs": [
    {
     "name": "stderr",
     "output_type": "stream",
     "text": [
      "/Users/jamiew/anaconda/lib/python2.7/site-packages/pandas/core/indexing.py:461: SettingWithCopyWarning: \n",
      "A value is trying to be set on a copy of a slice from a DataFrame.\n",
      "Try using .loc[row_indexer,col_indexer] = value instead\n",
      "\n",
      "See the caveats in the documentation: http://pandas.pydata.org/pandas-docs/stable/indexing.html#indexing-view-versus-copy\n",
      "  self.obj[item] = s\n"
     ]
    }
   ],
   "source": [
    "df2.loc[:, 'CRSDepTime'] = df2['CRSDepTime'].astype(float)"
   ]
  },
  {
   "cell_type": "code",
   "execution_count": 49,
   "metadata": {
    "collapsed": false
   },
   "outputs": [
    {
     "data": {
      "text/plain": [
       "Year                   int64\n",
       "Month                  int64\n",
       "DayofMonth             int64\n",
       "DayOfWeek              int64\n",
       "DepTime              float64\n",
       "CRSDepTime             int64\n",
       "ArrTime              float64\n",
       "CRSArrTime             int64\n",
       "UniqueCarrier         object\n",
       "FlightNum              int64\n",
       "TailNum               object\n",
       "ActualElapsedTime    float64\n",
       "CRSElapsedTime       float64\n",
       "AirTime              float64\n",
       "ArrDelay             float64\n",
       "Origin                object\n",
       "Dest                  object\n",
       "Distance               int64\n",
       "TaxiIn               float64\n",
       "TaxiOut              float64\n",
       "Cancelled              int64\n",
       "CancellationCode      object\n",
       "Diverted               int64\n",
       "CarrierDelay         float64\n",
       "WeatherDelay         float64\n",
       "NASDelay             float64\n",
       "SecurityDelay        float64\n",
       "LateAircraftDelay    float64\n",
       "dtype: object"
      ]
     },
     "execution_count": 49,
     "metadata": {},
     "output_type": "execute_result"
    }
   ],
   "source": [
    "import numpy as np\n",
    "\n",
    "(df.dtypes==np.int64).tolist()\n",
    "\n",
    "df.dtypes"
   ]
  },
  {
   "cell_type": "markdown",
   "metadata": {},
   "source": [
    "### Now as a replacement for get_dummies we have OneHotEncoder\n",
    "\n",
    "+ BUT YOU NEED TO SPECIFY WHICH VARIABLES ARE CATEGORICAL\n",
    "+ Could we use \"integer\" type as a proxy for that?"
   ]
  },
  {
   "cell_type": "code",
   "execution_count": 70,
   "metadata": {
    "collapsed": false
   },
   "outputs": [],
   "source": [
    "from sklearn.preprocessing import OneHotEncoder\n",
    "\n",
    "onehot = OneHotEncoder(categorical_features = \"all\", sparse=False) #Boolean list. Sparse matrix - when u deal with large\n",
    "#data sets - lots of zeros- might see a lot. Instead of storing the zeros. Some limitations w/what u do w Matrix\n",
    "\n",
    "X =onehot.fit(df2[['UniqueCarrier', 'TailNum']])\n",
    "X =onehot.transform(df2[['UniqueCarrier', 'TailNum']])\n",
    "#X =onehot.fit_transform(df2[['UniqueCarrier', 'TailNum']])\n",
    "\n",
    "#instead of just transforming one, it would be easier to feed it the entire data set. \n"
   ]
  },
  {
   "cell_type": "code",
   "execution_count": 64,
   "metadata": {
    "collapsed": false,
    "scrolled": true
   },
   "outputs": [
    {
     "data": {
      "text/plain": [
       "array([[ 1.,  0.,  0., ...,  0.,  0.,  0.],\n",
       "       [ 1.,  0.,  0., ...,  0.,  0.,  0.],\n",
       "       [ 1.,  0.,  0., ...,  0.,  0.,  0.],\n",
       "       ..., \n",
       "       [ 1.,  0.,  0., ...,  0.,  0.,  0.],\n",
       "       [ 1.,  0.,  0., ...,  0.,  0.,  0.],\n",
       "       [ 1.,  0.,  0., ...,  0.,  0.,  0.]])"
      ]
     },
     "execution_count": 64,
     "metadata": {},
     "output_type": "execute_result"
    }
   ],
   "source": [
    "X \n",
    "# shape is most important. 10000 rows and 502 columns, which means 502 unique values between something and something else. \n",
    "#change sparse to False and get the whole matrix\n",
    "#Every unique number in Tail Num has its own (driving most of it)"
   ]
  },
  {
   "cell_type": "code",
   "execution_count": 72,
   "metadata": {
    "collapsed": false
   },
   "outputs": [],
   "source": [
    "#different way to do it than what's shown above\n",
    "\n",
    "from sklearn.preprocessing import OneHotEncoder\n",
    "\n",
    "onehot = OneHotEncoder(categorical_features = is_cat_list, sparse=True) #Boolean list. Sparse matrix - when u deal with large\n",
    "#data sets - lots of zeros- might see a lot. Instead of storing the zeros. Some limitations w/what u do w Matrix\n",
    "\n",
    "X =onehot.fit(df2)\n",
    "X =onehot.transform(df2)\n",
    "#X =onehot.fit_transform(df2[['UniqueCarrier', 'TailNum']])\n",
    "\n",
    "#instead of just transforming one, it would be easier to feed it the entire data set. "
   ]
  },
  {
   "cell_type": "code",
   "execution_count": 73,
   "metadata": {
    "collapsed": false
   },
   "outputs": [
    {
     "data": {
      "text/plain": [
       "501"
      ]
     },
     "execution_count": 73,
     "metadata": {},
     "output_type": "execute_result"
    }
   ],
   "source": [
    "df2['TailNum'].nunique()"
   ]
  },
  {
   "cell_type": "code",
   "execution_count": 74,
   "metadata": {
    "collapsed": false
   },
   "outputs": [
    {
     "name": "stdout",
     "output_type": "stream",
     "text": [
      "(10000, 3131)\n"
     ]
    }
   ],
   "source": [
    "print X.shape"
   ]
  },
  {
   "cell_type": "code",
   "execution_count": 75,
   "metadata": {
    "collapsed": true
   },
   "outputs": [],
   "source": [
    "import numpy as np\n",
    "\n",
    "(df2.dtypes==np.int64).tolist()\n",
    "\n",
    "is_cat_list = (df2.dtypes==np.int64).tolist()"
   ]
  },
  {
   "cell_type": "code",
   "execution_count": 68,
   "metadata": {
    "collapsed": false
   },
   "outputs": [
    {
     "data": {
      "text/plain": [
       "[True,\n",
       " True,\n",
       " True,\n",
       " True,\n",
       " False,\n",
       " False,\n",
       " False,\n",
       " True,\n",
       " True,\n",
       " True,\n",
       " True,\n",
       " False,\n",
       " False,\n",
       " False,\n",
       " False,\n",
       " False,\n",
       " True,\n",
       " True,\n",
       " True,\n",
       " False,\n",
       " False,\n",
       " True,\n",
       " True,\n",
       " True,\n",
       " False,\n",
       " False,\n",
       " False,\n",
       " False,\n",
       " False]"
      ]
     },
     "execution_count": 68,
     "metadata": {},
     "output_type": "execute_result"
    }
   ],
   "source": [
    "is_cat_list #he explained a bunch of stuff here but I was typing off the screen and didn't hear what he said."
   ]
  },
  {
   "cell_type": "markdown",
   "metadata": {},
   "source": [
    "### Note that OneHot Encoder returns a sparse matrix\n",
    "\n",
    "+ What is a sparse matrix?"
   ]
  },
  {
   "cell_type": "code",
   "execution_count": null,
   "metadata": {
    "collapsed": false
   },
   "outputs": [],
   "source": [
    "##This is how big the dataset is\n",
    "\n",
    "X.shape"
   ]
  },
  {
   "cell_type": "markdown",
   "metadata": {},
   "source": [
    "### Assignment part I - 15 minutes\n",
    "\n",
    "+ Using a subsection of the full dataset...\n",
    "    - (otherwise it will be impossibly large)\n",
    "    - Create interaction variables for month and ArrDelay\n",
    "    - Note that Month must first be a dummy variable\n",
    "    - There are many ways to do this"
   ]
  },
  {
   "cell_type": "markdown",
   "metadata": {},
   "source": [
    "### Assignment Part II\n",
    "\n",
    "+ Run a Ridge regression with month dummies, arrival delay and the interaction vars\n",
    "+ Keep track of the coefficients by saving the names to a list\n",
    "+ Which variables are larger than zero? \n",
    "+ How does your model perform on the testing set?"
   ]
  },
  {
   "cell_type": "code",
   "execution_count": 64,
   "metadata": {
    "collapsed": false
   },
   "outputs": [],
   "source": [
    "from sklearn.model_selection import train_test_split\n",
    "\n",
    "\n",
    "X_train, X_test, y_train, y_test = train_test_split(X, y, test_size=0.4, random_state=0)\n"
   ]
  },
  {
   "cell_type": "code",
   "execution_count": 65,
   "metadata": {
    "collapsed": true
   },
   "outputs": [],
   "source": [
    "from sklearn import linear_model\n",
    "lr = linear_model.Ridge(normalize=False)"
   ]
  },
  {
   "cell_type": "code",
   "execution_count": 80,
   "metadata": {
    "collapsed": false
   },
   "outputs": [
    {
     "ename": "NameError",
     "evalue": "name 'lr' is not defined",
     "output_type": "error",
     "traceback": [
      "\u001b[0;31m---------------------------------------------------------------------------\u001b[0m",
      "\u001b[0;31mNameError\u001b[0m                                 Traceback (most recent call last)",
      "\u001b[0;32m<ipython-input-80-71537c0ebf21>\u001b[0m in \u001b[0;36m<module>\u001b[0;34m()\u001b[0m\n\u001b[0;32m----> 1\u001b[0;31m \u001b[0mlr\u001b[0m\u001b[0;34m.\u001b[0m\u001b[0mfit\u001b[0m\u001b[0;34m(\u001b[0m\u001b[0mX_train\u001b[0m\u001b[0;34m,\u001b[0m \u001b[0my_train\u001b[0m\u001b[0;34m)\u001b[0m\u001b[0;34m\u001b[0m\u001b[0m\n\u001b[0m",
      "\u001b[0;31mNameError\u001b[0m: name 'lr' is not defined"
     ]
    }
   ],
   "source": [
    "lr.fit(X_train, y_train)"
   ]
  },
  {
   "cell_type": "code",
   "execution_count": null,
   "metadata": {
    "collapsed": true
   },
   "outputs": [],
   "source": [
    "lr.score(X_test, y_test)"
   ]
  },
  {
   "cell_type": "code",
   "execution_count": null,
   "metadata": {
    "collapsed": true
   },
   "outputs": [],
   "source": []
  }
 ],
 "metadata": {
  "kernelspec": {
   "display_name": "Python 2",
   "language": "python",
   "name": "python2"
  },
  "language_info": {
   "codemirror_mode": {
    "name": "ipython",
    "version": 2
   },
   "file_extension": ".py",
   "mimetype": "text/x-python",
   "name": "python",
   "nbconvert_exporter": "python",
   "pygments_lexer": "ipython2",
   "version": "2.7.11"
  }
 },
 "nbformat": 4,
 "nbformat_minor": 0
}
