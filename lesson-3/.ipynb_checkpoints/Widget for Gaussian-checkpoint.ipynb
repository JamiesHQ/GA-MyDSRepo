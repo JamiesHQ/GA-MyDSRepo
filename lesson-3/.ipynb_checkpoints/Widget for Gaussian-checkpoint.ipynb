{
 "cells": [
  {
   "cell_type": "code",
   "execution_count": 2,
   "metadata": {
    "collapsed": false
   },
   "outputs": [],
   "source": [
    "%matplotlib inline\n",
    "\n",
    "import numpy as np\n",
    "from scipy import stats\n",
    "import matplotlib.pyplot as plt\n",
    "import seaborn as sns\n",
    "\n",
    "\n",
    "from ipywidgets import interact, interactive, fixed\n",
    "import ipywidgets as widgets\n",
    "\n"
   ]
  },
  {
   "cell_type": "code",
   "execution_count": 3,
   "metadata": {
    "collapsed": false
   },
   "outputs": [
    {
     "data": {
      "text/plain": [
       "array([ 10.58028601,  10.46980624,   8.99219445,  10.36470526,\n",
       "        10.61896233,  10.41755158,  10.62232606,   9.94279423,\n",
       "        11.27880354,  12.09908433])"
      ]
     },
     "execution_count": 3,
     "metadata": {},
     "output_type": "execute_result"
    }
   ],
   "source": [
    "stats.norm.rvs(10, size=10)"
   ]
  },
  {
   "cell_type": "code",
   "execution_count": 4,
   "metadata": {
    "collapsed": false
   },
   "outputs": [],
   "source": [
    "import statsmodels.stats.weightstats as sm\n",
    "\n",
    "def plot_gaussian(u=0, n=10000, sd = 1, breaks=100):\n",
    "    \n",
    "    #fig, ax = plt.subplots(1, 1)\n",
    "    fig, ax = plt.subplots(figsize=(9,6))\n",
    "    x = np.linspace(stats.norm.ppf(0.01),\n",
    "                 stats.norm.ppf(0.99), 100)\n",
    "    \n",
    "\n",
    "    r = stats.norm.rvs(size=n, scale=sd).tolist()\n",
    "    \n",
    "    newr = [i+u for i in r]\n",
    "    #newr = np.array(newr)\n",
    "   \n",
    "    ax.hist(r, bins=breaks, normed=True, histtype='stepfilled', color=['teal'], alpha=0.2)\n",
    "    \n",
    "    if u!=0:\n",
    "        ax.hist(newr, bins=breaks, normed=True, histtype='stepfilled', color=['red'], alpha=0.2)\n",
    "    else:\n",
    "        pass\n",
    "    \n",
    "    ax.legend(loc='best', frameon=False)\n",
    "    ax.set_ylabel('normal curve with mean $x$')\n",
    "    ax.set_xlabel('$x$')\n",
    "    \n",
    "    result = sm.ttest_ind(r, newr)\n",
    "    \n",
    "    print np.mean(newr),len(newr), np.mean(r), len(r)\n",
    "\n",
    "    print \"t = \", np.round(result[0], 3)\n",
    "    print \"df = \", np.round(result[2], 3)\n",
    "    print \"p = \", np.round(result[1], 5)\n",
    " \n",
    "    ax.legend()\n"
   ]
  },
  {
   "cell_type": "code",
   "execution_count": null,
   "metadata": {
    "collapsed": false
   },
   "outputs": [],
   "source": []
  },
  {
   "cell_type": "code",
   "execution_count": 5,
   "metadata": {
    "collapsed": false,
    "scrolled": false
   },
   "outputs": [
    {
     "name": "stderr",
     "output_type": "stream",
     "text": [
      "/Users/jamiew/anaconda/lib/python2.7/site-packages/matplotlib/axes/_axes.py:519: UserWarning: No labelled objects found. Use label='...' kwarg on individual plots.\n",
      "  warnings.warn(\"No labelled objects found. \"\n"
     ]
    },
    {
     "name": "stdout",
     "output_type": "stream",
     "text": [
      "1.00274434088 10000 0.00274434088258 10000\n",
      "t =  -70.009\n",
      "df =  19998.0\n",
      "p =  0.0\n"
     ]
    },
    {
     "data": {
      "image/png": "[encoded data removed]",
      "text/plain": [
       "<matplotlib.figure.Figure at 0x11688b2d0>"
      ]
     },
     "metadata": {},
     "output_type": "display_data"
    }
   ],
   "source": [
    "plot_gaussian(u=1, sd = 1, n=10000, breaks=100)"
   ]
  },
  {
   "cell_type": "code",
   "execution_count": 15,
   "metadata": {
    "collapsed": false
   },
   "outputs": [
    {
     "name": "stdout",
     "output_type": "stream",
     "text": [
      "t =  -7.289\n",
      "df =  198.0\n",
      "p =  0.0\n"
     ]
    }
   ],
   "source": [
    "import statsmodels.stats.weightstats as sm\n",
    "\n",
    "r = stats.norm.rvs(size=100)\n",
    "\n",
    "newr = [i+1 for i in r.tolist()]\n",
    "newr = np.array(newr)\n",
    "   \n",
    "\n",
    "result = sm.ttest_ind(r, newr)\n",
    "\n",
    "print \"t = \", np.round(result[0], 3)\n",
    "print \"df = \", np.round(result[2], 3)\n",
    "print \"p = \", np.round(result[1], 3)\n"
   ]
  },
  {
   "cell_type": "code",
   "execution_count": 16,
   "metadata": {
    "collapsed": false
   },
   "outputs": [
    {
     "name": "stdout",
     "output_type": "stream",
     "text": [
      "t = 9.97951979622\n",
      "df =  99.0\n",
      "p =  6.06252144734e-17\n"
     ]
    }
   ],
   "source": [
    "result = sm.ttost_paired(newr, np.zeros(len(newr)), \n",
    "                         low=np.mean(np.zeros(len(newr))), \n",
    "                         upp=np.mean(newr))\n",
    "\n",
    "print \"t =\", result[1][0]\n",
    "print \"df = \", result[1][2]\n",
    "print \"p = \", result[1][1]"
   ]
  },
  {
   "cell_type": "code",
   "execution_count": 142,
   "metadata": {
    "collapsed": false
   },
   "outputs": [
    {
     "data": {
      "text/plain": [
       "(0.5, (10.399067200544462, 7.3806484211266908e-18, 99.0), (0.0, 0.5, 99.0))"
      ]
     },
     "execution_count": 142,
     "metadata": {},
     "output_type": "execute_result"
    }
   ],
   "source": [
    "result"
   ]
  },
  {
   "cell_type": "code",
   "execution_count": null,
   "metadata": {
    "collapsed": true
   },
   "outputs": [],
   "source": []
  },
  {
   "cell_type": "code",
   "execution_count": null,
   "metadata": {
    "collapsed": true
   },
   "outputs": [],
   "source": []
  },
  {
   "cell_type": "code",
   "execution_count": 29,
   "metadata": {
    "collapsed": false
   },
   "outputs": [],
   "source": []
  },
  {
   "cell_type": "code",
   "execution_count": null,
   "metadata": {
    "collapsed": false
   },
   "outputs": [],
   "source": []
  },
  {
   "cell_type": "code",
   "execution_count": 31,
   "metadata": {
    "collapsed": false
   },
   "outputs": [],
   "source": []
  },
  {
   "cell_type": "code",
   "execution_count": null,
   "metadata": {
    "collapsed": false
   },
   "outputs": [],
   "source": []
  },
  {
   "cell_type": "code",
   "execution_count": null,
   "metadata": {
    "collapsed": false
   },
   "outputs": [],
   "source": []
  },
  {
   "cell_type": "code",
   "execution_count": null,
   "metadata": {
    "collapsed": false
   },
   "outputs": [],
   "source": []
  },
  {
   "cell_type": "code",
   "execution_count": null,
   "metadata": {
    "collapsed": false
   },
   "outputs": [],
   "source": []
  },
  {
   "cell_type": "code",
   "execution_count": null,
   "metadata": {
    "collapsed": false
   },
   "outputs": [],
   "source": []
  },
  {
   "cell_type": "code",
   "execution_count": null,
   "metadata": {
    "collapsed": false
   },
   "outputs": [],
   "source": []
  },
  {
   "cell_type": "code",
   "execution_count": null,
   "metadata": {
    "collapsed": false
   },
   "outputs": [],
   "source": []
  },
  {
   "cell_type": "code",
   "execution_count": null,
   "metadata": {
    "collapsed": false
   },
   "outputs": [],
   "source": []
  },
  {
   "cell_type": "code",
   "execution_count": null,
   "metadata": {
    "collapsed": true
   },
   "outputs": [],
   "source": []
  },
  {
   "cell_type": "code",
   "execution_count": null,
   "metadata": {
    "collapsed": true
   },
   "outputs": [],
   "source": []
  },
  {
   "cell_type": "code",
   "execution_count": null,
   "metadata": {
    "collapsed": true
   },
   "outputs": [],
   "source": []
  },
  {
   "cell_type": "code",
   "execution_count": null,
   "metadata": {
    "collapsed": true
   },
   "outputs": [],
   "source": []
  },
  {
   "cell_type": "code",
   "execution_count": null,
   "metadata": {
    "collapsed": true
   },
   "outputs": [],
   "source": []
  }
 ],
 "metadata": {
  "kernelspec": {
   "display_name": "Python 2",
   "language": "python",
   "name": "python2"
  },
  "language_info": {
   "codemirror_mode": {
    "name": "ipython",
    "version": 2
   },
   "file_extension": ".py",
   "mimetype": "text/x-python",
   "name": "python",
   "nbconvert_exporter": "python",
   "pygments_lexer": "ipython2",
   "version": "2.7.11"
  }
 },
 "nbformat": 4,
 "nbformat_minor": 0
}
