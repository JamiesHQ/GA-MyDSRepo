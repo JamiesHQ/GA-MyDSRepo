{
 "cells": [
  {
   "cell_type": "code",
   "execution_count": 12,
   "metadata": {
    "collapsed": false
   },
   "outputs": [],
   "source": [
    "import numpy as np\n",
    "\n",
    "students = [\"Jordan\", \"Efron\",  \"Himani\", \"Farwa\",\n",
    "           \"Greg\", \"Chris\", \"Michael\"]\n"
   ]
  },
  {
   "cell_type": "code",
   "execution_count": 5,
   "metadata": {
    "collapsed": true
   },
   "outputs": [],
   "source": [
    "GOGETTERS = ['IRIS', \"JAMIE\", \"CARTER\"]"
   ]
  },
  {
   "cell_type": "code",
   "execution_count": 6,
   "metadata": {
    "collapsed": false
   },
   "outputs": [
    {
     "name": "stdout",
     "output_type": "stream",
     "text": [
      "IRIS\n",
      "0\n"
     ]
    }
   ],
   "source": [
    "THECHOSEN = np.random.choice(GOGETTERS)\n",
    "\n",
    "print THECHOSEN\n",
    "\n",
    "GOGETTERS = [i for i in THECHOSEN if i not in THECHOSEN]\n",
    "\n",
    "print len(GOGETTERS)"
   ]
  },
  {
   "cell_type": "code",
   "execution_count": 20,
   "metadata": {
    "collapsed": false
   },
   "outputs": [
    {
     "name": "stdout",
     "output_type": "stream",
     "text": [
      "Farwa\n",
      "0\n"
     ]
    }
   ],
   "source": [
    "THECHOSEN = np.random.choice(students)\n",
    "\n",
    "print THECHOSEN\n",
    "\n",
    "students = [i for i in students if i not in THECHOSEN]\n",
    "\n",
    "print len(students)"
   ]
  },
  {
   "cell_type": "code",
   "execution_count": 19,
   "metadata": {
    "collapsed": false
   },
   "outputs": [
    {
     "data": {
      "text/plain": [
       "['Farwa']"
      ]
     },
     "execution_count": 19,
     "metadata": {},
     "output_type": "execute_result"
    }
   ],
   "source": [
    "students"
   ]
  },
  {
   "cell_type": "code",
   "execution_count": null,
   "metadata": {
    "collapsed": true
   },
   "outputs": [],
   "source": []
  },
  {
   "cell_type": "code",
   "execution_count": 5,
   "metadata": {
    "collapsed": true
   },
   "outputs": [],
   "source": [
    "students2 = [\"Neel\", \"Jordan\", \"Rick\", \"Brianna\", \"Efron\", \"Jamie\", \"Himani\", \n",
    "           \"Kevin\", \"Melanie\", \"Ashwini\", \"Aamir\", \"Greg\", \"Chris\", \"Avery\", \n",
    "           \"Niyi\", \"Carter\", \"Tanner\"]\n",
    "\n",
    "\n",
    "\n",
    "#students2 = [\"Neel\", \"Jordan\", \"Farwa\", \"Richard\", \"Rick, \"\"Brianna\", \"Efron\", \"Jamie\", \"Himani\", \n",
    "#           \"Kevin\", \"Melanie\", \"Ashwini\", \"Aamir\", \"Greg\", \"Micheal\", \"Chris\", \"Avery\", \n",
    "#           \"Niyi\", \"Carter\", \"Tanner\", \"Iris\"]\n"
   ]
  },
  {
   "cell_type": "code",
   "execution_count": null,
   "metadata": {
    "collapsed": true
   },
   "outputs": [],
   "source": []
  },
  {
   "cell_type": "code",
   "execution_count": 7,
   "metadata": {
    "collapsed": false
   },
   "outputs": [
    {
     "name": "stdout",
     "output_type": "stream",
     "text": [
      "Avery\n",
      "16\n"
     ]
    }
   ],
   "source": [
    "THECHOSEN2 = np.random.choice(students)\n",
    "\n",
    "print THECHOSEN2\n",
    "\n",
    "students2 = [i for i in students2 if i not in THECHOSEN2]\n",
    "\n",
    "print len(students)"
   ]
  },
  {
   "cell_type": "code",
   "execution_count": 11,
   "metadata": {
    "collapsed": true
   },
   "outputs": [],
   "source": [
    "Returned = ['Melanie', 'Michael', 'Kevin', 'Jamie', \n",
    "            'Farwa', 'Carter', 'Ashwini', 'Greg', 'Jordan', 'Chris', 'Niyi', 'Neel', \"Tanner\"]\n",
    "\n",
    "students2 = [\"Neel\", \"Jordan\", \"Farwa\", \"Richard\", \"Rick\", \"Brianna\", \"Efron\", \"Jamie\", \"Himani\", \n",
    "           \"Kevin\", \"Melanie\", \"Ashwini\", \"Aamir\", \"Greg\", \"Michael\", \"Chris\", \"Avery\", \n",
    "           \"Niyi\", \"Carter\", \"Tanner\", \"Iris\"]"
   ]
  },
  {
   "cell_type": "code",
   "execution_count": 12,
   "metadata": {
    "collapsed": false
   },
   "outputs": [
    {
     "data": {
      "text/plain": [
       "['Richard', 'Rick', 'Brianna', 'Efron', 'Himani', 'Aamir', 'Avery', 'Iris']"
      ]
     },
     "execution_count": 12,
     "metadata": {},
     "output_type": "execute_result"
    }
   ],
   "source": [
    "missing = [i for i in students2 if i not in Returned]\n",
    "\n",
    "missing"
   ]
  },
  {
   "cell_type": "code",
   "execution_count": null,
   "metadata": {
    "collapsed": true
   },
   "outputs": [],
   "source": []
  }
 ],
 "metadata": {
  "kernelspec": {
   "display_name": "Python 2",
   "language": "python",
   "name": "python2"
  },
  "language_info": {
   "codemirror_mode": {
    "name": "ipython",
    "version": 2
   },
   "file_extension": ".py",
   "mimetype": "text/x-python",
   "name": "python",
   "nbconvert_exporter": "python",
   "pygments_lexer": "ipython2",
   "version": "2.7.11"
  }
 },
 "nbformat": 4,
 "nbformat_minor": 0
}
