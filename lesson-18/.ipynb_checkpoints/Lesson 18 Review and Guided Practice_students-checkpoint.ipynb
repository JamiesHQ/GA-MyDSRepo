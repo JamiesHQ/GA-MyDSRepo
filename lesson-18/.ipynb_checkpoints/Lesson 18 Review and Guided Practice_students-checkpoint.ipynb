{
 "cells": [
  {
   "cell_type": "markdown",
   "metadata": {},
   "source": [
    "### Problem solving exercise\n",
    "\n",
    "+ Because I love burritos & die inside whenever I order from chipotle, we're analyzing a chipotle dataset! \n",
    "\n",
    "+ The goal is to string together the skills we've worked on over the last few months\n",
    "\n",
    "#### RULES\n",
    "\n",
    "+ I will not be giving out answers! (ok maybe some hints if you get *really* stuck) \n",
    "+ You will solve this together as a class\n",
    "+ When someone figures something out, they can come to the board and present their solution to the class\n",
    "    + Alternative solutions can also be presented\n",
    "    \n",
    "##### REWARDS:\n",
    "+ There will be a happy hour after this class\n",
    "+ Students with the most accurate models will be eligible to vote on the bar! \n",
    "    + Any models with accuracy within a 5% of the most accurate model  \n",
    "    + So if the best model is 82.2%, we'll also select anyone with accuracy greater than 78.1%\n",
    "+ Student who presents the most solutions will get a free drink! (or alternative if you don't drink) \n",
    "    + No ties! Only one student can win this!\n",
    "\n",
    "#### Cleaning Data\n",
    "\n",
    "+ We only briefly covered cleaning data\n",
    "+ You'll need to rely more on google and logic than class notes here\n",
    "+ Cleaning data is something you just need to learn by doing\n",
    "+ After cleaning, we'll run a machine learning algorithm to predict the price of an order\n",
    "\n",
    "#### Preprocessing & ML \n",
    "\n",
    "+ We've covered this in class, but this time you're really driving the ship\n",
    "+ Get your data into the right format, then start training your algorithm! \n",
    "\n"
   ]
  },
  {
   "cell_type": "markdown",
   "metadata": {},
   "source": [
    "### That's it! GO FOR IT! \n",
    "+ I believe in all of you!"
   ]
  },
  {
   "cell_type": "markdown",
   "metadata": {},
   "source": [
    "### First import your dataset\n",
    "\n",
    "+ hint - examine how the values are separated \n",
    "+ What's the difference between a tsv and csv?\n"
   ]
  },
  {
   "cell_type": "code",
   "execution_count": null,
   "metadata": {
    "collapsed": true
   },
   "outputs": [],
   "source": [
    "### Code here"
   ]
  },
  {
   "cell_type": "markdown",
   "metadata": {},
   "source": [
    "## Next, clean up \"choice description\"\n",
    "\n",
    "+ What do the values look like? \n",
    "+ We're going to plug this into count vectorizer, later\n",
    "+ How can we clean this up?\n",
    "\n",
    "+ Check out a package called \"re\" for regular expressions\n",
    "+ there are multiple ways to solve this problem"
   ]
  },
  {
   "cell_type": "code",
   "execution_count": 2,
   "metadata": {
    "collapsed": false
   },
   "outputs": [],
   "source": [
    "### code here"
   ]
  },
  {
   "cell_type": "markdown",
   "metadata": {},
   "source": [
    "### Next, clean up \"item price\" \n",
    "\n",
    "+ What can you do here? \n",
    "+ This will be our outcome variable\n",
    "+ How can we make this easier to read? "
   ]
  },
  {
   "cell_type": "code",
   "execution_count": 3,
   "metadata": {
    "collapsed": false
   },
   "outputs": [],
   "source": [
    "### code here"
   ]
  },
  {
   "cell_type": "code",
   "execution_count": 4,
   "metadata": {
    "collapsed": false
   },
   "outputs": [
    {
     "data": {
      "text/html": [
       "<div>\n",
       "<table border=\"1\" class=\"dataframe\">\n",
       "  <thead>\n",
       "    <tr style=\"text-align: right;\">\n",
       "      <th></th>\n",
       "      <th>order_id</th>\n",
       "      <th>quantity</th>\n",
       "      <th>item_name</th>\n",
       "      <th>choice_description</th>\n",
       "      <th>item_price</th>\n",
       "    </tr>\n",
       "  </thead>\n",
       "  <tbody>\n",
       "    <tr>\n",
       "      <th>0</th>\n",
       "      <td>1</td>\n",
       "      <td>1</td>\n",
       "      <td>Chips and Fresh Tomato Salsa</td>\n",
       "      <td>[none]</td>\n",
       "      <td>2.39</td>\n",
       "    </tr>\n",
       "    <tr>\n",
       "      <th>1</th>\n",
       "      <td>1</td>\n",
       "      <td>1</td>\n",
       "      <td>Izze</td>\n",
       "      <td>[Clementine]</td>\n",
       "      <td>3.39</td>\n",
       "    </tr>\n",
       "    <tr>\n",
       "      <th>2</th>\n",
       "      <td>1</td>\n",
       "      <td>1</td>\n",
       "      <td>Nantucket Nectar</td>\n",
       "      <td>[Apple]</td>\n",
       "      <td>3.39</td>\n",
       "    </tr>\n",
       "    <tr>\n",
       "      <th>3</th>\n",
       "      <td>1</td>\n",
       "      <td>1</td>\n",
       "      <td>Chips and Tomatillo-Green Chili Salsa</td>\n",
       "      <td>[none]</td>\n",
       "      <td>2.39</td>\n",
       "    </tr>\n",
       "    <tr>\n",
       "      <th>4</th>\n",
       "      <td>2</td>\n",
       "      <td>2</td>\n",
       "      <td>Chicken Bowl</td>\n",
       "      <td>[Tomatillo, Red, Chili, Salsa, Hot, Black, Bea...</td>\n",
       "      <td>16.98</td>\n",
       "    </tr>\n",
       "  </tbody>\n",
       "</table>\n",
       "</div>"
      ],
      "text/plain": [
       "   order_id  quantity                              item_name  \\\n",
       "0         1         1           Chips and Fresh Tomato Salsa   \n",
       "1         1         1                                   Izze   \n",
       "2         1         1                       Nantucket Nectar   \n",
       "3         1         1  Chips and Tomatillo-Green Chili Salsa   \n",
       "4         2         2                           Chicken Bowl   \n",
       "\n",
       "                                  choice_description item_price  \n",
       "0                                             [none]      2.39   \n",
       "1                                       [Clementine]      3.39   \n",
       "2                                            [Apple]      3.39   \n",
       "3                                             [none]      2.39   \n",
       "4  [Tomatillo, Red, Chili, Salsa, Hot, Black, Bea...     16.98   "
      ]
     },
     "execution_count": 4,
     "metadata": {},
     "output_type": "execute_result"
    }
   ],
   "source": [
    "### code here"
   ]
  },
  {
   "cell_type": "code",
   "execution_count": null,
   "metadata": {
    "collapsed": false
   },
   "outputs": [],
   "source": []
  },
  {
   "cell_type": "markdown",
   "metadata": {},
   "source": [
    "### Now Preprocess your data! \n",
    "\n",
    "+ Use a vectorizer of your choice!\n",
    "\n",
    "+ Consider a dimension reduction technique! \n",
    "\n",
    "    + PCA? SVD? LDA?"
   ]
  },
  {
   "cell_type": "code",
   "execution_count": 5,
   "metadata": {
    "collapsed": false
   },
   "outputs": [
    {
     "name": "stdout",
     "output_type": "stream",
     "text": [
      "done in 0.173s.\n"
     ]
    }
   ],
   "source": [
    "## code here\n"
   ]
  },
  {
   "cell_type": "code",
   "execution_count": 6,
   "metadata": {
    "collapsed": false
   },
   "outputs": [],
   "source": [
    "### code here"
   ]
  },
  {
   "cell_type": "code",
   "execution_count": null,
   "metadata": {
    "collapsed": true
   },
   "outputs": [],
   "source": []
  },
  {
   "cell_type": "code",
   "execution_count": 7,
   "metadata": {
    "collapsed": false
   },
   "outputs": [
    {
     "data": {
      "text/html": [
       "<div>\n",
       "<table border=\"1\" class=\"dataframe\">\n",
       "  <thead>\n",
       "    <tr style=\"text-align: right;\">\n",
       "      <th></th>\n",
       "      <th>order_id</th>\n",
       "      <th>quantity</th>\n",
       "      <th>Adobo</th>\n",
       "      <th>Adobo Marinated</th>\n",
       "      <th>Adobo Marinated Grilled</th>\n",
       "      <th>Adobo Marinated Grilled Chicken</th>\n",
       "      <th>Adobo Marinated Grilled Steak</th>\n",
       "      <th>Apple</th>\n",
       "      <th>Banana</th>\n",
       "      <th>Barbacoa</th>\n",
       "      <th>...</th>\n",
       "      <th>tomato</th>\n",
       "      <th>tomato salsa</th>\n",
       "      <th>veggie</th>\n",
       "      <th>veggie bowl</th>\n",
       "      <th>veggie burrito</th>\n",
       "      <th>veggie salad</th>\n",
       "      <th>veggie salad bowl</th>\n",
       "      <th>veggie soft</th>\n",
       "      <th>veggie soft tacos</th>\n",
       "      <th>water</th>\n",
       "    </tr>\n",
       "  </thead>\n",
       "  <tbody>\n",
       "    <tr>\n",
       "      <th>0</th>\n",
       "      <td>1</td>\n",
       "      <td>1</td>\n",
       "      <td>0</td>\n",
       "      <td>0</td>\n",
       "      <td>0</td>\n",
       "      <td>0</td>\n",
       "      <td>0</td>\n",
       "      <td>0</td>\n",
       "      <td>0</td>\n",
       "      <td>0</td>\n",
       "      <td>...</td>\n",
       "      <td>1</td>\n",
       "      <td>1</td>\n",
       "      <td>0</td>\n",
       "      <td>0</td>\n",
       "      <td>0</td>\n",
       "      <td>0</td>\n",
       "      <td>0</td>\n",
       "      <td>0</td>\n",
       "      <td>0</td>\n",
       "      <td>0</td>\n",
       "    </tr>\n",
       "    <tr>\n",
       "      <th>1</th>\n",
       "      <td>1</td>\n",
       "      <td>1</td>\n",
       "      <td>0</td>\n",
       "      <td>0</td>\n",
       "      <td>0</td>\n",
       "      <td>0</td>\n",
       "      <td>0</td>\n",
       "      <td>0</td>\n",
       "      <td>0</td>\n",
       "      <td>0</td>\n",
       "      <td>...</td>\n",
       "      <td>0</td>\n",
       "      <td>0</td>\n",
       "      <td>0</td>\n",
       "      <td>0</td>\n",
       "      <td>0</td>\n",
       "      <td>0</td>\n",
       "      <td>0</td>\n",
       "      <td>0</td>\n",
       "      <td>0</td>\n",
       "      <td>0</td>\n",
       "    </tr>\n",
       "    <tr>\n",
       "      <th>2</th>\n",
       "      <td>1</td>\n",
       "      <td>1</td>\n",
       "      <td>0</td>\n",
       "      <td>0</td>\n",
       "      <td>0</td>\n",
       "      <td>0</td>\n",
       "      <td>0</td>\n",
       "      <td>1</td>\n",
       "      <td>0</td>\n",
       "      <td>0</td>\n",
       "      <td>...</td>\n",
       "      <td>0</td>\n",
       "      <td>0</td>\n",
       "      <td>0</td>\n",
       "      <td>0</td>\n",
       "      <td>0</td>\n",
       "      <td>0</td>\n",
       "      <td>0</td>\n",
       "      <td>0</td>\n",
       "      <td>0</td>\n",
       "      <td>0</td>\n",
       "    </tr>\n",
       "    <tr>\n",
       "      <th>3</th>\n",
       "      <td>1</td>\n",
       "      <td>1</td>\n",
       "      <td>0</td>\n",
       "      <td>0</td>\n",
       "      <td>0</td>\n",
       "      <td>0</td>\n",
       "      <td>0</td>\n",
       "      <td>0</td>\n",
       "      <td>0</td>\n",
       "      <td>0</td>\n",
       "      <td>...</td>\n",
       "      <td>0</td>\n",
       "      <td>0</td>\n",
       "      <td>0</td>\n",
       "      <td>0</td>\n",
       "      <td>0</td>\n",
       "      <td>0</td>\n",
       "      <td>0</td>\n",
       "      <td>0</td>\n",
       "      <td>0</td>\n",
       "      <td>0</td>\n",
       "    </tr>\n",
       "    <tr>\n",
       "      <th>4</th>\n",
       "      <td>2</td>\n",
       "      <td>2</td>\n",
       "      <td>0</td>\n",
       "      <td>0</td>\n",
       "      <td>0</td>\n",
       "      <td>0</td>\n",
       "      <td>0</td>\n",
       "      <td>0</td>\n",
       "      <td>0</td>\n",
       "      <td>0</td>\n",
       "      <td>...</td>\n",
       "      <td>0</td>\n",
       "      <td>0</td>\n",
       "      <td>0</td>\n",
       "      <td>0</td>\n",
       "      <td>0</td>\n",
       "      <td>0</td>\n",
       "      <td>0</td>\n",
       "      <td>0</td>\n",
       "      <td>0</td>\n",
       "      <td>0</td>\n",
       "    </tr>\n",
       "  </tbody>\n",
       "</table>\n",
       "<p>5 rows × 1068 columns</p>\n",
       "</div>"
      ],
      "text/plain": [
       "   order_id  quantity  Adobo  Adobo Marinated  Adobo Marinated Grilled  \\\n",
       "0         1         1      0                0                        0   \n",
       "1         1         1      0                0                        0   \n",
       "2         1         1      0                0                        0   \n",
       "3         1         1      0                0                        0   \n",
       "4         2         2      0                0                        0   \n",
       "\n",
       "   Adobo Marinated Grilled Chicken  Adobo Marinated Grilled Steak  Apple  \\\n",
       "0                                0                              0      0   \n",
       "1                                0                              0      0   \n",
       "2                                0                              0      1   \n",
       "3                                0                              0      0   \n",
       "4                                0                              0      0   \n",
       "\n",
       "   Banana  Barbacoa  ...    tomato  tomato salsa  veggie  veggie bowl  \\\n",
       "0       0         0  ...         1             1       0            0   \n",
       "1       0         0  ...         0             0       0            0   \n",
       "2       0         0  ...         0             0       0            0   \n",
       "3       0         0  ...         0             0       0            0   \n",
       "4       0         0  ...         0             0       0            0   \n",
       "\n",
       "   veggie burrito  veggie salad  veggie salad bowl  veggie soft  \\\n",
       "0               0             0                  0            0   \n",
       "1               0             0                  0            0   \n",
       "2               0             0                  0            0   \n",
       "3               0             0                  0            0   \n",
       "4               0             0                  0            0   \n",
       "\n",
       "   veggie soft tacos  water  \n",
       "0                  0      0  \n",
       "1                  0      0  \n",
       "2                  0      0  \n",
       "3                  0      0  \n",
       "4                  0      0  \n",
       "\n",
       "[5 rows x 1068 columns]"
      ]
     },
     "execution_count": 7,
     "metadata": {},
     "output_type": "execute_result"
    }
   ],
   "source": [
    "### code here"
   ]
  },
  {
   "cell_type": "code",
   "execution_count": 8,
   "metadata": {
    "collapsed": false,
    "scrolled": true
   },
   "outputs": [
    {
     "data": {
      "text/plain": [
       "<matplotlib.axes._subplots.AxesSubplot at 0x11dcbad50>"
      ]
     },
     "execution_count": 8,
     "metadata": {},
     "output_type": "execute_result"
    },
    {
     "data": {
      "image/png": "[encoded data removed]",
      "text/plain": [
       "<matplotlib.figure.Figure at 0x11dcba590>"
      ]
     },
     "metadata": {},
     "output_type": "display_data"
    }
   ],
   "source": [
    "### code here"
   ]
  },
  {
   "cell_type": "code",
   "execution_count": 98,
   "metadata": {
    "collapsed": false
   },
   "outputs": [],
   "source": [
    "### code here"
   ]
  },
  {
   "cell_type": "code",
   "execution_count": 99,
   "metadata": {
    "collapsed": false
   },
   "outputs": [
    {
     "data": {
      "text/plain": [
       "PolynomialFeatures(degree=3, include_bias=True, interaction_only=False)"
      ]
     },
     "execution_count": 99,
     "metadata": {},
     "output_type": "execute_result"
    }
   ],
   "source": [
    "### code here"
   ]
  },
  {
   "cell_type": "code",
   "execution_count": 100,
   "metadata": {
    "collapsed": true
   },
   "outputs": [],
   "source": [
    "### code here"
   ]
  },
  {
   "cell_type": "code",
   "execution_count": null,
   "metadata": {
    "collapsed": false
   },
   "outputs": [],
   "source": []
  },
  {
   "cell_type": "code",
   "execution_count": 101,
   "metadata": {
    "collapsed": false
   },
   "outputs": [
    {
     "data": {
      "text/plain": [
       "(4622, 1771)"
      ]
     },
     "execution_count": 101,
     "metadata": {},
     "output_type": "execute_result"
    }
   ],
   "source": [
    "### code here"
   ]
  },
  {
   "cell_type": "code",
   "execution_count": 102,
   "metadata": {
    "collapsed": false
   },
   "outputs": [
    {
     "data": {
      "text/plain": [
       "array([[  1.00000000e+00,   1.00127227e+00,  -6.14030396e-02, ...,\n",
       "         -8.55296184e-03,   1.48084207e-03,  -2.56389923e-04],\n",
       "       [  1.00000000e+00,   1.00088261e+00,   1.10092049e-01, ...,\n",
       "         -2.20188308e-03,  -7.93849550e-04,  -2.86208252e-04],\n",
       "       [  1.00000000e+00,   1.00089287e+00,   1.05998999e-01, ...,\n",
       "         -2.42340018e-03,  -8.50705060e-04,  -2.98629631e-04],\n",
       "       ..., \n",
       "       [  1.00000000e+00,   1.83400201e+03,  -7.28452261e-01, ...,\n",
       "         -4.25149601e-04,   1.26748390e-03,  -3.77870621e-03],\n",
       "       [  1.00000000e+00,   1.83400112e+03,  -1.22197072e+00, ...,\n",
       "          4.52352696e-05,  -2.13357577e-04,   1.00632661e-03],\n",
       "       [  1.00000000e+00,   1.83400171e+03,  -8.92547840e-01, ...,\n",
       "         -2.69133519e-08,   4.75594077e-07,  -8.40436846e-06]])"
      ]
     },
     "execution_count": 102,
     "metadata": {},
     "output_type": "execute_result"
    }
   ],
   "source": [
    "### code here"
   ]
  },
  {
   "cell_type": "code",
   "execution_count": 124,
   "metadata": {
    "collapsed": true
   },
   "outputs": [],
   "source": [
    "### code here"
   ]
  },
  {
   "cell_type": "markdown",
   "metadata": {},
   "source": [
    "### Now train your model! \n",
    "+ What model you select is up to you\n",
    "+ check out sklearn documentation!"
   ]
  },
  {
   "cell_type": "code",
   "execution_count": null,
   "metadata": {
    "collapsed": false
   },
   "outputs": [],
   "source": []
  },
  {
   "cell_type": "code",
   "execution_count": 125,
   "metadata": {
    "collapsed": false
   },
   "outputs": [
    {
     "data": {
      "text/plain": [
       "Ridge(alpha=1.0, copy_X=True, fit_intercept=True, max_iter=None,\n",
       "   normalize=True, random_state=None, solver='auto', tol=0.001)"
      ]
     },
     "execution_count": 125,
     "metadata": {},
     "output_type": "execute_result"
    }
   ],
   "source": [
    "### code here"
   ]
  },
  {
   "cell_type": "markdown",
   "metadata": {},
   "source": [
    "### Now test your model!"
   ]
  },
  {
   "cell_type": "code",
   "execution_count": 127,
   "metadata": {
    "collapsed": true
   },
   "outputs": [],
   "source": [
    "### code here"
   ]
  },
  {
   "cell_type": "code",
   "execution_count": 132,
   "metadata": {
    "collapsed": false
   },
   "outputs": [
    {
     "data": {
      "text/plain": [
       "0.82775185486261316"
      ]
     },
     "execution_count": 132,
     "metadata": {},
     "output_type": "execute_result"
    }
   ],
   "source": [
    "### code here"
   ]
  },
  {
   "cell_type": "code",
   "execution_count": null,
   "metadata": {
    "collapsed": true
   },
   "outputs": [],
   "source": []
  },
  {
   "cell_type": "code",
   "execution_count": null,
   "metadata": {
    "collapsed": true
   },
   "outputs": [],
   "source": []
  },
  {
   "cell_type": "code",
   "execution_count": null,
   "metadata": {
    "collapsed": true
   },
   "outputs": [],
   "source": []
  },
  {
   "cell_type": "code",
   "execution_count": null,
   "metadata": {
    "collapsed": true
   },
   "outputs": [],
   "source": []
  },
  {
   "cell_type": "code",
   "execution_count": null,
   "metadata": {
    "collapsed": true
   },
   "outputs": [],
   "source": []
  },
  {
   "cell_type": "code",
   "execution_count": null,
   "metadata": {
    "collapsed": true
   },
   "outputs": [],
   "source": []
  }
 ],
 "metadata": {
  "kernelspec": {
   "display_name": "Python 2",
   "language": "python",
   "name": "python2"
  },
  "language_info": {
   "codemirror_mode": {
    "name": "ipython",
    "version": 2
   },
   "file_extension": ".py",
   "mimetype": "text/x-python",
   "name": "python",
   "nbconvert_exporter": "python",
   "pygments_lexer": "ipython2",
   "version": "2.7.11"
  }
 },
 "nbformat": 4,
 "nbformat_minor": 0
}
