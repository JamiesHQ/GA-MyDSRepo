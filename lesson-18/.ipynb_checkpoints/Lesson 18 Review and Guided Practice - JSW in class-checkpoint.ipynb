{
 "cells": [
  {
   "cell_type": "markdown",
   "metadata": {},
   "source": [
    "### Problem solving exercise\n",
    "\n",
    "+ Because I love burritos we're analyzing a chipotle dataset! \n",
    "\n",
    "+ The goal is to string together the skills we've worked on over the last few months\n",
    "\n",
    "#### RULES\n",
    "\n",
    "+ I will not be giving out answers! (ok maybe some hints if you get *really* stuck) \n",
    "+ You will solve this together as a class\n",
    "+ When someone figures something out, they can come to the board and present their solution to the class\n",
    "    + Alternative solutions can also be presented\n",
    "    \n",
    "##### REWARDS:\n",
    "+ There will be a happy hour after this class\n",
    "+ Students with the most accurate models will be eligible to vote on the bar we go to!\n",
    "    + Any models with accuracy within a 5% of the most accurate model  \n",
    "    + So if the best model is 82.2%, we'll also select anyone with accuracy greater than 78.1%\n",
    "+ Student who presents the most solutions presented to the class will get a free drink! (or alternative if you don't drink) \n",
    "    + No ties! Only one student can win this!\n",
    "\n",
    "\n",
    "### Outline:\n",
    "\n",
    "#### Cleaning Data\n",
    "\n",
    "+ We only briefly covered cleaning data\n",
    "+ You'll need to rely more on google and logic than class notes here\n",
    "+ Cleaning data is something you just need to learn by doing\n",
    "+ After cleaning, we'll run a machine learning algorithm to predict the price of an order\n",
    "\n",
    "#### Preprocessing & ML \n",
    "\n",
    "+ We've covered this in class, but this time you're really driving the ship\n",
    "+ Get your data into the right format, then start training your algorithm! \n",
    "\n"
   ]
  },
  {
   "cell_type": "markdown",
   "metadata": {},
   "source": [
    "### That's it! GO FOR IT! \n",
    "+ I believe in all of you!"
   ]
  },
  {
   "cell_type": "markdown",
   "metadata": {},
   "source": [
    "### First import your dataset\n",
    "\n",
    "+ hint - examine how the values are separated \n",
    "+ What's the difference between a tsv and csv?\n"
   ]
  },
  {
   "cell_type": "code",
   "execution_count": null,
   "metadata": {
    "collapsed": true
   },
   "outputs": [],
   "source": [
    "### Code here"
   ]
  },
  {
   "cell_type": "markdown",
   "metadata": {},
   "source": [
    "## Next, clean up \"choice description\"\n",
    "\n",
    "+ What do the values look like? \n",
    "+ We're going to plug this into count vectorizer, later\n",
    "+ How can we clean this up?\n",
    "\n",
    "+ Check out a package called \"re\" for regular expressions\n",
    "+ there are multiple ways to solve this problem"
   ]
  },
  {
   "cell_type": "code",
   "execution_count": null,
   "metadata": {
    "collapsed": false
   },
   "outputs": [],
   "source": [
    "### code here"
   ]
  },
  {
   "cell_type": "markdown",
   "metadata": {},
   "source": [
    "### Next, clean up \"item price\" \n",
    "\n",
    "+ What can you do here? \n",
    "+ This will be our outcome variable\n",
    "+ How can we make this easier to read? "
   ]
  },
  {
   "cell_type": "code",
   "execution_count": null,
   "metadata": {
    "collapsed": false
   },
   "outputs": [],
   "source": [
    "### code here"
   ]
  },
  {
   "cell_type": "code",
   "execution_count": null,
   "metadata": {
    "collapsed": false
   },
   "outputs": [],
   "source": [
    "### code here"
   ]
  },
  {
   "cell_type": "code",
   "execution_count": null,
   "metadata": {
    "collapsed": false
   },
   "outputs": [],
   "source": []
  },
  {
   "cell_type": "markdown",
   "metadata": {},
   "source": [
    "### Now Preprocess your data! \n",
    "\n",
    "+ Use a vectorizer of your choice!\n",
    "\n",
    "+ Consider a dimension reduction technique! \n",
    "\n",
    "    + PCA? SVD? LDA?"
   ]
  },
  {
   "cell_type": "code",
   "execution_count": null,
   "metadata": {
    "collapsed": false
   },
   "outputs": [],
   "source": [
    "## code here\n"
   ]
  },
  {
   "cell_type": "code",
   "execution_count": null,
   "metadata": {
    "collapsed": false
   },
   "outputs": [],
   "source": [
    "### code here"
   ]
  },
  {
   "cell_type": "code",
   "execution_count": null,
   "metadata": {
    "collapsed": true
   },
   "outputs": [],
   "source": []
  },
  {
   "cell_type": "markdown",
   "metadata": {},
   "source": [
    "### Now train your model! \n",
    "+ What model you select is up to you\n",
    "+ check out sklearn documentation!"
   ]
  },
  {
   "cell_type": "code",
   "execution_count": null,
   "metadata": {
    "collapsed": false
   },
   "outputs": [],
   "source": []
  },
  {
   "cell_type": "code",
   "execution_count": null,
   "metadata": {
    "collapsed": false
   },
   "outputs": [],
   "source": [
    "### code here"
   ]
  },
  {
   "cell_type": "markdown",
   "metadata": {},
   "source": [
    "### Now test your model!"
   ]
  },
  {
   "cell_type": "code",
   "execution_count": null,
   "metadata": {
    "collapsed": true
   },
   "outputs": [],
   "source": [
    "### code here"
   ]
  },
  {
   "cell_type": "code",
   "execution_count": null,
   "metadata": {
    "collapsed": false
   },
   "outputs": [],
   "source": [
    "### code here"
   ]
  },
  {
   "cell_type": "code",
   "execution_count": null,
   "metadata": {
    "collapsed": true
   },
   "outputs": [],
   "source": []
  },
  {
   "cell_type": "code",
   "execution_count": null,
   "metadata": {
    "collapsed": true
   },
   "outputs": [],
   "source": []
  },
  {
   "cell_type": "code",
   "execution_count": null,
   "metadata": {
    "collapsed": true
   },
   "outputs": [],
   "source": []
  },
  {
   "cell_type": "code",
   "execution_count": null,
   "metadata": {
    "collapsed": true
   },
   "outputs": [],
   "source": []
  },
  {
   "cell_type": "code",
   "execution_count": null,
   "metadata": {
    "collapsed": true
   },
   "outputs": [],
   "source": []
  },
  {
   "cell_type": "code",
   "execution_count": null,
   "metadata": {
    "collapsed": true
   },
   "outputs": [],
   "source": []
  }
 ],
 "metadata": {
  "kernelspec": {
   "display_name": "Python 2",
   "language": "python",
   "name": "python2"
  },
  "language_info": {
   "codemirror_mode": {
    "name": "ipython",
    "version": 2
   },
   "file_extension": ".py",
   "mimetype": "text/x-python",
   "name": "python",
   "nbconvert_exporter": "python",
   "pygments_lexer": "ipython2",
   "version": "2.7.11"
  }
 },
 "nbformat": 4,
 "nbformat_minor": 0
}
